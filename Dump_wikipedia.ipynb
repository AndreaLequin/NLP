{
 "cells": [
  {
   "cell_type": "markdown",
   "metadata": {},
   "source": [
    "## Use of BeautifulSoup for parsing HTML"
   ]
  },
  {
   "cell_type": "code",
   "execution_count": 19,
   "metadata": {
    "collapsed": true
   },
   "outputs": [],
   "source": [
    "import requests\n",
    "from bs4 import BeautifulSoup"
   ]
  },
  {
   "cell_type": "code",
   "execution_count": 20,
   "metadata": {
    "collapsed": true
   },
   "outputs": [],
   "source": [
    "base_url = 'https://dumps.wikimedia.org/enwiki/'"
   ]
  },
  {
   "cell_type": "code",
   "execution_count": 21,
   "metadata": {
    "collapsed": true
   },
   "outputs": [],
   "source": [
    "index = requests.get(base_url).text"
   ]
  },
  {
   "cell_type": "code",
   "execution_count": 22,
   "metadata": {
    "collapsed": true
   },
   "outputs": [],
   "source": [
    "soup_index = BeautifulSoup(index, 'html.parser')"
   ]
  },
  {
   "cell_type": "code",
   "execution_count": 23,
   "metadata": {},
   "outputs": [
    {
     "data": {
      "text/plain": [
       "<html>\n",
       "<head><title>Index of /enwiki/</title></head>\n",
       "<body bgcolor=\"white\">\n",
       "<h1>Index of /enwiki/</h1><hr/><pre><a href=\"../\">../</a>\n",
       "<a href=\"20200101/\">20200101/</a>                                          21-Feb-2020 01:37                   -\n",
       "<a href=\"20200120/\">20200120/</a>                                          02-Mar-2020 01:28                   -\n",
       "<a href=\"20200201/\">20200201/</a>                                          02-Apr-2020 01:35                   -\n",
       "<a href=\"20200220/\">20200220/</a>                                          21-Apr-2020 01:28                   -\n",
       "<a href=\"20200301/\">20200301/</a>                                          13-Mar-2020 15:03                   -\n",
       "<a href=\"20200401/\">20200401/</a>                                          15-Apr-2020 03:13                   -\n",
       "<a href=\"20200420/\">20200420/</a>                                          23-Apr-2020 00:16                   -\n",
       "<a href=\"latest/\">latest/</a>                                            23-Apr-2020 00:15                   -\n",
       "</pre><hr/></body>\n",
       "</html>"
      ]
     },
     "execution_count": 23,
     "metadata": {},
     "output_type": "execute_result"
    }
   ],
   "source": [
    "soup_index"
   ]
  },
  {
   "cell_type": "code",
   "execution_count": 24,
   "metadata": {},
   "outputs": [
    {
     "name": "stdout",
     "output_type": "stream",
     "text": [
      "<html>\n",
      " <head>\n",
      "  <title>\n",
      "   Index of /enwiki/\n",
      "  </title>\n",
      " </head>\n",
      " <body bgcolor=\"white\">\n",
      "  <h1>\n",
      "   Index of /enwiki/\n",
      "  </h1>\n",
      "  <hr/>\n",
      "  <pre><a href=\"../\">../</a>\r\n",
      "<a href=\"20200101/\">20200101/</a>                                          21-Feb-2020 01:37                   -\r\n",
      "<a href=\"20200120/\">20200120/</a>                                          02-Mar-2020 01:28                   -\r\n",
      "<a href=\"20200201/\">20200201/</a>                                          02-Apr-2020 01:35                   -\r\n",
      "<a href=\"20200220/\">20200220/</a>                                          21-Apr-2020 01:28                   -\r\n",
      "<a href=\"20200301/\">20200301/</a>                                          13-Mar-2020 15:03                   -\r\n",
      "<a href=\"20200401/\">20200401/</a>                                          15-Apr-2020 03:13                   -\r\n",
      "<a href=\"20200420/\">20200420/</a>                                          23-Apr-2020 00:16                   -\r\n",
      "<a href=\"latest/\">latest/</a>                                            23-Apr-2020 00:15                   -\r\n",
      "</pre>\n",
      "  <hr/>\n",
      " </body>\n",
      "</html>\n",
      "\n"
     ]
    }
   ],
   "source": [
    "print(soup_index.prettify())"
   ]
  },
  {
   "cell_type": "code",
   "execution_count": 25,
   "metadata": {},
   "outputs": [
    {
     "data": {
      "text/plain": [
       "[<a href=\"../\">../</a>,\n",
       " <a href=\"20200101/\">20200101/</a>,\n",
       " <a href=\"20200120/\">20200120/</a>,\n",
       " <a href=\"20200201/\">20200201/</a>,\n",
       " <a href=\"20200220/\">20200220/</a>,\n",
       " <a href=\"20200301/\">20200301/</a>,\n",
       " <a href=\"20200401/\">20200401/</a>,\n",
       " <a href=\"20200420/\">20200420/</a>,\n",
       " <a href=\"latest/\">latest/</a>]"
      ]
     },
     "execution_count": 25,
     "metadata": {},
     "output_type": "execute_result"
    }
   ],
   "source": [
    "#Finds the link on the page\n",
    "soup_index.find_all('a')"
   ]
  },
  {
   "cell_type": "code",
   "execution_count": 26,
   "metadata": {
    "collapsed": true
   },
   "outputs": [],
   "source": [
    "dumps=[a['href'] for a in soup_index.find_all('a') if a.has_attr('href')]"
   ]
  },
  {
   "cell_type": "code",
   "execution_count": 27,
   "metadata": {},
   "outputs": [
    {
     "data": {
      "text/plain": [
       "['../',\n",
       " '20200101/',\n",
       " '20200120/',\n",
       " '20200201/',\n",
       " '20200220/',\n",
       " '20200301/',\n",
       " '20200401/',\n",
       " '20200420/',\n",
       " 'latest/']"
      ]
     },
     "execution_count": 27,
     "metadata": {},
     "output_type": "execute_result"
    }
   ],
   "source": [
    "dumps"
   ]
  },
  {
   "cell_type": "code",
   "execution_count": 32,
   "metadata": {},
   "outputs": [
    {
     "data": {
      "text/plain": [
       "[<li class=\"file\"><a href=\"/enwiki/20200101/enwiki-20200101-pages-articles-multistream.xml.bz2\">enwiki-20200101-pages-articles-multistream.xml.bz2</a> 16.5 GB</li>,\n",
       " <li class=\"file\"><a href=\"/enwiki/20200101/enwiki-20200101-pages-articles-multistream-index.txt.bz2\">enwiki-20200101-pages-articles-multistream-index.txt.bz2</a> 207.7 MB</li>,\n",
       " <li class=\"file\"><a href=\"/enwiki/20200101/enwiki-20200101-pages-articles-multistream1.xml-p10p30302.bz2\">enwiki-20200101-pages-articles-multistream1.xml-p10p30302.bz2</a> 175.0 MB</li>]"
      ]
     },
     "execution_count": 32,
     "metadata": {},
     "output_type": "execute_result"
    }
   ],
   "source": [
    "dump_url = base_url + '20200101/'\n",
    "dump_html = requests.get(dump_url).text\n",
    "soup_dump = BeautifulSoup(dump_html, 'html.parser')\n",
    "soup_dump.find_all('li', {'class':'file'})[:3]"
   ]
  },
  {
   "cell_type": "code",
   "execution_count": null,
   "metadata": {
    "collapsed": true
   },
   "outputs": [],
   "source": [
    "# We parsed the web page using BeautifulSoup and we find all the files in the dump : \n",
    "soup_dump.find_all('li', {'class':'file'})"
   ]
  }
 ],
 "metadata": {
  "kernelspec": {
   "display_name": "Python 3",
   "language": "python",
   "name": "python3"
  },
  "language_info": {
   "codemirror_mode": {
    "name": "ipython",
    "version": 3
   },
   "file_extension": ".py",
   "mimetype": "text/x-python",
   "name": "python",
   "nbconvert_exporter": "python",
   "pygments_lexer": "ipython3",
   "version": "3.6.1"
  }
 },
 "nbformat": 4,
 "nbformat_minor": 2
}
