{
 "cells": [
  {
   "cell_type": "code",
   "execution_count": 76,
   "metadata": {},
   "outputs": [],
   "source": [
    "import pickle\n",
    "import time\n",
    "import re\n",
    "import glob\n",
    "import os\n",
    "import shutil\n",
    "import numpy as np\n",
    "from matplotlib import pyplot\n",
    "import tensorflow as tf\n",
    "from nltk.corpus import stopwords\n",
    "import random\n",
    "import tensorflow_hub as hub\n",
    "import matplotlib.pyplot as plt\n",
    "import pandas as pd\n",
    "import gensim\n",
    "\n",
    "from keras.preprocessing.text import Tokenizer\n",
    "from keras.preprocessing.sequence import pad_sequences\n",
    "from keras.models import Sequential\n",
    "from keras.regularizers import l2\n",
    "from keras.layers import Dense, Embedding, LSTM, SpatialDropout1D, Bidirectional, Activation, Reshape\n",
    "from keras.layers import Convolution1D, MaxPooling1D, Flatten\n",
    "from sklearn.model_selection import train_test_split\n",
    "from keras.utils.np_utils import to_categorical\n",
    "from keras.callbacks import EarlyStopping\n",
    "from keras.layers import Dropout\n",
    "\n",
    "from sklearn.linear_model import LogisticRegression\n",
    "from sklearn.feature_extraction.text import CountVectorizer\n",
    "from sklearn.feature_extraction.text import TfidfVectorizer\n",
    "from sklearn.svm import LinearSVC\n",
    "from sklearn.ensemble import RandomForestClassifier\n",
    "from sklearn.metrics import accuracy_score\n",
    "from sklearn.metrics import classification_report\n",
    "from sklearn.metrics import confusion_matrix\n",
    "from sklearn.calibration import CalibratedClassifierCV"
   ]
  },
  {
   "cell_type": "code",
   "execution_count": 5,
   "metadata": {},
   "outputs": [],
   "source": [
    "def remove_stopwords(article):\n",
    "    stopword_list = set(stopwords.words(\"english\"))\n",
    "    return [word for word in article.split() if word not in stopword_list]\n",
    "\n",
    "\n",
    "def remove_character(article):\n",
    "    return re.sub(\"[^a-zA-Z]+\", \" \", article)\n",
    "\n",
    "def remove_one_character_token(article) : \n",
    "    return [word for word in article if len(word)>1]\n",
    "    \n",
    "def lower(string):\n",
    "    return string.lower()\n",
    "\n",
    "\n",
    "def clean(article):\n",
    "    article = article.strip()\n",
    "    article = lower(article)\n",
    "    article = remove_character(article)\n",
    "    article = remove_stopwords(article)\n",
    "    article = remove_one_character_token(article)\n",
    "    article = ' '.join(article)\n",
    "    return article\n",
    "\n",
    "def clean2(article):\n",
    "    #article = article.strip()\n",
    "    article = lower(article)\n",
    "    article = remove_character(article)\n",
    "    article = remove_stopwords(article)\n",
    "    article = remove_one_character_token(article)\n",
    "    article = ' '.join(article)\n",
    "    return article"
   ]
  },
  {
   "cell_type": "code",
   "execution_count": 6,
   "metadata": {},
   "outputs": [],
   "source": [
    "def create_input_count_vec(max_n_word=20000,mode_tfidf = True) : \n",
    "    \n",
    "    text_train = []\n",
    "    target_train = []\n",
    "    text_val = []\n",
    "    target_val = []\n",
    "    text_test = []\n",
    "    target_test = []   \n",
    "    \n",
    "    print('Loading and cleaning files ...')\n",
    "    \n",
    "    t0 = time.time()\n",
    "\n",
    "    for link in glob.glob('/Users/andrealequin/Desktop/Stage_NLP/Simple_extraction/train_list/*.txt') : \n",
    "        file = open(link,'r')\n",
    "        text_train.append(clean(file.read()))\n",
    "        target_train.append(int(os.path.basename(file.name)[0:2]))\n",
    "\n",
    "        \n",
    "    for link in glob.glob('/Users/andrealequin/Desktop/Stage_NLP/Simple_extraction/val_list/*.txt') : \n",
    "        file = open(link,'r')\n",
    "        text_val.append(clean(file.read()))\n",
    "        target_val.append(int(os.path.basename(file.name)[0:2]))   \n",
    "\n",
    "    for link in glob.glob('/Users/andrealequin/Desktop/Stage_NLP/Simple_extraction/test_list/*.txt') : \n",
    "        file = open(link,'r')\n",
    "        text_test.append(clean(file.read()))\n",
    "        target_test.append(int(os.path.basename(file.name)[0:2]))   \n",
    "        \n",
    "    t1 = time.time()\n",
    "    \n",
    "    print('Loading and cleaning files time : ','%.1f' % (t1-t0),'s')\n",
    "    \n",
    "    print('Count Vectorization ...')\n",
    "    \n",
    "    if mode_tfidf == True : \n",
    "        vectorizer = TfidfVectorizer(max_features = max_n_word)\n",
    "        print('mode : tdidf')\n",
    "    else : \n",
    "        vectorizer = CountVectorizer(max_features = max_n_word)\n",
    "        print('mode : simple count')\n",
    "        \n",
    "    x_train = vectorizer.fit_transform(text_train)\n",
    "    y_train = np.asarray(target_train)\n",
    "  \n",
    "    x_val = vectorizer.transform(text_val)\n",
    "    y_val = np.asarray(target_val)\n",
    "    \n",
    "    x_test = vectorizer.transform(text_test)\n",
    "    y_test = np.asarray(target_test)\n",
    "    \n",
    "    t2 = time.time()\n",
    "    print('Vectorization time : ', '%.1f' % (t2-t1),'s')\n",
    "    \n",
    "    return x_train, y_train, x_val, y_val, x_test, y_test, text_train, text_val, text_test"
   ]
  },
  {
   "cell_type": "code",
   "execution_count": 7,
   "metadata": {},
   "outputs": [],
   "source": [
    "def create_sentences_input() : \n",
    "    t0 = time.time()\n",
    "    print('Creating tokenized sentences to feed Word2Vec model ...')\n",
    "    list_of_sentences = []\n",
    "    cnt = 0\n",
    "    for link in glob.glob('/Users/andrealequin/Desktop/Stage_NLP/Simple_extraction/train_list/*.txt') : \n",
    "        file = open(link,'r')\n",
    "        article = file.read()\n",
    "        split_art= re.split('(?<!\\w\\.\\w.)(?<![A-Z][a-z]\\.)(?<=\\.|\\?)\\s',article) #split into sentences\n",
    "        for sentence in split_art :\n",
    "            clean_sentence = clean2(sentence)\n",
    "            sentence_into_list = clean_sentence.split() \n",
    "            list_of_sentences.append(sentence_into_list)\n",
    "        #cnt+=1Andréa Lequin\n",
    "        #if cnt>10 : \n",
    "        #    break\n",
    "    t1 = time.time()\n",
    "    print('Splitting and cleaning time : ', '%.1f' % (t1-t0),'s')\n",
    "    return list_of_sentences"
   ]
  },
  {
   "cell_type": "code",
   "execution_count": 8,
   "metadata": {},
   "outputs": [
    {
     "name": "stdout",
     "output_type": "stream",
     "text": [
      "Loading and cleaning files ...\n",
      "Loading and cleaning files time :  45.2 s\n",
      "Count Vectorization ...\n",
      "mode : simple count\n",
      "Vectorization time :  21.5 s\n"
     ]
    }
   ],
   "source": [
    "x_train, y_train, x_val, y_val, x_test, y_test, text_train, text_val, text_test = create_input_count_vec(max_n_word=20000,mode_tfidf = False)\n",
    "#sets = x_train, y_train, x_val, y_val, x_test, y_test, text_train, text_val, text_test\n",
    "sets2 = x_train, y_train, x_val, y_val, x_test, y_test, text_train, text_val, text_test"
   ]
  },
  {
   "cell_type": "code",
   "execution_count": 9,
   "metadata": {},
   "outputs": [
    {
     "name": "stdout",
     "output_type": "stream",
     "text": [
      "Creating tokenized sentences to feed Word2Vec model ...\n",
      "Splitting and cleaning time :  318.2 s\n"
     ]
    }
   ],
   "source": [
    "list_sentences_train = create_sentences_input()"
   ]
  },
  {
   "cell_type": "code",
   "execution_count": 10,
   "metadata": {},
   "outputs": [
    {
     "name": "stdout",
     "output_type": "stream",
     "text": [
      "[['knight', 'tour', 'sequence', 'moves', 'knight', 'chessboard', 'knight', 'visits', 'every', 'square', 'exactly'], ['knight', 'ends', 'square', 'one', 'knight', 'move', 'beginning', 'square', 'could', 'tour', 'board', 'immediately', 'following', 'path', 'tour', 'closed', 'otherwise', 'open', 'knight', 'tour', 'problem', 'mathematical', 'problem', 'finding', 'knight', 'tour'], ['creating', 'program', 'find', 'knight', 'tour', 'common', 'problem', 'given', 'computer', 'science', 'students'], ['variations', 'knight', 'tour', 'problem', 'involve', 'chessboards', 'different', 'sizes', 'usual', 'well', 'irregular', 'non', 'rectangular', 'boards'], ['theory', 'knight', 'tour', 'problem', 'instance', 'general', 'hamiltonian', 'path', 'problem', 'graph', 'theory'], ['problem', 'finding', 'closed', 'knight', 'tour', 'similarly', 'instance', 'hamiltonian', 'cycle', 'problem'], ['unlike', 'general', 'hamiltonian', 'path', 'problem', 'knight', 'tour', 'problem', 'solved', 'linear', 'time'], ['history', 'earliest', 'known', 'reference', 'knight', 'tour', 'problem', 'dates', 'back', 'th', 'century', 'ad'], ['rudra', 'kavyalankara', 'sanskrit', 'work', 'poetics', 'pattern', 'knight', 'tour', 'half', 'board', 'presented', 'elaborate', 'poetic', 'figure', 'citra', 'ala', 'ra', 'called', 'turagapadabandha', 'arrangement', 'steps', 'horse'], ['verse', 'four', 'lines', 'eight', 'syllables', 'read', 'left', 'right', 'following', 'path', 'knight', 'tour']]\n"
     ]
    }
   ],
   "source": [
    "print(list_sentences_train[:10])"
   ]
  },
  {
   "cell_type": "code",
   "execution_count": null,
   "metadata": {},
   "outputs": [],
   "source": []
  },
  {
   "cell_type": "markdown",
   "metadata": {},
   "source": [
    "### ML models"
   ]
  },
  {
   "cell_type": "code",
   "execution_count": 6,
   "metadata": {},
   "outputs": [],
   "source": [
    "def run_logreg(sets) :\n",
    "    x_train, y_train, x_val, y_val, x_test, y_test, text_train, text_val, text_test = sets\n",
    "    print('Build logistic regression model ...')\n",
    "    clf = LogisticRegression(random_state=0)\n",
    "    clf.fit(x_train, y_train)\n",
    "    y_pred = clf.predict(x_train)\n",
    "    acc = accuracy_score(y_train, y_pred)\n",
    "    y_pred = clf.predict(x_val)\n",
    "    val_acc = accuracy_score(y_val, y_pred)\n",
    "    \n",
    "    print('acc :', acc)\n",
    "    print('val acc :', val_acc)\n",
    "    print(classification_report(y_val, y_pred))\n",
    "    print(confusion_matrix(y_val, y_pred))\n",
    "    \n",
    "    return #clf.predict_proba(np.concatenate((x_train, x_val), axis=0))[:, 1], \\\n",
    "           #clf.predict_proba(x_test)[:, 1], \\\n",
    "           #np.concatenate((y_train, y_val), axis=0)"
   ]
  },
  {
   "cell_type": "markdown",
   "metadata": {},
   "source": [
    "#### With tfidf"
   ]
  },
  {
   "cell_type": "code",
   "execution_count": 7,
   "metadata": {},
   "outputs": [
    {
     "name": "stdout",
     "output_type": "stream",
     "text": [
      "Build logistic regression model ...\n",
      "acc : 0.9295279912184413\n",
      "val acc : 0.857703081232493\n",
      "              precision    recall  f1-score   support\n",
      "\n",
      "           0       0.94      0.90      0.92       400\n",
      "           1       0.88      0.92      0.90       400\n",
      "           2       0.88      0.79      0.83       185\n",
      "           3       0.82      0.86      0.84       400\n",
      "           4       0.79      0.79      0.79       400\n",
      "\n",
      "    accuracy                           0.86      1785\n",
      "   macro avg       0.86      0.85      0.85      1785\n",
      "weighted avg       0.86      0.86      0.86      1785\n",
      "\n",
      "[[359   4   0  19  18]\n",
      " [  3 369   1   9  18]\n",
      " [  1   2 146  20  16]\n",
      " [  7   4  12 343  34]\n",
      " [ 13  40   7  26 314]]\n"
     ]
    },
    {
     "name": "stderr",
     "output_type": "stream",
     "text": [
      "/Users/andrealequin/anaconda/envs/envtf/lib/python3.7/site-packages/sklearn/linear_model/_logistic.py:940: ConvergenceWarning: lbfgs failed to converge (status=1):\n",
      "STOP: TOTAL NO. of ITERATIONS REACHED LIMIT.\n",
      "\n",
      "Increase the number of iterations (max_iter) or scale the data as shown in:\n",
      "    https://scikit-learn.org/stable/modules/preprocessing.html\n",
      "Please also refer to the documentation for alternative solver options:\n",
      "    https://scikit-learn.org/stable/modules/linear_model.html#logistic-regression\n",
      "  extra_warning_msg=_LOGISTIC_SOLVER_CONVERGENCE_MSG)\n"
     ]
    }
   ],
   "source": [
    "run_logreg(sets)"
   ]
  },
  {
   "cell_type": "markdown",
   "metadata": {},
   "source": [
    "#### Simple count"
   ]
  },
  {
   "cell_type": "code",
   "execution_count": 75,
   "metadata": {},
   "outputs": [
    {
     "name": "stdout",
     "output_type": "stream",
     "text": [
      "Build logistic regression model ...\n",
      "acc : 0.9670691547749726\n",
      "val acc : 0.8140056022408964\n",
      "              precision    recall  f1-score   support\n",
      "\n",
      "           0       0.91      0.90      0.90       400\n",
      "           1       0.84      0.87      0.86       400\n",
      "           2       0.70      0.75      0.72       185\n",
      "           3       0.79      0.81      0.80       400\n",
      "           4       0.76      0.70      0.73       400\n",
      "\n",
      "    accuracy                           0.81      1785\n",
      "   macro avg       0.80      0.81      0.80      1785\n",
      "weighted avg       0.81      0.81      0.81      1785\n",
      "\n",
      "[[361   5   3  16  15]\n",
      " [  3 348   7  11  31]\n",
      " [  0   8 138  19  20]\n",
      " [ 15   8  32 324  21]\n",
      " [ 19  44  16  39 282]]\n"
     ]
    },
    {
     "name": "stderr",
     "output_type": "stream",
     "text": [
      "/Users/andrealequin/anaconda/envs/envtf/lib/python3.7/site-packages/sklearn/linear_model/_logistic.py:940: ConvergenceWarning: lbfgs failed to converge (status=1):\n",
      "STOP: TOTAL NO. of ITERATIONS REACHED LIMIT.\n",
      "\n",
      "Increase the number of iterations (max_iter) or scale the data as shown in:\n",
      "    https://scikit-learn.org/stable/modules/preprocessing.html\n",
      "Please also refer to the documentation for alternative solver options:\n",
      "    https://scikit-learn.org/stable/modules/linear_model.html#logistic-regression\n",
      "  extra_warning_msg=_LOGISTIC_SOLVER_CONVERGENCE_MSG)\n"
     ]
    }
   ],
   "source": [
    "run_logreg(sets2)"
   ]
  },
  {
   "cell_type": "code",
   "execution_count": 42,
   "metadata": {},
   "outputs": [],
   "source": [
    "def run_svm(sets): \n",
    "    x_train, y_train, x_val, y_val, x_test, y_test, text_train, text_val, text_test = sets\n",
    "    print('Build SVM model ...')\n",
    "    #[x_train, y_train, x_val, y_val, x_test, y_test] = pickle.load(open('/Users/andrealequin/Desktop/Stage_NLP/Simple_extraction/dumps/'+str(num_set)+'.dat', \"rb\"))\n",
    "    svm = LinearSVC(C=0.0001)\n",
    "    svm = CalibratedClassifierCV(svm)\n",
    "    svm.fit(x_train, y_train)\n",
    "    y_pred = svm.predict(x_train)\n",
    "    acc = accuracy_score(y_train, y_pred)\n",
    "    y_pred = svm.predict(x_val)\n",
    "    val_acc = accuracy_score(y_val, y_pred)\n",
    "\n",
    "    print('acc :', acc)\n",
    "    print('val acc :', val_acc)\n",
    "    print(y_pred)\n",
    "    print(classification_report(y_val, y_pred))\n",
    "    print(confusion_matrix(y_val, y_pred))\n",
    "    return #svm.predict_proba(np.concatenate((x_train, x_val), axis=0))[:, 1], \\\n",
    "           #svm.predict_proba(x_test)[:, 1], \\\n",
    "           #np.concatenate((y_train, y_val), axis=0)"
   ]
  },
  {
   "cell_type": "code",
   "execution_count": 44,
   "metadata": {},
   "outputs": [
    {
     "name": "stdout",
     "output_type": "stream",
     "text": [
      "Build SVM model ...\n",
      "acc : 0.8384193194291987\n",
      "val acc : 0.8212885154061624\n",
      "[4 4 4 ... 3 3 3]\n",
      "              precision    recall  f1-score   support\n",
      "\n",
      "           0       0.94      0.83      0.88       400\n",
      "           1       0.84      0.91      0.87       400\n",
      "           2       0.82      0.77      0.79       185\n",
      "           3       0.81      0.80      0.80       400\n",
      "           4       0.71      0.77      0.74       400\n",
      "\n",
      "    accuracy                           0.82      1785\n",
      "   macro avg       0.83      0.82      0.82      1785\n",
      "weighted avg       0.83      0.82      0.82      1785\n",
      "\n",
      "[[334   5   1  28  32]\n",
      " [  3 362   2   9  24]\n",
      " [  1   3 142  20  19]\n",
      " [  4   8  19 321  48]\n",
      " [ 13  51   9  20 307]]\n"
     ]
    }
   ],
   "source": [
    "run_svm(sets)"
   ]
  },
  {
   "cell_type": "code",
   "execution_count": 10,
   "metadata": {},
   "outputs": [],
   "source": [
    "def run_RandomForest(sets):\n",
    "    x_train, y_train, x_val, y_val, x_test, y_test, text_train, text_val, text_test = sets\n",
    "    print('Build Random Forest model ...')\n",
    "    #[x_train, y_train, x_val, y_val, x_test, y_test] = pickle.load(open('/Users/andrealequin/Desktop/Stage_NLP/Simple_extraction/dumps/'+str(num_set)+'.dat', \"rb\"))\n",
    "    clf = RandomForestClassifier(max_depth=3, random_state=0)\n",
    "    clf.fit(x_train, y_train)\n",
    "    y_pred = clf.predict(x_train)\n",
    "    acc = accuracy_score(y_train, y_pred)\n",
    "    y_pred = clf.predict(x_val)\n",
    "    val_acc = accuracy_score(y_val, y_pred)\n",
    "    \n",
    "    print('acc :', acc)\n",
    "    print('val acc :', val_acc)\n",
    "    print(classification_report(y_val, y_pred))\n",
    "    print(confusion_matrix(y_val, y_pred))\n",
    "    \n",
    "    return #clf.predict_proba(np.concatenate((x_train, x_val), axis=0))[:, 1], \\\n",
    "           #clf.predict_proba(x_test)[:, 1], \\\n",
    "           #np.concatenate((y_train, y_val), axis=0) "
   ]
  },
  {
   "cell_type": "code",
   "execution_count": 11,
   "metadata": {},
   "outputs": [
    {
     "name": "stdout",
     "output_type": "stream",
     "text": [
      "Build Random Forest model ...\n",
      "acc : 0.7054884742041713\n",
      "val acc : 0.6868347338935574\n",
      "              precision    recall  f1-score   support\n",
      "\n",
      "           0       0.87      0.86      0.87       400\n",
      "           1       0.75      0.89      0.82       400\n",
      "           2       1.00      0.01      0.01       185\n",
      "           3       0.55      0.80      0.65       400\n",
      "           4       0.61      0.51      0.56       400\n",
      "\n",
      "    accuracy                           0.69      1785\n",
      "   macro avg       0.76      0.61      0.58      1785\n",
      "weighted avg       0.73      0.69      0.65      1785\n",
      "\n",
      "[[345  10   0  29  16]\n",
      " [  3 355   0  30  12]\n",
      " [  4   5   1 116  59]\n",
      " [ 21  14   0 320  45]\n",
      " [ 24  87   0  84 205]]\n"
     ]
    }
   ],
   "source": [
    "run_RandomForest(sets)"
   ]
  },
  {
   "cell_type": "markdown",
   "metadata": {},
   "source": [
    "## RNN"
   ]
  },
  {
   "cell_type": "markdown",
   "metadata": {},
   "source": [
    "#### Text to sequences Train/Val/Test"
   ]
  },
  {
   "cell_type": "code",
   "execution_count": 58,
   "metadata": {},
   "outputs": [],
   "source": [
    "MAX_NB_WORDS = 50000\n",
    "#MAX_NB_WORDS = 200000\n",
    "MAX_SEQUENCE_LENGTH = 250\n",
    "EMBEDDING_DIM = 100"
   ]
  },
  {
   "cell_type": "code",
   "execution_count": 59,
   "metadata": {},
   "outputs": [
    {
     "name": "stdout",
     "output_type": "stream",
     "text": [
      "Found 254711 unique tokens.\n"
     ]
    }
   ],
   "source": [
    "tokenizer = Tokenizer(num_words=MAX_NB_WORDS, filters='!\"#$%&()*+,-./:;<=>?@[\\]^_`{|}~', lower= True)\n",
    "#tokenizer.fit_on_texts(text_train+text_val+text_test)\n",
    "tokenizer.fit_on_texts(text_train)\n",
    "word_index = tokenizer.word_index\n",
    "print('Found %s unique tokens.' % len(word_index))"
   ]
  },
  {
   "cell_type": "code",
   "execution_count": 60,
   "metadata": {},
   "outputs": [],
   "source": [
    "X_train = tokenizer.texts_to_sequences(text_train)\n",
    "X_train = pad_sequences(X_train, maxlen=MAX_SEQUENCE_LENGTH)\n",
    "X_val = tokenizer.texts_to_sequences(text_val)\n",
    "X_val = pad_sequences(X_val, maxlen=MAX_SEQUENCE_LENGTH)\n",
    "X_test = tokenizer.texts_to_sequences(text_test)\n",
    "X_test = pad_sequences(X_test, maxlen=MAX_SEQUENCE_LENGTH)"
   ]
  },
  {
   "cell_type": "code",
   "execution_count": 61,
   "metadata": {},
   "outputs": [],
   "source": [
    "Y_train = pd.get_dummies(y_train).values\n",
    "Y_val = pd.get_dummies(y_val).values\n",
    "Y_test = pd.get_dummies(y_test).values"
   ]
  },
  {
   "cell_type": "code",
   "execution_count": 67,
   "metadata": {},
   "outputs": [
    {
     "name": "stdout",
     "output_type": "stream",
     "text": [
      "(9110, 250) (9110, 5)\n",
      "(1785, 250) (1785, 5)\n",
      "(1785, 250) (1785, 5)\n"
     ]
    }
   ],
   "source": [
    "print(X_train.shape,Y_train.shape)\n",
    "print(X_val.shape,Y_val.shape)\n",
    "print(X_test.shape,Y_test.shape)"
   ]
  },
  {
   "cell_type": "code",
   "execution_count": 17,
   "metadata": {},
   "outputs": [
    {
     "name": "stdout",
     "output_type": "stream",
     "text": [
      "[[0 1 0 0 0]\n",
      " [0 0 0 0 1]\n",
      " [0 0 0 0 1]\n",
      " [0 0 1 0 0]\n",
      " [0 0 0 1 0]\n",
      " [0 0 0 1 0]\n",
      " [0 0 0 0 1]\n",
      " [1 0 0 0 0]\n",
      " [0 0 0 1 0]\n",
      " [1 0 0 0 0]]\n",
      "[[  266    35 19509 ...  1952 16812   627]\n",
      " [ 1407   198  3337 ...  3976    20  1474]\n",
      " [ 5768 11678  2751 ...  4485  2822   272]\n",
      " ...\n",
      " [ 4764 47264   304 ...  4689   592   183]\n",
      " [    0     0     0 ...   281  2659   376]\n",
      " [  582  1525 17734 ...   235   668   244]]\n"
     ]
    }
   ],
   "source": [
    "print(Y_train[:10])\n",
    "print(X_train[:10])"
   ]
  },
  {
   "cell_type": "markdown",
   "metadata": {},
   "source": [
    "### Keras embeddings"
   ]
  },
  {
   "cell_type": "markdown",
   "metadata": {},
   "source": [
    "### Model 1"
   ]
  },
  {
   "cell_type": "code",
   "execution_count": 36,
   "metadata": {},
   "outputs": [
    {
     "name": "stdout",
     "output_type": "stream",
     "text": [
      "Model: \"Model 1\"\n",
      "_________________________________________________________________\n",
      "Layer (type)                 Output Shape              Param #   \n",
      "=================================================================\n",
      "embedding_5 (Embedding)      (None, 250, 100)          5000000   \n",
      "_________________________________________________________________\n",
      "lstm_2 (LSTM)                (None, 50)                30200     \n",
      "_________________________________________________________________\n",
      "dense_6 (Dense)              (None, 5)                 255       \n",
      "_________________________________________________________________\n",
      "activation_2 (Activation)    (None, 5)                 0         \n",
      "=================================================================\n",
      "Total params: 5,030,455\n",
      "Trainable params: 5,030,455\n",
      "Non-trainable params: 0\n",
      "_________________________________________________________________\n",
      "None\n"
     ]
    }
   ],
   "source": [
    "model = Sequential()\n",
    "model.name=\"Model 1\"\n",
    "model.add(Embedding(MAX_NB_WORDS, EMBEDDING_DIM, input_length=X_train.shape[1]))\n",
    "#model.add(Bidirectional(LSTM(10, return_sequences=True), input_shape=(5, 10)))\n",
    "model.add(LSTM(50))\n",
    "model.add(Dense(5))\n",
    "model.add(Activation('softmax'))\n",
    "model.compile(loss='categorical_crossentropy', optimizer='adam', metrics=['accuracy'])\n",
    "print(model.summary())"
   ]
  },
  {
   "cell_type": "markdown",
   "metadata": {},
   "source": [
    "### Model 2"
   ]
  },
  {
   "cell_type": "code",
   "execution_count": 23,
   "metadata": {},
   "outputs": [
    {
     "name": "stdout",
     "output_type": "stream",
     "text": [
      "Model: \"Model 2\"\n",
      "_________________________________________________________________\n",
      "Layer (type)                 Output Shape              Param #   \n",
      "=================================================================\n",
      "embedding_3 (Embedding)      (None, 250, 100)          5000000   \n",
      "_________________________________________________________________\n",
      "spatial_dropout1d_2 (Spatial (None, 250, 100)          0         \n",
      "_________________________________________________________________\n",
      "lstm_3 (LSTM)                (None, 100)               80400     \n",
      "_________________________________________________________________\n",
      "dense_3 (Dense)              (None, 5)                 505       \n",
      "=================================================================\n",
      "Total params: 5,080,905\n",
      "Trainable params: 5,080,905\n",
      "Non-trainable params: 0\n",
      "_________________________________________________________________\n",
      "None\n"
     ]
    }
   ],
   "source": [
    "model = Sequential()\n",
    "model.name=\"Model 2\"\n",
    "model.add(Embedding(MAX_NB_WORDS, EMBEDDING_DIM, input_length=X_train.shape[1]))\n",
    "model.add(SpatialDropout1D(0.2))\n",
    "model.add(LSTM(100, dropout=0.2, recurrent_dropout=0.2))\n",
    "model.add(Dense(5, activation='softmax'))\n",
    "model.compile(loss='categorical_crossentropy', optimizer='adam', metrics=['accuracy'])\n",
    "print(model.summary())"
   ]
  },
  {
   "cell_type": "markdown",
   "metadata": {},
   "source": [
    "### Model 3"
   ]
  },
  {
   "cell_type": "code",
   "execution_count": 38,
   "metadata": {},
   "outputs": [
    {
     "name": "stdout",
     "output_type": "stream",
     "text": [
      "Model: \"Model 3\"\n",
      "_________________________________________________________________\n",
      "Layer (type)                 Output Shape              Param #   \n",
      "=================================================================\n",
      "embedding_12 (Embedding)     (None, 250, 100)          5000000   \n",
      "_________________________________________________________________\n",
      "bidirectional_3 (Bidirection (None, 250, 20)           8880      \n",
      "_________________________________________________________________\n",
      "bidirectional_4 (Bidirection (None, 20)                2480      \n",
      "_________________________________________________________________\n",
      "dense_16 (Dense)             (None, 5)                 105       \n",
      "_________________________________________________________________\n",
      "activation_6 (Activation)    (None, 5)                 0         \n",
      "=================================================================\n",
      "Total params: 5,011,465\n",
      "Trainable params: 5,011,465\n",
      "Non-trainable params: 0\n",
      "_________________________________________________________________\n",
      "None\n"
     ]
    }
   ],
   "source": [
    "model = Sequential()\n",
    "model.name=\"Model 3\"\n",
    "model.add(Embedding(MAX_NB_WORDS, EMBEDDING_DIM, input_length=X_train.shape[1]))\n",
    "model.add(Bidirectional(LSTM(10, return_sequences=True), input_shape=(5, 10)))\n",
    "model.add(Bidirectional(LSTM(10)))\n",
    "model.add(Dense(5))\n",
    "model.add(Activation('softmax'))\n",
    "model.compile(loss='categorical_crossentropy', optimizer='adam', metrics=['accuracy'])\n",
    "print(model.summary())"
   ]
  },
  {
   "cell_type": "markdown",
   "metadata": {},
   "source": [
    "### Model 4"
   ]
  },
  {
   "cell_type": "code",
   "execution_count": 45,
   "metadata": {},
   "outputs": [
    {
     "name": "stdout",
     "output_type": "stream",
     "text": [
      "Model: \"Model 4\"\n",
      "_________________________________________________________________\n",
      "Layer (type)                 Output Shape              Param #   \n",
      "=================================================================\n",
      "embedding_6 (Embedding)      (None, 250, 100)          20000000  \n",
      "_________________________________________________________________\n",
      "dense_9 (Dense)              (None, 250, 64)           6464      \n",
      "_________________________________________________________________\n",
      "flatten_6 (Flatten)          (None, 16000)             0         \n",
      "_________________________________________________________________\n",
      "dense_10 (Dense)             (None, 5)                 80005     \n",
      "_________________________________________________________________\n",
      "activation_4 (Activation)    (None, 5)                 0         \n",
      "=================================================================\n",
      "Total params: 20,086,469\n",
      "Trainable params: 20,086,469\n",
      "Non-trainable params: 0\n",
      "_________________________________________________________________\n",
      "None\n"
     ]
    }
   ],
   "source": [
    "model = Sequential()\n",
    "model.name=\"Model 4\"\n",
    "model.add(Embedding(MAX_NB_WORDS, EMBEDDING_DIM, input_length=X_train.shape[1]))\n",
    "model.add(Dense(64, activation='relu'))\n",
    "model.add(Flatten())\n",
    "#model.add(Dense(64))\n",
    "model.add(Dense(5))\n",
    "model.add(Activation('softmax'))\n",
    "model.compile(loss='categorical_crossentropy', optimizer='adam', metrics=['accuracy'])\n",
    "print(model.summary())"
   ]
  },
  {
   "cell_type": "code",
   "execution_count": null,
   "metadata": {
    "collapsed": true
   },
   "outputs": [],
   "source": [
    "#mettre un predict\n",
    "#verifier meme taille que les batch + positif entre 01"
   ]
  },
  {
   "cell_type": "markdown",
   "metadata": {},
   "source": [
    "### Model 5"
   ]
  },
  {
   "cell_type": "code",
   "execution_count": 64,
   "metadata": {},
   "outputs": [
    {
     "name": "stdout",
     "output_type": "stream",
     "text": [
      "Model: \"Model 5\"\n",
      "_________________________________________________________________\n",
      "Layer (type)                 Output Shape              Param #   \n",
      "=================================================================\n",
      "embedding_18 (Embedding)     (None, 250, 50)           2500000   \n",
      "_________________________________________________________________\n",
      "conv1d_6 (Conv1D)            (None, 250, 55)           2805      \n",
      "_________________________________________________________________\n",
      "max_pooling1d_6 (MaxPooling1 (None, 125, 55)           0         \n",
      "_________________________________________________________________\n",
      "flatten_6 (Flatten)          (None, 6875)              0         \n",
      "_________________________________________________________________\n",
      "dense_27 (Dense)             (None, 250)               1719000   \n",
      "_________________________________________________________________\n",
      "dense_28 (Dense)             (None, 5)                 1255      \n",
      "=================================================================\n",
      "Total params: 4,223,060\n",
      "Trainable params: 4,223,060\n",
      "Non-trainable params: 0\n",
      "_________________________________________________________________\n",
      "None\n"
     ]
    }
   ],
   "source": [
    "model = Sequential()\n",
    "model.name=\"Model 5\"\n",
    "model.add(Embedding(MAX_NB_WORDS, EMBEDDING_DIM, input_length=X_train.shape[1]))\n",
    "model.add(Convolution1D(filters=55, kernel_size=1, padding='same', activation='relu'))\n",
    "model.add(MaxPooling1D(pool_size=2))\n",
    "model.add(Flatten())\n",
    "model.add(Dense(250, activation='relu'))\n",
    "model.add(Dense(5, activation='sigmoid'))\n",
    "#opt = tf.keras.optimizers.SGD(learning_rate=0.1)\n",
    "opt = 'adam'\n",
    "model.compile(loss='categorical_crossentropy', optimizer=opt, metrics=['accuracy'])\n",
    "print(model.summary())"
   ]
  },
  {
   "cell_type": "markdown",
   "metadata": {},
   "source": [
    "### Model 6"
   ]
  },
  {
   "cell_type": "code",
   "execution_count": 73,
   "metadata": {},
   "outputs": [
    {
     "name": "stdout",
     "output_type": "stream",
     "text": [
      "Model: \"Model 6\"\n",
      "_________________________________________________________________\n",
      "Layer (type)                 Output Shape              Param #   \n",
      "=================================================================\n",
      "embedding_12 (Embedding)     (None, 250, 100)          5000000   \n",
      "_________________________________________________________________\n",
      "dense_29 (Dense)             (None, 250, 32)           3232      \n",
      "_________________________________________________________________\n",
      "flatten_13 (Flatten)         (None, 8000)              0         \n",
      "_________________________________________________________________\n",
      "dense_30 (Dense)             (None, 5)                 40005     \n",
      "=================================================================\n",
      "Total params: 5,043,237\n",
      "Trainable params: 5,043,237\n",
      "Non-trainable params: 0\n",
      "_________________________________________________________________\n",
      "None\n"
     ]
    }
   ],
   "source": [
    "model = Sequential()\n",
    "model.name=\"Model 6\"\n",
    "model.add(Embedding(MAX_NB_WORDS, EMBEDDING_DIM, input_length=X_train.shape[1]))\n",
    "model.add(Dense(32, activation='relu'))\n",
    "model.add(Flatten())\n",
    "model.add(Dense(5, activation='sigmoid'))\n",
    "#opt = tf.keras.optimizers.SGD(learning_rate=0.1)\n",
    "optimizer = 'adam'\n",
    "model.compile(loss='categorical_crossentropy', optimizer=optimizer, metrics=['accuracy'])\n",
    "print(model.summary())"
   ]
  },
  {
   "cell_type": "code",
   "execution_count": null,
   "metadata": {},
   "outputs": [],
   "source": [
    "### Model 7"
   ]
  },
  {
   "cell_type": "code",
   "execution_count": 79,
   "metadata": {},
   "outputs": [
    {
     "name": "stdout",
     "output_type": "stream",
     "text": [
      "Model: \"Model 7\"\n",
      "_________________________________________________________________\n",
      "Layer (type)                 Output Shape              Param #   \n",
      "=================================================================\n",
      "embedding_15 (Embedding)     (None, 250, 100)          5000000   \n",
      "_________________________________________________________________\n",
      "dense_33 (Dense)             (None, 250, 32)           3232      \n",
      "_________________________________________________________________\n",
      "flatten_15 (Flatten)         (None, 8000)              0         \n",
      "_________________________________________________________________\n",
      "dense_34 (Dense)             (None, 5)                 40005     \n",
      "=================================================================\n",
      "Total params: 5,043,237\n",
      "Trainable params: 5,043,237\n",
      "Non-trainable params: 0\n",
      "_________________________________________________________________\n",
      "None\n"
     ]
    }
   ],
   "source": [
    "model = Sequential()\n",
    "model.name=\"Model 7\"\n",
    "model.add(Embedding(MAX_NB_WORDS, EMBEDDING_DIM, input_length=X_train.shape[1]))\n",
    "model.add(Dense(32, activation='relu',kernel_regularizer=l2(0.1)))\n",
    "model.add(Flatten())\n",
    "model.add(Dense(5, activation='sigmoid'))\n",
    "#opt = tf.keras.optimizers.SGD(learning_rate=0.1)\n",
    "optimizer = 'adam'\n",
    "model.compile(loss='categorical_crossentropy', optimizer=optimizer, metrics=['accuracy'])\n",
    "print(model.summary())"
   ]
  },
  {
   "cell_type": "markdown",
   "metadata": {},
   "source": [
    "### Word2vec embeddings"
   ]
  },
  {
   "cell_type": "code",
   "execution_count": 82,
   "metadata": {},
   "outputs": [],
   "source": [
    "from gensim.models import Word2Vec"
   ]
  },
  {
   "cell_type": "markdown",
   "metadata": {},
   "source": [
    "#### Training Word2vec on the train corpus"
   ]
  },
  {
   "cell_type": "code",
   "execution_count": 87,
   "metadata": {},
   "outputs": [
    {
     "data": {
      "text/plain": [
       "9110"
      ]
     },
     "execution_count": 87,
     "metadata": {},
     "output_type": "execute_result"
    }
   ],
   "source": [
    "len(text_train)"
   ]
  },
  {
   "cell_type": "code",
   "execution_count": null,
   "metadata": {},
   "outputs": [
    {
     "name": "stdout",
     "output_type": "stream",
     "text": [
      "Building Word2Vec Model ...\n"
     ]
    },
    {
     "name": "stderr",
     "output_type": "stream",
     "text": [
      "/Users/andrealequin/anaconda/envs/envtf/lib/python3.7/site-packages/gensim/models/base_any2vec.py:743: UserWarning: C extension not loaded, training will be slow. Install a C compiler and reinstall gensim for fast training.\n",
      "  \"C extension not loaded, training will be slow. \"\n"
     ]
    }
   ],
   "source": [
    "t0 = time.time()\n",
    "print('Building Word2Vec Model ...')\n",
    "model = Word2Vec(list_sentences_train, min_count=5,workers=50)\n",
    "t1 = time.time()\n",
    "print('Time for building Word2Vec model : ', '%.1f' % (t1-t0),'s')\n",
    "print(model)\n",
    "words = list(model.wv.vocab)\n",
    "#print(words)\n",
    "print(model['computer'])\n",
    "model.save('model.bin')\n",
    "#new_model = Word2Vec.load('model.bin')\n",
    "#print(new_model)"
   ]
  },
  {
   "cell_type": "markdown",
   "metadata": {},
   "source": [
    "#### Using Google Word2vec embedding"
   ]
  },
  {
   "cell_type": "code",
   "execution_count": 1,
   "metadata": {},
   "outputs": [],
   "source": [
    "from gensim.models import KeyedVectors\n",
    "filename = 'GoogleNews-vectors-negative300.bin'\n",
    "model = KeyedVectors.load_word2vec_format(filename, binary=True)"
   ]
  },
  {
   "cell_type": "code",
   "execution_count": null,
   "metadata": {},
   "outputs": [],
   "source": [
    "result = model.most_similar(positive=['woman', 'king'], negative=['man'], topn=1)\n",
    "print(result)"
   ]
  },
  {
   "cell_type": "markdown",
   "metadata": {},
   "source": [
    "#### Using Stanford Glove embedding"
   ]
  },
  {
   "cell_type": "code",
   "execution_count": 19,
   "metadata": {},
   "outputs": [
    {
     "name": "stdout",
     "output_type": "stream",
     "text": [
      "Loaded 400000 word vectors.\n"
     ]
    }
   ],
   "source": [
    "# load the whole embedding into memory\n",
    "embeddings_index = dict()\n",
    "f = open('glove.6B/glove.6B.100d.txt')\n",
    "for line in f:\n",
    "    values = line.split()\n",
    "    word = values[0]\n",
    "    coefs = np.asarray(values[1:], dtype='float32')\n",
    "    embeddings_index[word] = coefs\n",
    "f.close()\n",
    "print('Loaded %s word vectors.' % len(embeddings_index))"
   ]
  },
  {
   "cell_type": "code",
   "execution_count": 25,
   "metadata": {},
   "outputs": [
    {
     "name": "stdout",
     "output_type": "stream",
     "text": [
      "254711\n"
     ]
    }
   ],
   "source": [
    "vocab_size = len(word_index)\n",
    "print(vocab_size)"
   ]
  },
  {
   "cell_type": "code",
   "execution_count": 24,
   "metadata": {},
   "outputs": [],
   "source": [
    "# create a weight matrix for words in training docs\n",
    "embedding_matrix = np.zeros((vocab_size, 100))\n",
    "for word, i in word_index.items():\n",
    "    embedding_vector = embeddings_index.get(word)\n",
    "    if embedding_vector is not None:\n",
    "        embedding_matrix[i] = embedding_vector"
   ]
  },
  {
   "cell_type": "code",
   "execution_count": 52,
   "metadata": {},
   "outputs": [],
   "source": [
    "#model.add(Embedding(MAX_NB_WORDS, EMBEDDING_DIM, input_length=X_train.shape[1]))\n",
    "\n",
    "e = Embedding(MAX_NB_WORDS, 100, weights=[embedding_matrix], input_length=X_train.shape[1], trainable=False)"
   ]
  },
  {
   "cell_type": "code",
   "execution_count": 34,
   "metadata": {},
   "outputs": [
    {
     "name": "stdout",
     "output_type": "stream",
     "text": [
      "Model: \"Glove Model\"\n",
      "_________________________________________________________________\n",
      "Layer (type)                 Output Shape              Param #   \n",
      "=================================================================\n",
      "embedding_4 (Embedding)      (None, 250, 100)          5000000   \n",
      "_________________________________________________________________\n",
      "flatten_4 (Flatten)          (None, 25000)             0         \n",
      "_________________________________________________________________\n",
      "dense_5 (Dense)              (None, 5)                 125005    \n",
      "=================================================================\n",
      "Total params: 5,125,005\n",
      "Trainable params: 125,005\n",
      "Non-trainable params: 5,000,000\n",
      "_________________________________________________________________\n",
      "None\n"
     ]
    }
   ],
   "source": [
    "model = Sequential()\n",
    "model.name=\"Glove Model\"\n",
    "model.add(e)\n",
    "model.add(Flatten())\n",
    "model.add(Dense(5, activation='sigmoid'))\n",
    "model.compile(optimizer='adam', loss='categorical_crossentropy', metrics=['accuracy'])\n",
    "print(model.summary())"
   ]
  },
  {
   "cell_type": "code",
   "execution_count": 54,
   "metadata": {},
   "outputs": [
    {
     "name": "stdout",
     "output_type": "stream",
     "text": [
      "Model: \"Model 4\"\n",
      "_________________________________________________________________\n",
      "Layer (type)                 Output Shape              Param #   \n",
      "=================================================================\n",
      "embedding_7 (Embedding)      (None, 250, 100)          20000000  \n",
      "_________________________________________________________________\n",
      "dense_15 (Dense)             (None, 250, 64)           6464      \n",
      "_________________________________________________________________\n",
      "flatten_9 (Flatten)          (None, 16000)             0         \n",
      "_________________________________________________________________\n",
      "dense_16 (Dense)             (None, 5)                 80005     \n",
      "_________________________________________________________________\n",
      "activation_7 (Activation)    (None, 5)                 0         \n",
      "=================================================================\n",
      "Total params: 20,086,469\n",
      "Trainable params: 86,469\n",
      "Non-trainable params: 20,000,000\n",
      "_________________________________________________________________\n",
      "None\n"
     ]
    }
   ],
   "source": [
    "model = Sequential()\n",
    "model.name=\"Model 4 Glove E\"\n",
    "model.add(e)\n",
    "model.add(Dense(64, activation='relu'))\n",
    "model.add(Flatten())\n",
    "#model.add(Dense(64))\n",
    "model.add(Dense(5))\n",
    "model.add(Activation('softmax'))\n",
    "model.compile(loss='categorical_crossentropy', optimizer='adam', metrics=['accuracy'])\n",
    "print(model.summary())"
   ]
  },
  {
   "cell_type": "code",
   "execution_count": 62,
   "metadata": {},
   "outputs": [
    {
     "name": "stdout",
     "output_type": "stream",
     "text": [
      "Model: \"Model 5 Glove E\"\n",
      "_________________________________________________________________\n",
      "Layer (type)                 Output Shape              Param #   \n",
      "=================================================================\n",
      "embedding_7 (Embedding)      (None, 250, 100)          20000000  \n",
      "_________________________________________________________________\n",
      "conv1d_2 (Conv1D)            (None, 250, 55)           5555      \n",
      "_________________________________________________________________\n",
      "max_pooling1d_2 (MaxPooling1 (None, 125, 55)           0         \n",
      "_________________________________________________________________\n",
      "flatten_11 (Flatten)         (None, 6875)              0         \n",
      "_________________________________________________________________\n",
      "dense_19 (Dense)             (None, 250)               1719000   \n",
      "_________________________________________________________________\n",
      "dense_20 (Dense)             (None, 5)                 1255      \n",
      "=================================================================\n",
      "Total params: 21,725,810\n",
      "Trainable params: 1,725,810\n",
      "Non-trainable params: 20,000,000\n",
      "_________________________________________________________________\n",
      "None\n"
     ]
    }
   ],
   "source": [
    "model = Sequential()\n",
    "model.name=\"Model 5 Glove E\"\n",
    "model.add(e)\n",
    "model.add(Convolution1D(filters=55, kernel_size=1, padding='same', activation='relu'))\n",
    "model.add(MaxPooling1D(pool_size=2))\n",
    "model.add(Flatten())\n",
    "model.add(Dense(250, activation='relu'))\n",
    "model.add(Dense(5, activation='sigmoid'))\n",
    "#opt = tf.keras.optimizers.SGD(learning_rate=0.1)\n",
    "opt = 'adam'\n",
    "model.compile(loss='categorical_crossentropy', optimizer=opt, metrics=['accuracy'])\n",
    "print(model.summary())"
   ]
  },
  {
   "cell_type": "markdown",
   "metadata": {},
   "source": [
    "### Training"
   ]
  },
  {
   "cell_type": "markdown",
   "metadata": {},
   "source": [
    "#### Compile the following cell one time only"
   ]
  },
  {
   "cell_type": "code",
   "execution_count": 110,
   "metadata": {},
   "outputs": [],
   "source": [
    "#accuracy_models_file = open('/Users/andrealequin/Desktop/Stage_NLP/Simple_extraction/accuracy_models_file.txt', 'w')\n",
    "#accuracy_models_file.write('fichier créé')\n",
    "#accuracy_models_file.close()\n",
    "\n",
    "#accuracy_parameters_file = open('/Users/andrealequin/Desktop/Stage_NLP/Simple_extraction/accuracy_parameters_file.txt', 'w')\n",
    "#accuracy_parameters_file.write('num_expe test_acc val_acc train_acc epoch batch_size embed_dim optimizer learning_rate init_mode regularization regul_param max_nb_word max_seq_length\\n')\n",
    "#accuracy_parameters_file.close()\n",
    "\n",
    "num_expe = 1"
   ]
  },
  {
   "cell_type": "code",
   "execution_count": 86,
   "metadata": {},
   "outputs": [
    {
     "name": "stdout",
     "output_type": "stream",
     "text": [
      "Model 7\n",
      "Train on 9110 samples, validate on 1785 samples\n",
      "Epoch 1/1\n",
      "9110/9110 [==============================] - 4s 484us/step - loss: 0.0895 - accuracy: 0.9708 - val_loss: 0.6958 - val_accuracy: 0.8078\n"
     ]
    }
   ],
   "source": [
    "epochs = 1\n",
    "batch_size = 256\n",
    "print(model.name)\n",
    "history = model.fit(X_train, Y_train, epochs=epochs, batch_size=batch_size,validation_data=(X_val, Y_val))#,callbacks=[EarlyStopping(monitor='val_loss', patience=20, min_delta=0.0001)])\n",
    "#accuracy_file = open('/Users/andrealequin/Desktop/Stage_NLP/Simple_extraction/accuracy_file.txt', 'w')\n",
    "#accuracy_file.write(str(model.summary()))\n",
    "#accuracy_file.close()\n",
    "\n",
    "# Open the file\n",
    "with open('/Users/andrealequin/Desktop/Stage_NLP/Simple_extraction/accuracy_models_file.txt','w') as fh:\n",
    "    # Pass the file handle in as a lambda function to make it callable\n",
    "    model.summary(print_fn=lambda x: fh.write(x + '\\n'))\n",
    "\n",
    "    \n",
    "val_acc = str(history.history['val_accuracy'])\n",
    "train_acc = str(history.history['accuracy'])\n",
    "results = model.evaluate(x_test, y_test, batch_size=128)\n",
    "test_acc = results[1]\n",
    "\n",
    "accuracy_parameters_file = open('/Users/andrealequin/Desktop/Stage_NLP/Simple_extraction/accuracy_models_file.txt', 'w')\n",
    "accuracy_parameters_file.write(str(num_expe)+' '+ test_acc +val_acc +train_acc epoch batch_size embed_dim optimizer learning_rate init_mode regularization regul_param max_nb_word max_seq_length\\n')\n",
    "accuracy_parameters_file.close()"
   ]
  },
  {
   "cell_type": "code",
   "execution_count": 33,
   "metadata": {},
   "outputs": [
    {
     "name": "stdout",
     "output_type": "stream",
     "text": [
      "[[0 0 0 1 0]\n",
      " [0 0 0 0 1]\n",
      " [1 0 0 0 0]\n",
      " [1 0 0 0 0]\n",
      " [0 0 0 1 0]\n",
      " [0 0 0 0 1]\n",
      " [0 0 1 0 0]\n",
      " [0 1 0 0 0]\n",
      " [0 1 0 0 0]\n",
      " [0 1 0 0 0]]\n",
      "[[1.3528421e-03 1.6186993e-03 2.9330724e-03 9.8596579e-01 8.1295492e-03]\n",
      " [6.4366329e-03 7.4076112e-03 3.0724794e-02 6.0917634e-01 3.4625465e-01]\n",
      " [9.9642700e-01 7.4894115e-04 1.7196660e-04 2.3224107e-03 3.2957166e-04]\n",
      " [9.9900609e-01 1.2309388e-04 1.5877011e-04 5.8633450e-04 1.2579457e-04]\n",
      " [3.6167121e-04 5.9294113e-04 7.2164985e-05 9.9885881e-01 1.1438524e-04]\n",
      " [3.4427838e-03 7.4790544e-03 1.1190693e-01 1.3553496e-02 8.6361778e-01]\n",
      " [1.1727656e-03 3.0610533e-04 9.9129301e-01 5.3895530e-03 1.8385195e-03]\n",
      " [2.3449161e-03 9.6384054e-01 2.2051315e-04 2.7292161e-03 3.0864786e-02]\n",
      " [1.0065999e-03 9.8953307e-01 7.6744836e-05 7.9820881e-04 8.5853152e-03]\n",
      " [9.7230133e-03 2.3949926e-03 9.4043946e-01 1.8279720e-02 2.9162794e-02]]\n"
     ]
    }
   ],
   "source": [
    "print(Y_test[:10])\n",
    "predi = model.predict(X_test[:10])\n",
    "print(predi)"
   ]
  },
  {
   "cell_type": "code",
   "execution_count": 50,
   "metadata": {},
   "outputs": [
    {
     "name": "stdout",
     "output_type": "stream",
     "text": [
      "[4 4 1 ... 3 3 3]\n",
      "[4 4 4 ... 3 3 3]\n",
      "[[338   8   1  39  14]\n",
      " [  8 346   2   7  37]\n",
      " [  3   7 108  42  25]\n",
      " [ 17   6  26 312  39]\n",
      " [ 13  48  21  52 266]]\n"
     ]
    }
   ],
   "source": [
    "#Confusion matrix\n",
    "Y_pred = model.predict(X_test)\n",
    "y_pred_test = np.argmax(Y_pred, axis=1)\n",
    "print(y_pred)\n",
    "Y_test_int = np.argmax(Y_test, axis=1)\n",
    "print(Y_test_int)\n",
    "print(confusion_matrix(Y_test_int, y_pred_test))"
   ]
  },
  {
   "cell_type": "code",
   "execution_count": 58,
   "metadata": {},
   "outputs": [
    {
     "name": "stdout",
     "output_type": "stream",
     "text": [
      "911/911 [==============================] - 2s 2ms/step\n",
      "Test set\n",
      "  Loss: 2.092\n",
      "  Accuracy: 0.215\n"
     ]
    }
   ],
   "source": [
    "accr = model.evaluate(X_test,Y_test)\n",
    "print('Test set\\n  Loss: {:0.3f}\\n  Accuracy: {:0.3f}'.format(accr[0],accr[1]))"
   ]
  },
  {
   "cell_type": "code",
   "execution_count": 2,
   "metadata": {},
   "outputs": [
    {
     "ename": "NameError",
     "evalue": "name 'history' is not defined",
     "output_type": "error",
     "traceback": [
      "\u001b[0;31m---------------------------------------------------------------------------\u001b[0m",
      "\u001b[0;31mNameError\u001b[0m                                 Traceback (most recent call last)",
      "\u001b[0;32m<ipython-input-2-d688d534588c>\u001b[0m in \u001b[0;36m<module>\u001b[0;34m\u001b[0m\n\u001b[1;32m      1\u001b[0m \u001b[0mplt\u001b[0m\u001b[0;34m.\u001b[0m\u001b[0mtitle\u001b[0m\u001b[0;34m(\u001b[0m\u001b[0;34m'Loss'\u001b[0m\u001b[0;34m)\u001b[0m\u001b[0;34m\u001b[0m\u001b[0;34m\u001b[0m\u001b[0m\n\u001b[0;32m----> 2\u001b[0;31m \u001b[0mplt\u001b[0m\u001b[0;34m.\u001b[0m\u001b[0mplot\u001b[0m\u001b[0;34m(\u001b[0m\u001b[0mhistory\u001b[0m\u001b[0;34m.\u001b[0m\u001b[0mhistory\u001b[0m\u001b[0;34m[\u001b[0m\u001b[0;34m'loss'\u001b[0m\u001b[0;34m]\u001b[0m\u001b[0;34m,\u001b[0m \u001b[0mlabel\u001b[0m\u001b[0;34m=\u001b[0m\u001b[0;34m'train'\u001b[0m\u001b[0;34m)\u001b[0m\u001b[0;34m\u001b[0m\u001b[0;34m\u001b[0m\u001b[0m\n\u001b[0m\u001b[1;32m      3\u001b[0m \u001b[0mplt\u001b[0m\u001b[0;34m.\u001b[0m\u001b[0mplot\u001b[0m\u001b[0;34m(\u001b[0m\u001b[0mhistory\u001b[0m\u001b[0;34m.\u001b[0m\u001b[0mhistory\u001b[0m\u001b[0;34m[\u001b[0m\u001b[0;34m'val_loss'\u001b[0m\u001b[0;34m]\u001b[0m\u001b[0;34m,\u001b[0m \u001b[0mlabel\u001b[0m\u001b[0;34m=\u001b[0m\u001b[0;34m'val'\u001b[0m\u001b[0;34m)\u001b[0m\u001b[0;34m\u001b[0m\u001b[0;34m\u001b[0m\u001b[0m\n\u001b[1;32m      4\u001b[0m \u001b[0mplt\u001b[0m\u001b[0;34m.\u001b[0m\u001b[0mlegend\u001b[0m\u001b[0;34m(\u001b[0m\u001b[0;34m)\u001b[0m\u001b[0;34m\u001b[0m\u001b[0;34m\u001b[0m\u001b[0m\n\u001b[1;32m      5\u001b[0m \u001b[0mplt\u001b[0m\u001b[0;34m.\u001b[0m\u001b[0mshow\u001b[0m\u001b[0;34m(\u001b[0m\u001b[0;34m)\u001b[0m\u001b[0;34m;\u001b[0m\u001b[0;34m\u001b[0m\u001b[0;34m\u001b[0m\u001b[0m\n",
      "\u001b[0;31mNameError\u001b[0m: name 'history' is not defined"
     ]
    },
    {
     "data": {
      "image/png": "[encoded data removed]",
      "text/plain": [
       "<Figure size 432x288 with 1 Axes>"
      ]
     },
     "metadata": {
      "needs_background": "light"
     },
     "output_type": "display_data"
    }
   ],
   "source": [
    "plt.title('Loss')\n",
    "plt.plot(history.history['loss'], label='train')\n",
    "plt.plot(history.history['val_loss'], label='val')\n",
    "plt.legend()\n",
    "plt.show();"
   ]
  },
  {
   "cell_type": "code",
   "execution_count": 36,
   "metadata": {
    "scrolled": true
   },
   "outputs": [
    {
     "data": {
      "image/png": "[encoded data removed]",
      "text/plain": [
       "<Figure size 432x288 with 1 Axes>"
      ]
     },
     "metadata": {
      "needs_background": "light"
     },
     "output_type": "display_data"
    }
   ],
   "source": [
    "plt.title('Accuracy')\n",
    "plt.plot(history.history['accuracy'], label='train')\n",
    "plt.plot(history.history['val_accuracy'], label='val')\n",
    "plt.legend()\n",
    "plt.show();"
   ]
  },
  {
   "cell_type": "markdown",
   "metadata": {},
   "source": [
    "### Grid search"
   ]
  },
  {
   "cell_type": "code",
   "execution_count": 96,
   "metadata": {},
   "outputs": [],
   "source": [
    "from sklearn.model_selection import GridSearchCV\n",
    "from keras.wrappers.scikit_learn import KerasClassifier\n",
    "from keras.constraints import maxnorm"
   ]
  },
  {
   "cell_type": "code",
   "execution_count": 138,
   "metadata": {},
   "outputs": [],
   "source": [
    "# Function to create model, required for KerasClassifier\n",
    "def create_model(learn_rate=0.01,beta_1 = 0.9, momentum=0,init_mode='uniform',activation='relu',dropout_rate=0.0, weight_constraint=0):\n",
    "    # create model\n",
    "    model = Sequential()\n",
    "    model.add(Embedding(MAX_NB_WORDS, EMBEDDING_DIM, input_length=X_train.shape[1]))\n",
    "    #model.add(Dense(32, kernel_initializer='uniform', activation='linear', kernel_constraint=maxnorm(weight_constraint)))\n",
    "    model.add(Dense(32, activation='relu'))\n",
    "    model.add(Flatten())\n",
    "    #model.add(Dense(5, kernel_initializer='uniform', activation='sigmoid'))\n",
    "    model.add(Dense(5, activation='sigmoid'))\n",
    "    # Compile model\n",
    "    #optimizer = tf.keras.optimizers.SGD(lr=learn_rate, momentum=momentum)\n",
    "    #tf.keras.optimizers.SGD(lr=learn_rate, momentum=momentum)\n",
    "    optimizer = tf.keras.optimizers.Adam(lr=learn_rate, beta_1=beta_1)\n",
    "    model.compile(loss='categorical_crossentropy', optimizer=optimizer, metrics=['accuracy'])\n",
    "    return model"
   ]
  },
  {
   "cell_type": "code",
   "execution_count": 123,
   "metadata": {},
   "outputs": [],
   "source": [
    "seed = 7\n",
    "np.random.seed(seed)"
   ]
  },
  {
   "cell_type": "code",
   "execution_count": 139,
   "metadata": {},
   "outputs": [],
   "source": [
    "model = KerasClassifier(build_fn=create_model, epochs=10, batch_size=256, verbose=0)"
   ]
  },
  {
   "cell_type": "code",
   "execution_count": 140,
   "metadata": {},
   "outputs": [],
   "source": [
    "#learn_rate = [0.001, 0.01, 0.1, 0.2, 0.3]\n",
    "#momentum = [0.0, 0.2, 0.4, 0.6, 0.8, 0.9]\n",
    "learn_rate = [0.1, 0.2]\n",
    "momentum = [0.4,0.8]\n",
    "beta_1 = [0.4, 0.9]"
   ]
  },
  {
   "cell_type": "code",
   "execution_count": 142,
   "metadata": {},
   "outputs": [],
   "source": [
    "param_grid = dict(learn_rate=learn_rate, beta_1=beta_1)\n",
    "grid = GridSearchCV(estimator=model, param_grid=param_grid, n_jobs=-1, cv=3,return_train_score=True)\n",
    "grid_result = grid.fit(X_train, Y_train)"
   ]
  },
  {
   "cell_type": "code",
   "execution_count": 144,
   "metadata": {},
   "outputs": [
    {
     "name": "stdout",
     "output_type": "stream",
     "text": [
      "Best: 0.226789 using {'beta_1': 0.4, 'learn_rate': 0.1}\n",
      "0.226789 0.215918 (0.034586) with: {'beta_1': 0.4, 'learn_rate': 0.1}\n",
      "0.219543 0.219540 (0.024341) with: {'beta_1': 0.4, 'learn_rate': 0.2}\n",
      "0.219543 0.219540 (0.024341) with: {'beta_1': 0.9, 'learn_rate': 0.1}\n",
      "0.219543 0.219540 (0.024341) with: {'beta_1': 0.9, 'learn_rate': 0.2}\n"
     ]
    }
   ],
   "source": [
    "print(\"Best: %f using %s\" % (grid_result.best_score_, grid_result.best_params_))\n",
    "means = grid_result.cv_results_['mean_test_score']\n",
    "stds = grid_result.cv_results_['std_test_score']\n",
    "means_train = grid_result.cv_results_['mean_train_score']\n",
    "params = grid_result.cv_results_['params']\n",
    "for mean, mean_train, stdev, param in zip(means,means_train, stds, params):\n",
    "    print(\"%f %f (%f) with: %r\" % (mean, mean_train, stdev, param))"
   ]
  },
  {
   "cell_type": "code",
   "execution_count": 64,
   "metadata": {},
   "outputs": [
    {
     "name": "stdout",
     "output_type": "stream",
     "text": [
      "Model: \"Model 4\"\n",
      "_________________________________________________________________\n",
      "Layer (type)                 Output Shape              Param #   \n",
      "=================================================================\n",
      "embedding_8 (Embedding)      (None, 250, 100)          5000000   \n",
      "_________________________________________________________________\n",
      "dense_21 (Dense)             (None, 250, 64)           6464      \n",
      "_________________________________________________________________\n",
      "flatten_12 (Flatten)         (None, 16000)             0         \n",
      "_________________________________________________________________\n",
      "dense_22 (Dense)             (None, 5)                 80005     \n",
      "_________________________________________________________________\n",
      "activation_8 (Activation)    (None, 5)                 0         \n",
      "=================================================================\n",
      "Total params: 5,086,469\n",
      "Trainable params: 5,086,469\n",
      "Non-trainable params: 0\n",
      "_________________________________________________________________\n",
      "None\n"
     ]
    }
   ],
   "source": [
    "model = Sequential()\n",
    "model.name=\"Model 4\"\n",
    "model.add(Embedding(MAX_NB_WORDS, EMBEDDING_DIM, input_length=X_train.shape[1]))\n",
    "model.add(Dense(64, activation='relu'))\n",
    "model.add(Flatten())\n",
    "#model.add(Dense(64))\n",
    "model.add(Dense(5))\n",
    "model.add(Activation('softmax'))\n",
    "\n",
    "model.compile(loss='categorical_crossentropy', optimizer='adam', metrics=['accuracy'])\n",
    "print(model.summary())"
   ]
  },
  {
   "cell_type": "code",
   "execution_count": null,
   "metadata": {},
   "outputs": [],
   "source": []
  }
 ],
 "metadata": {
  "kernelspec": {
   "display_name": "Python 3",
   "language": "python",
   "name": "python3"
  },
  "language_info": {
   "codemirror_mode": {
    "name": "ipython",
    "version": 3
   },
   "file_extension": ".py",
   "mimetype": "text/x-python",
   "name": "python",
   "nbconvert_exporter": "python",
   "pygments_lexer": "ipython3",
   "version": "3.7.5"
  }
 },
 "nbformat": 4,
 "nbformat_minor": 2
}
