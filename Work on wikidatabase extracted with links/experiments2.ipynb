{
 "cells": [
  {
   "cell_type": "code",
   "execution_count": 76,
   "metadata": {},
   "outputs": [],
   "source": [
    "import pickle\n",
    "import time\n",
    "import re\n",
    "import glob\n",
    "import os\n",
    "import shutil\n",
    "import numpy as np\n",
    "from matplotlib import pyplot\n",
    "import tensorflow as tf\n",
    "from nltk.corpus import stopwords\n",
    "import random\n",
    "import tensorflow_hub as hub\n",
    "import matplotlib.pyplot as plt\n",
    "import pandas as pd\n",
    "import gensim\n",
    "\n",
    "from keras.preprocessing.text import Tokenizer\n",
    "from keras.preprocessing.sequence import pad_sequences\n",
    "from keras.models import Sequential\n",
    "from keras.layers import Dense, Embedding, LSTM, SpatialDropout1D, Bidirectional, Activation, Reshape\n",
    "from keras.layers import Convolution1D, MaxPooling1D, Flatten\n",
    "from sklearn.model_selection import train_test_split\n",
    "from keras.utils.np_utils import to_categorical\n",
    "from keras.callbacks import EarlyStopping\n",
    "from keras.layers import Dropout\n",
    "\n",
    "from sklearn.linear_model import LogisticRegression\n",
    "from sklearn.feature_extraction.text import CountVectorizer\n",
    "from sklearn.feature_extraction.text import TfidfVectorizer\n",
    "from sklearn.svm import LinearSVC\n",
    "from sklearn.ensemble import RandomForestClassifier\n",
    "from sklearn.metrics import accuracy_score\n",
    "from sklearn.metrics import classification_report\n",
    "from sklearn.metrics import confusion_matrix\n",
    "from sklearn.calibration import CalibratedClassifierCV"
   ]
  },
  {
   "cell_type": "code",
   "execution_count": 118,
   "metadata": {},
   "outputs": [],
   "source": [
    "def remove_stopwords(article):\n",
    "    stopword_list = set(stopwords.words(\"english\"))\n",
    "    return [word for word in article.split() if word not in stopword_list]\n",
    "\n",
    "\n",
    "def remove_character(article):\n",
    "    return re.sub(\"[^a-zA-Z]+\", \" \", article)\n",
    "\n",
    "def remove_one_character_token(article) : \n",
    "    return [word for word in article if len(word)>1]\n",
    "    \n",
    "def lower(string):\n",
    "    return string.lower()\n",
    "\n",
    "\n",
    "def clean(article):\n",
    "    article = article.strip()\n",
    "    article = lower(article)\n",
    "    article = remove_character(article)\n",
    "    article = remove_stopwords(article)\n",
    "    article = remove_one_character_token(article)\n",
    "    article = ' '.join(article)\n",
    "    return article\n",
    "\n",
    "def clean2(article):\n",
    "    #article = article.strip()\n",
    "    article = lower(article)\n",
    "    article = remove_character(article)\n",
    "    article = remove_stopwords(article)\n",
    "    article = remove_one_character_token(article)\n",
    "    article = ' '.join(article)\n",
    "    return article"
   ]
  },
  {
   "cell_type": "code",
   "execution_count": 130,
   "metadata": {},
   "outputs": [],
   "source": [
    "def create_input_count_vec(max_n_word=20000,mode_tfidf = True) : \n",
    "    \n",
    "    text_train = []\n",
    "    target_train = []\n",
    "    text_val = []\n",
    "    target_val = []\n",
    "    text_test = []\n",
    "    target_test = []   \n",
    "    \n",
    "    print('Loading and cleaning files ...')\n",
    "    \n",
    "    t0 = time.time()\n",
    "\n",
    "    for link in glob.glob('/Users/andrealequin/Desktop/Stage_NLP/Simple_extraction/train_list/*.txt') : \n",
    "        file = open(link,'r')\n",
    "        text_train.append(clean(file.read()))\n",
    "        target_train.append(int(os.path.basename(file.name)[0:2]))\n",
    "\n",
    "        \n",
    "    for link in glob.glob('/Users/andrealequin/Desktop/Stage_NLP/Simple_extraction/val_list/*.txt') : \n",
    "        file = open(link,'r')\n",
    "        text_val.append(clean(file.read()))\n",
    "        target_val.append(int(os.path.basename(file.name)[0:2]))   \n",
    "\n",
    "    for link in glob.glob('/Users/andrealequin/Desktop/Stage_NLP/Simple_extraction/test_list/*.txt') : \n",
    "        file = open(link,'r')\n",
    "        text_test.append(clean(file.read()))\n",
    "        target_test.append(int(os.path.basename(file.name)[0:2]))   \n",
    "        \n",
    "    t1 = time.time()\n",
    "    \n",
    "    print('Loading and cleaning files time : ','%.1f' % (t1-t0),'s')\n",
    "    \n",
    "    print('Count Vectorization ...')\n",
    "    \n",
    "    if mode_tfidf == True : \n",
    "        vectorizer = TfidfVectorizer(max_features = max_n_word)\n",
    "        print('mode : tdidf')\n",
    "    else : \n",
    "        vectorizer = CountVectorizer(max_features = max_n_word)\n",
    "        print('mode : simple count')\n",
    "        \n",
    "    x_train = vectorizer.fit_transform(text_train)\n",
    "    y_train = np.asarray(target_train)\n",
    "  \n",
    "    x_val = vectorizer.transform(text_val)\n",
    "    y_val = np.asarray(target_val)\n",
    "    \n",
    "    x_test = vectorizer.transform(text_test)\n",
    "    y_test = np.asarray(target_test)\n",
    "    \n",
    "    t2 = time.time()\n",
    "    print('Vectorization time : ', '%.1f' % (t2-t1),'s')\n",
    "    \n",
    "    return x_train, y_train, x_val, y_val, x_test, y_test, text_train, text_val, text_test"
   ]
  },
  {
   "cell_type": "code",
   "execution_count": 132,
   "metadata": {},
   "outputs": [],
   "source": [
    "def create_sentences_input() : \n",
    "    t0 = time.time()\n",
    "    print('Creating tokenized sentences to feed Word2Vec model ...')\n",
    "    list_of_sentences = []\n",
    "    cnt = 0\n",
    "    for link in glob.glob('/Users/andrealequin/Desktop/Stage_NLP/Simple_extraction/train_list/*.txt') : \n",
    "        file = open(link,'r')\n",
    "        article = file.read()\n",
    "        split_art= re.split('(?<!\\w\\.\\w.)(?<![A-Z][a-z]\\.)(?<=\\.|\\?)\\s',article) #split into sentences\n",
    "        for sentence in split_art :\n",
    "            clean_sentence = clean2(sentence)\n",
    "            sentence_into_list = clean_sentence.split() \n",
    "            list_of_sentences.append(sentence_into_list)\n",
    "        #cnt+=1\n",
    "        #if cnt>10 : \n",
    "        #    break\n",
    "    t1 = time.time()\n",
    "    print('Splitting and cleaning time : ', '%.1f' % (t1-t0),'s')\n",
    "    return list_of_sentences"
   ]
  },
  {
   "cell_type": "code",
   "execution_count": 74,
   "metadata": {},
   "outputs": [
    {
     "name": "stdout",
     "output_type": "stream",
     "text": [
      "Loading and cleaning files ...\n",
      "Loading and cleaning files time :  46.62173414230347\n",
      "Count Vectorization ...\n",
      "mode : simple count\n",
      "Vectorization time :  27.406813859939575\n"
     ]
    }
   ],
   "source": [
    "x_train, y_train, x_val, y_val, x_test, y_test, text_train, text_val, text_test = create_input_count_vec(max_n_word=20000,mode_tfidf = False)\n",
    "#sets = x_train, y_train, x_val, y_val, x_test, y_test, text_train, text_val, text_test\n",
    "sets2 = x_train, y_train, x_val, y_val, x_test, y_test, text_train, text_val, text_test"
   ]
  },
  {
   "cell_type": "code",
   "execution_count": 133,
   "metadata": {},
   "outputs": [
    {
     "name": "stdout",
     "output_type": "stream",
     "text": [
      "Creating tokenized sentences to feed Word2Vec model ...\n",
      "Splitting and cleaning time :  336.3 s\n"
     ]
    }
   ],
   "source": [
    "list_sentences_train = create_sentences_input()"
   ]
  },
  {
   "cell_type": "code",
   "execution_count": 121,
   "metadata": {},
   "outputs": [
    {
     "name": "stdout",
     "output_type": "stream",
     "text": [
      "[['knight', 'tour', 'sequence', 'moves', 'knight', 'chessboard', 'knight', 'visits', 'every', 'square', 'exactly'], ['knight', 'ends', 'square', 'one', 'knight', 'move', 'beginning', 'square', 'could', 'tour', 'board', 'immediately', 'following', 'path', 'tour', 'closed', 'otherwise', 'open', 'knight', 'tour', 'problem', 'mathematical', 'problem', 'finding', 'knight', 'tour'], ['creating', 'program', 'find', 'knight', 'tour', 'common', 'problem', 'given', 'computer', 'science', 'students'], ['variations', 'knight', 'tour', 'problem', 'involve', 'chessboards', 'different', 'sizes', 'usual', 'well', 'irregular', 'non', 'rectangular', 'boards'], ['theory', 'knight', 'tour', 'problem', 'instance', 'general', 'hamiltonian', 'path', 'problem', 'graph', 'theory'], ['problem', 'finding', 'closed', 'knight', 'tour', 'similarly', 'instance', 'hamiltonian', 'cycle', 'problem'], ['unlike', 'general', 'hamiltonian', 'path', 'problem', 'knight', 'tour', 'problem', 'solved', 'linear', 'time'], ['history', 'earliest', 'known', 'reference', 'knight', 'tour', 'problem', 'dates', 'back', 'th', 'century', 'ad'], ['rudra', 'kavyalankara', 'sanskrit', 'work', 'poetics', 'pattern', 'knight', 'tour', 'half', 'board', 'presented', 'elaborate', 'poetic', 'figure', 'citra', 'ala', 'ra', 'called', 'turagapadabandha', 'arrangement', 'steps', 'horse'], ['verse', 'four', 'lines', 'eight', 'syllables', 'read', 'left', 'right', 'following', 'path', 'knight', 'tour'], ['since', 'indic', 'writing', 'systems', 'used', 'sanskrit', 'syllabic', 'syllable', 'thought', 'representing', 'square', 'chessboard'], ['rudrata', 'example', 'follows', 'transliterated', 'example', 'first', 'line', 'read', 'left', 'right', 'moving', 'first', 'square', 'second', 'line', 'third', 'syllable', 'sri', 'vaishnava', 'poet', 'philosopher', 'vedanta', 'desika', 'th', 'century', 'verse', 'magnum', 'opus', 'praising', 'lord', 'ranganatha', 'divine', 'sandals', 'srirangam', 'paduka', 'sahasram', 'chapter', 'chitra', 'paddhati', 'composed', 'two', 'consecutive', 'sanskrit', 'verses', 'containing', 'letters', 'anushtubh', 'meter', 'second', 'verse', 'derived', 'first', 'verse', 'performing', 'knight', 'tour', 'board', 'starting', 'top', 'left', 'corner'], ['transliterated', 'th', 'verse', 'follows', 'th', 'verse', 'obtained', 'performing', 'knight', 'tour', 'verse', 'follows', 'sthi', 'tha', 'sa', 'ya', 'ra', 'ja', 'thpa', 'ga', 'tha', 'ra', 'dha', 'ke', 'ga', 'vi', 'dhu', 'ran', 'ha', 'sam', 'sa', 'nna', 'tha', 'dha', 'sa', 'dhya', 'tha', 'pa', 'ka', 'ra', 'sa', 'ra', 'believed', 'desika', 'composed', 'verses', 'including', 'special', 'chaturanga', 'turanga', 'padabandham', 'mentioned', 'single', 'night', 'challenge', 'tour', 'reported', 'fifth', 'book', 'bhagavantabaskaraby', 'bhat', 'nilakantha', 'cyclopedic', 'work', 'sanskrit', 'ritual', 'law', 'politics', 'written', 'either', 'describes', 'three', 'knight', 'tours'], ['tours', 'reentrant', 'also', 'symmetrical', 'verses', 'based', 'tour', 'starting', 'different', 'squares'], ['work', 'bhat', 'nilakantha', 'extraordinary', 'achievement', 'fully', 'symmetric', 'closed', 'tour', 'predating', 'work', 'euler', 'least', 'years'], ['one', 'first', 'mathematicians', 'investigate', 'knight', 'tour', 'leonhard', 'euler'], ['first', 'procedure', 'completing', 'knight', 'tour', 'warnsdorff', 'rule', 'first', 'described'], [], ['von', 'warnsdorff'], ['th', 'century', 'oulipo', 'group', 'writers', 'used', 'among', 'many', 'others'], ['notable', 'example', 'knight', 'tour', 'sets', 'order', 'chapters', 'georges', 'perec', 'novel', 'life', 'user', 'manual'], ['sixth', 'game', 'world', 'chess', 'championship', 'viswanathan', 'anand', 'veselin', 'topalov', 'saw', 'anand', 'making', 'consecutive', 'knight', 'moves', 'albeit', 'using', 'knights', 'online', 'commentators', 'jested', 'anand', 'trying', 'solve', 'knight', 'tour', 'problem', 'game'], ['existence', 'schwenk', 'proved', 'board', 'closed', 'knight', 'tour', 'always', 'possible', 'unless', 'one', 'three', 'conditions', 'met', 'odd', 'cull', 'et', 'al'], ['conrad', 'et', 'al'], ['proved', 'rectangular', 'board', 'whose', 'smaller', 'dimension', 'least', 'possibly', 'open', 'knight', 'tour'], ['number', 'tours', 'board', 'exactly', 'directed', 'closed', 'tours', 'two', 'tours', 'along', 'path', 'travel', 'opposite', 'directions', 'counted', 'separately', 'rotations', 'reflections'], ['number', 'undirected', 'closed', 'tours', 'half', 'number', 'since', 'every', 'tour', 'traced', 'reverse'], ['undirected', 'closed', 'tours', 'board'], ['finding', 'tours', 'computers', 'several', 'ways', 'find', 'knight', 'tour', 'given', 'board', 'computer'], ['methods', 'algorithms', 'others', 'heuristics'], ['brute', 'force', 'algorithms', 'brute', 'force', 'search', 'knight', 'tour', 'impractical', 'smallest', 'boards'], ['example', 'approximately', 'possible', 'move', 'sequences', 'board', 'well', 'beyond', 'capacity', 'modern', 'computers', 'networks', 'computers', 'perform', 'operations', 'large', 'set'], ['however', 'size', 'number', 'indicative', 'difficulty', 'problem', 'solved', 'using', 'human', 'insight', 'ingenuity'], ['without', 'much', 'difficulty', 'divide', 'conquer', 'algorithms', 'dividing', 'board', 'smaller', 'pieces', 'constructing', 'tours', 'piece', 'patching', 'pieces', 'together', 'one', 'construct', 'tours', 'rectangular', 'boards', 'linear', 'time', 'time', 'proportional', 'number', 'squares', 'board'], ['warnsdorff', 'rule', 'warnsdorff', 'rule', 'heuristic', 'finding', 'single', 'knight', 'tour'], ['knight', 'moved', 'always', 'proceeds', 'square', 'knight', 'fewest', 'onward', 'moves'], ['calculating', 'number', 'onward', 'moves', 'candidate', 'square', 'count', 'moves', 'revisit', 'square', 'already', 'visited'], ['possible', 'two', 'choices', 'number', 'onward', 'moves', 'equal', 'various', 'methods', 'breaking', 'ties', 'including', 'one', 'devised', 'pohl', 'another', 'squirrel', 'cull', 'rule', 'may', 'also', 'generally', 'applied', 'graph'], ['graph', 'theoretic', 'terms', 'move', 'made', 'adjacent', 'vertex', 'least', 'degree'], ['although', 'hamiltonian', 'path', 'problem', 'np', 'hard', 'general', 'many', 'graphs', 'occur', 'practice', 'heuristic', 'able', 'successfully', 'locate', 'solution', 'linear', 'time'], ['knight', 'tour', 'special', 'case', 'heuristic', 'first', 'described', 'des', 'sselsprungs', 'einfachste', 'und', 'allgemeinste', 'sung'], [], ['von', 'warnsdorff', 'computer', 'program', 'finds', 'knight', 'tour', 'starting', 'position', 'using', 'warnsdorff', 'rule', 'written', 'gordon', 'horsington', 'published', 'book', 'century', 'acorn', 'user', 'book', 'computer', 'puzzles'], ['neural', 'network', 'solutions', 'knight', 'tour', 'problem', 'also', 'lends', 'solved', 'neural', 'network', 'implementation'], ['network', 'set', 'every', 'legal', 'knight', 'move', 'represented', 'neuron', 'neuron', 'initialized', 'randomly', 'either', 'active', 'inactive', 'output', 'implying', 'neuron', 'part', 'solution'], ['neuron', 'also', 'state', 'function', 'described', 'initialized'], ['network', 'allowed', 'run', 'neuron', 'change', 'state', 'output', 'based', 'states', 'outputs', 'neighbors', 'exactly', 'one', 'knight', 'move', 'away', 'according', 'following', 'transition', 'rules', 'displaystyle', 'sum', 'otherwise', 'displaystyle', 'left', 'begin', 'array', 'mbox', 'mbox', 'mbox', 'otherwise', 'end', 'array', 'right', 'displaystyle', 'represents', 'discrete', 'intervals', 'time', 'displaystyle', 'state', 'neuron', 'connecting', 'square', 'displaystyle', 'square', 'displaystyle', 'displaystyle', 'output', 'neuron', 'displaystyle', 'displaystyle', 'displaystyle', 'set', 'neighbors', 'neuron'], ['although', 'divergent', 'cases', 'possible', 'network', 'eventually', 'converge', 'occurs', 'neuron', 'changes', 'state', 'time', 'displaystyle', 'displaystyle'], ['network', 'converges', 'either', 'network', 'encodes', 'knight', 'tour', 'series', 'two', 'independent', 'circuits', 'within', 'board'], ['see', 'also', 'abu', 'bakr', 'bin', 'yahya', 'al', 'suli', 'george', 'koltanowski', 'longest', 'uncrossed', 'knight', 'path', 'eight', 'queens', 'puzzle', 'notes', 'external', 'links', 'oeis', 'sequence', 'number', 'undirected', 'closed', 'knight', 'tours', 'chessboard'], [], ['von', 'warnsdorf', 'google', 'books', 'introduction', 'knight', 'tours', 'george', 'jelliss', 'knight', 'tours', 'complete', 'notes', 'george', 'jelliss', 'philip', 'anish'], ['generalized', 'pseudo', 'knight', 'tour', 'algorithm', 'encryption', 'image'], ['ieee', 'potentials'], [], ['doi', 'mpot'], ['economy', 'england', 'largest', 'economy', 'four', 'countries', 'united', 'kingdom'], ['england', 'independent', 'sovereign', 'state', 'economy', 'would', 'seventh', 'eighth', 'largest', 'world'], ['produces', 'united', 'kingdom', 'total', 'gdp'], ['england', 'highly', 'industrialised', 'country'], ['important', 'producer', 'textiles', 'chemical', 'products'], ['although', 'automobiles', 'locomotives', 'aircraft', 'among', 'england', 'important', 'industrial', 'products', 'significant', 'proportion', 'country', 'income', 'comes', 'city', 'london'], ['since', 'financial', 'services', 'sector', 'played', 'increasingly', 'significant', 'role', 'english', 'economy', 'city', 'london', 'one', 'world', 'largest', 'financial', 'centres'], ['banks', 'insurance', 'companies', 'commodity', 'futures', 'exchanges', 'heavily', 'concentrated', 'city'], ['british', 'pound', 'sterling', 'official', 'currency', 'england', 'central', 'bank', 'united', 'kingdom', 'bank', 'england', 'located', 'london'], ['service', 'sector', 'economy', 'whole', 'largest', 'england', 'manufacturing', 'primary', 'industries', 'decline'], ['major', 'secondary', 'industry', 'growing', 'construction', 'industry', 'fueled', 'economic', 'growth', 'provided', 'mainly', 'growing', 'services', 'administrative', 'financial', 'sector'], ['gdp', 'gross', 'domestic', 'product', 'gdp', 'figures', 'estimated', 'using', 'variety', 'means', 'independent', 'nations', 'used', 'measure', 'compare', 'aggregate', 'total', 'wealth', 'countries'], ['since', 'england', 'independent', 'state', 'comprises', 'one', 'four', 'major', 'nations', 'uk', 'along', 'scotland', 'wales', 'northern', 'ireland', 'fewer', 'internationally', 'comparable', 'figures', 'available'], ['would', 'make', 'economy', 'england', 'taken', 'alone', 'tn', 'tn', 'approximately', 'world', 'th', 'largest', 'economy', 'behind', 'france', 'ahead', 'italy', 'opposed', 'th', 'largest', 'uk', 'whole', 'india', 'th', 'france', 'th', 'usual', 'criteria'], ['scotland', 'economy', 'comparison', 'would', 'roughly', 'size', 'greece', 'th'], ['history', 'medieval', 'times'], ['th', 'th', 'century', 'wool', 'trade', 'major', 'industry', 'england', 'country', 'exported', 'wool', 'europe'], ['many', 'market', 'towns', 'ports', 'grew', 'industry'], ['starting', 'john', 'lok', 'england', 'entered', 'slave', 'trade'], ['john', 'hawkins', 'often', 'considered', 'pioneer', 'british', 'slave', 'trade', 'first', 'run', 'triangular', 'trade', 'making', 'profit', 'every', 'stop'], ['poor', 'infrastructure', 'hampered', 'development', 'large', 'scale', 'industry'], ['changed', 'canals', 'railways', 'began', 'built', 'late', 'th', 'century', 'early', 'th', 'century'], ['england', 'became', 'world', 'first', 'industrialised', 'nation', 'industrial', 'revolution', 'taking', 'place', 'late', 'th', 'century'], ['also', 'age', 'british', 'overseas', 'expansion', 'england', 'relied', 'upon', 'colonies', 'india', 'america', 'canada', 'australia', 'bring', 'resources', 'cotton', 'tobacco'], ['english', 'factories', 'processed', 'goods', 'sold', 'quickly', 'growing', 'domestic', 'market', 'abroad'], ['cities', 'grew', 'large', 'industrial', 'centres', 'established', 'especially', 'midlands', 'north', 'england'], ['sectors', 'agriculture', 'fishing', 'agriculture', 'intensive', 'highly', 'mechanised', 'efficient', 'european', 'standards', 'producing', 'food', 'needs', 'labour', 'force'], ['contributes', 'around', 'gdp'], ['around', 'two', 'thirds', 'production', 'devoted', 'livestock', 'one', 'third', 'arable', 'crops'], ['agriculture', 'subsidised', 'european', 'union', 'common', 'agricultural', 'policy'], ['main', 'crops', 'grown', 'wheat', 'barley', 'oats', 'potatoes', 'sugar', 'beets'], ['england', 'one', 'world', 'leading', 'fishing', 'nations'], ['fleets', 'bring', 'home', 'fish', 'every', 'kind', 'ranging', 'sole', 'herring'], ['kingston', 'upon', 'hull', 'grimsby', 'fleetwood', 'great', 'yarmouth', 'lowestoft', 'among', 'coastal', 'towns', 'large', 'fishing', 'industries'], ['finance', 'england', 'capital', 'london'], ['city', 'london', 'england', 'major', 'financial', 'district', 'one', 'world', 'leading', 'financial', 'centres'], ['city', 'london', 'stock', 'exchange', 'well', 'many', 'exchanges', 'based'], ['service', 'industries', 'particularly', 'banking', 'insurance', 'business', 'services', 'account', 'far', 'largest', 'proportion', 'gdp', 'employ', 'around', 'working', 'population', 'leeds', 'england', 'second', 'largest', 'financial', 'centre', 'national', 'international', 'banks', 'based', 'city'], ['people', 'employed', 'banking', 'financial', 'services', 'leeds', 'wider', 'leeds', 'city', 'region', 'manchester', 'largest', 'financial', 'professional', 'services', 'sector', 'outside', 'london', 'mid', 'tier', 'private', 'equity', 'capital', 'europe'], ['manufacturing', 'manufacturing', 'continues', 'decline', 'importance'], ['manufacturing', 'significant', 'part', 'england', 'economic', 'output'], ['however', 'lot', 'heavy', 'manufacturing', 'industry', 'government', 'run', 'failed', 'respond', 'world', 'markets'], ['state', 'industries', 'sold', 'th', 'century', 'many', 'closed', 'unable', 'compete', 'situation', 'largely', 'reflected', 'western', 'industrialised', 'countries'], ['june', 'manufacturing', 'united', 'kingdom', 'accounted', 'workforce', 'country', 'national', 'output'], ['england', 'remains', 'key', 'player', 'aerospace', 'defence', 'pharmaceutical', 'chemical', 'industries', 'british', 'companies', 'worldwide', 'continue', 'role', 'sector', 'foreign', 'investment'], ['tourism', 'tourism', 'accounted', 'billion', 'gdp', 'economy'], ['employs', 'million', 'people', 'around', 'working', 'population', 'largest', 'centre', 'tourism', 'london', 'attracted', 'close', 'million', 'tourists', 'alone'], ['british', 'museum', 'featuring', 'million', 'objects', 'vast', 'collection', 'served', 'major', 'tourist', 'attraction', 'visitors', 'alone', 'tourists', 'drawn', 'england', 'due', 'diverse', 'range', 'reasons', 'existence', 'one', 'world', 'surviving', 'monarchies', 'features', 'oldest', 'monarch', 'alive'], ['historical', 'importance', 'british', 'empire', 'world', 'super', 'power', 'also', 'led', 'rich', 'history', 'areas', 'architecture', 'tradition', 'art'], ['time', 'british', 'empire', 'amassed', 'impressive', 'collection', 'historically', 'important', 'artifacts', 'many', 'display', 'british', 'museum'], ['regional', 'disparity', 'north', 'south', 'divide', 'uk', 'according', 'eurostat', 'figures', 'huge', 'regional', 'disparities', 'uk', 'gdp', 'per', 'capita', 'ranging', 'west', 'wales', 'inner', 'london', 'west'], ['areas', 'uk', 'gdp', 'per', 'person'], ['comparison', 'france', 'ireland', 'compared', 'france', 'gdp', 'per', 'capita', 'ranges', 'french', 'overseas', 'territories', 'hauts', 'de', 'seine', 'france', 'regions', 'gdp', 'per', 'capita'], ['suggests', 'level', 'social', 'equality', 'much', 'greater', 'france', 'uk'], ['comparing', 'republic', 'ireland', 'gdp', 'per', 'capita', 'ranges', 'irish', 'midlands', 'dublin'], ['regions', 'ireland', 'gdp', 'per', 'person'], ['regional', 'variation', 'strength', 'english', 'economy', 'varies', 'regions'], ['following', 'table', 'shows', 'total', 'gva', 'gross', 'value', 'added', 'nine', 'english', 'region', 'addition', 'gva', 'per', 'capita'], ['figures'], ['two', 'economically', 'strongest', 'areas', 'european', 'union', 'england'], ['inner', 'london', 'number', 'gdp', 'per', 'capita', 'eu', 'average', 'berkshire', 'buckinghamshire', 'oxfordshire', 'number', 'gdp', 'per', 'capita', 'eu', 'average'], ['although', 'south', 'west', 'england', 'th', 'strongest', 'region', 'england', 'cornwall', 'isles', 'scilly', 'combined', 'nuts', 'region', 'statistical', 'purposes', 'weakest', 'area', 'england', 'gdp', 'per', 'capita', 'per', 'capita', 'eu', 'average'], ['british', 'chambers', 'commerce', 'quarterly', 'economic', 'survey', 'information', 'economy', 'region', 'performed', 'since'], ['see', 'also', 'economy', 'northern', 'ireland', 'economy', 'scotland', 'economy', 'wales', 'economy', 'united', 'kingdom', 'economy', 'europe', 'list', 'country', 'subdivisions', 'gdp', 'usd', 'billions', 'references', 'external', 'links', 'cia', 'world', 'factbook', 'british', 'chambers', 'commerce', 'quarterly', 'economic', 'survey'], ['slovenian', 'nationality', 'law', 'based', 'primarily', 'principles', 'jus', 'sanguinis', 'descent', 'slovenian', 'parent', 'primary', 'basis', 'acquisition', 'slovenian', 'citizenship'], ['however', 'although', 'children', 'born', 'foreign', 'parents', 'slovenia', 'acquire', 'slovenian', 'citizenship', 'basis', 'birthplace', 'place', 'birth', 'relevant', 'determining', 'whether', 'child', 'slovenian', 'parents', 'acquires', 'citizenship'], ['slovenia', 'became', 'independent', 'yugoslavia', 'june', 'transitional', 'provisions', 'made', 'acquisition', 'slovenian', 'citizenship', 'certain', 'former', 'yugoslav', 'citizens'], ['dual', 'citizenship', 'permitted', 'slovenia', 'exception', 'acquiring', 'slovenian', 'citizenship', 'naturalisation', 'normally', 'required', 'renounce', 'foreign', 'citizenship', 'hold'], ['transitional', 'provisions', 'independence', 'june', 'prior', 'independence', 'slovenians', 'citizens', 'yugoslavia'], ['however', 'within', 'yugoslavia', 'internal', 'citizenship', 'republic', 'slovenia', 'existed', 'independence', 'yugoslav', 'citizen', 'held', 'internal', 'slovenian', 'citizenship', 'automatically', 'became', 'slovenian', 'citizen'], ['certain', 'former', 'yugoslav', 'citizens', 'permitted', 'acquire', 'slovenian', 'citizenship', 'transitional', 'provisions', 'yugoslav', 'citizen', 'connected', 'another', 'republic', 'resident', 'slovenia', 'december', 'remained', 'resident', 'slovenia', 'coming', 'force', 'slovenia', 'nationality', 'act', 'together', 'person', 'children', 'aged', 'person', 'aged', 'born', 'slovenia', 'parents', 'originally', 'held', 'internal', 'slovene', 'citizenship', 'within', 'yugoslavia', 'switched', 'citizenship', 'another', 'yugoslav', 'republic'], ['citizenship', 'birth', 'adoption', 'child', 'born', 'slovenia', 'slovenian', 'citizen', 'either', 'parent', 'slovenian', 'citizen', 'child', 'born', 'outside', 'slovenia', 'child', 'automatically', 'slovenian', 'parents', 'slovenian', 'citizens', 'one', 'parent', 'slovenian', 'stateless', 'child', 'citizenship', 'person', 'born', 'outside', 'slovenia', 'one', 'slovenian', 'parent', 'slovenian', 'automatically', 'may', 'acquire', 'slovenian', 'citizenship', 'application', 'registration', 'slovenian', 'citizen', 'made', 'time', 'age', 'taking', 'permanent', 'residence', 'slovenia', 'age', 'children', 'adopted', 'slovenian', 'citizens', 'may', 'granted', 'slovenian', 'citizenship'], ['citizenship', 'naturalization', 'person', 'may', 'acquire', 'slovenian', 'citizenship', 'naturalization', 'upon', 'satisfying', 'following', 'conditions', 'total', 'years', 'residence', 'slovenia', 'including', 'years', 'continuous', 'residence', 'application', 'renunciation', 'foreign', 'citizenship', 'providing', 'proof', 'automatically', 'lost'], ['competency', 'slovenian', 'language', 'good', 'character', 'aged', 'least', 'sufficiently', 'established', 'slovenia', 'require', 'welfare', 'paymentsexceptions', 'requirements', 'naturalization', 'emigrated', 'slovenia', 'slovenian', 'ancestry', 'second', 'generation', 'direct', 'descent', 'may', 'naturalized', 'one', 'year', 'residence', 'slovenia'], ['renunciation', 'foreign', 'citizenship', 'required', 'concession'], ['person', 'married', 'slovenian', 'citizen', 'least', 'two', 'years', 'may', 'naturalized', 'one', 'year', 'residence', 'slovenia', 'requirement', 'renounce', 'foreign', 'citizenship', 'may', 'waived', 'upon', 'special', 'application'], ['general', 'waiver', 'naturalization', 'requirements', 'made', 'based', 'national', 'interests', 'slovenia', 'person', 'slovenian', 'origin', 'second', 'generation', 'direct', 'descent', 'former', 'slovenian', 'citizen', 'may', 'naturalized', 'without', 'residence', 'requirements'], ['application', 'slovenian', 'citizenship', 'lodged', 'slovenian', 'diplomatic', 'mission', 'abroad'], ['case', 'applicant', 'required', 'prove', 'active', 'ties', 'republic', 'slovenia', 'active', 'participation', 'several', 'years', 'slovenian', 'associations', 'slovenian', 'language', 'schools', 'expatriate', 'national', 'minority', 'organizations'], ['government', 'office', 'republic', 'slovenia', 'slovenes', 'abroad', 'authority', 'competent', 'evaluating', 'existence', 'national', 'reasons', 'concrete', 'terms', 'gives', 'positive', 'opinion', 'cases', 'applicant', 'person', 'slovenian', 'origin', 'proven', 'existence', 'active', 'ties', 'republic', 'slovenia', 'children', 'aged', 'normally', 'naturalized', 'alongside', 'parent', 'resident', 'slovenia'], ['aged', 'must', 'normally', 'give', 'consent'], ['deprivation', 'citizenship', 'involuntary', 'deprivation', 'citizenship', 'involuntarily', 'deprivation', 'citizenship', 'occurred', 'slovenia', 'period', 'identity', 'erasure', 'whereby', 'number', 'vital', 'records', 'registries', 'cleansed', 'people', 'former', 'yugoslavia', 'collapsed'], ['involuntary', 'deprivation', 'slovenian', 'citizenship', 'may', 'occur', 'though', 'slovenian', 'holds', 'second', 'nationality', 'deprived', 'circumstances', 'based', 'activities'], ['contrary', 'international', 'interests', 'republic', 'slovenia'], ['generally', 'defined', 'person', 'member', 'organisation', 'engaged', 'activities', 'overthrow', 'constitutional', 'order', 'republic', 'slovenia', 'person', 'member', 'foreign', 'intelligence', 'service', 'jeopardises', 'interests', 'republic', 'slovenia', 'harms', 'interests', 'serving', 'government', 'authority', 'organisation', 'foreign', 'state', 'person', 'persistent', 'perpetrator', 'criminal', 'offences', 'prosecuted', 'ex', 'officio', 'offences', 'public', 'order', 'person', 'refuses', 'carry', 'duty', 'citizen', 'republic', 'slovenia', 'prescribed', 'constitution', 'law', 'voluntary', 'deprivation', 'citizenship', 'slovenian', 'citizens', 'possess', 'another', 'nationality', 'may', 'normally', 'renounce', 'slovenian', 'citizenship', 'resident', 'outside', 'slovenia'], ['dual', 'citizenship', 'dual', 'citizenship', 'restricted', 'prohibited', 'slovenia'], ['persons', 'become', 'slovenian', 'naturalisation', 'may', 'required', 'renounce', 'former', 'nationality', 'upon', 'acquisition', 'slovenian', 'nationality'], ['slovenians', 'birth', 'hold', 'multiple', 'nationality', 'may', 'subject', 'circumstances', 'legally', 'deprived', 'citizenship', 'certain', 'circumstances'], ['citizenship', 'european', 'union', 'slovenia', 'forms', 'part', 'european', 'union', 'slovenian', 'citizens', 'also', 'citizens', 'european', 'union', 'european', 'union', 'law', 'thus', 'enjoy', 'rights', 'free', 'movement', 'right', 'vote', 'elections', 'european', 'parliament'], ['non', 'eu', 'country', 'slovenian', 'embassy', 'slovenian', 'citizens', 'right', 'get', 'consular', 'protection', 'embassy', 'eu', 'country', 'present', 'country'], ['slovenian', 'citizens', 'live', 'work', 'country', 'within', 'eu', 'result', 'right', 'free', 'movement', 'residence', 'granted', 'article', 'eu', 'treaty'], ['travel', 'freedom', 'slovenian', 'citizens', 'visa', 'requirements', 'slovenian', 'citizens', 'administrative', 'entry', 'restrictions', 'authorities', 'states', 'placed', 'citizens', 'slovenia'], ['january', 'slovenian', 'citizens', 'visa', 'free', 'visa', 'arrival', 'access', 'countries', 'territories', 'ranking', 'slovenian', 'passport', 'th', 'world', 'according', 'visa', 'restrictions', 'index'], ['slovenian', 'nationality', 'ranked', 'seventeenth', 'nationality', 'index', 'qni'], ['index', 'differs', 'visa', 'restrictions', 'index', 'focuses', 'external', 'factors', 'including', 'travel', 'freedom'], ['qni', 'considers', 'addition', 'travel', 'freedom', 'internal', 'factors', 'peace', 'stability', 'economic', 'strength', 'human', 'development', 'well'], ['see', 'also', 'izbrisani', 'references', 'external', 'links', 'gateway', 'slovenia', 'information', 'foreigners', 'ministry', 'foreign', 'affairs', 'government', 'republic', 'slovenia', 'slovenia', 'citizenship', 'act'], ['demographic', 'economics', 'population', 'economics', 'application', 'economic', 'analysis', 'demography', 'study', 'human', 'populations', 'including', 'size', 'growth', 'density', 'distribution', 'vital', 'statistics'], ['aspects', 'aspects', 'subject', 'include', 'marriage', 'fertility', 'family', 'divorce', 'morbidity', 'life', 'expectancy', 'mortality', 'dependency', 'ratios', 'migration', 'population', 'growth', 'population', 'size', 'public', 'policy', 'demographic', 'transition', 'population', 'explosion', 'dynamic', 'stability', 'decline', 'subfields', 'include', 'measuring', 'value', 'life', 'economics', 'elderly', 'handicapped', 'gender', 'race', 'minorities', 'non', 'labor', 'discrimination'], ['coverage', 'subfields', 'complements', 'labor', 'economics', 'implicates', 'variety', 'economics', 'subjects'], ['subareas', 'journal', 'economic', 'literature', 'classification', 'codes', 'way', 'categorizing', 'subjects', 'economics'], ['demographic', 'economics', 'paired', 'labor', 'economics', 'one', 'primary', 'classifications', 'jel'], ['subareas', 'listed', 'jel', 'code', 'links', 'corresponding', 'available', 'article', 'preview', 'links', 'new', 'palgrave', 'dictionary', 'economics', 'online', 'jel', 'general', 'jel', 'demographic', 'trends', 'forecasts', 'jel', 'marriage', 'marital', 'dissolution', 'family', 'structure', 'jel', 'fertility', 'family', 'planning', 'child', 'care', 'children', 'youth', 'jel', 'economics', 'elderly', 'economics', 'handicapped', 'jel', 'economics', 'minorities', 'races', 'non', 'labor', 'discrimination', 'jel', 'economics', 'gender', 'non', 'labor', 'discrimination', 'jel', 'value', 'life', 'foregone', 'income', 'jel', 'public', 'policy'], ['see', 'also', 'related', 'notes', 'references', 'john', 'eatwell', 'murray', 'milgate', 'peter', 'newman', 'ed'], [], ['social', 'economics', 'new', 'palgrave', 'pp'], ['vi'], ['arrow', 'page', 'searchable', 'links', 'entries', 'ageing', 'populations', 'pp'], ['robert'], ['clark', 'declining', 'population', 'pp'], ['robin', 'barlow', 'demographic', 'transition', 'pp'], ['ansley'], ['coale', 'extended', 'family', 'pp'], ['oliva', 'harris', 'family', 'pp'], ['gary'], ['becker', 'fertility', 'pp', 'richard'], ['easterlin', 'gender', 'pp'], ['francine'], ['blau', 'race', 'economics', 'pp'], [], ['stanback', 'value', 'life', 'pp', 'thomas'], ['schellingnathan', 'keyfitz'], ['demography', 'new', 'palgrave', 'dictionary', 'economics'], ['pp'], [], [], ['paul', 'schultz'], ['economics', 'population'], ['addison', 'wesley'], ['book', 'review'], ['john'], ['shoven', 'ed'], ['demography', 'economy', 'university', 'chicago', 'press'], ['scroll', 'description', 'preview'], ['julian'], ['simon'], ['economics', 'population', 'growth'], ['princeton'], ['ultimate', 'resource', 'rev'], ['expanded'], ['princeton'], ['description', 'preview', 'links'], ['dennis'], ['ahlburg'], ['julian', 'simon', 'population', 'growth', 'debate', 'population', 'development', 'review', 'pp'], [], [], ['perlman'], ['untitled', 'review', 'simon', 'population', 'studies', 'pp'], [], ['julian'], ['simon', 'ed'], ['economics', 'population', 'key', 'modern', 'writings'], ['description'], ['ed'], ['economics', 'population', 'classic', 'writings'], ['description', 'scroll', 'chapter', 'preview', 'links'], ['joseph'], ['spengler'], ['population', 'obstacle', 'economic', 'betterment', 'american', 'economic', 'review', 'pp'], [], [], ['economist', 'population', 'question', 'american', 'economic', 'review', 'pp'], [], ['journals', 'demography', 'scope', 'links', 'issue', 'contents', 'abstracts'], ['journal', 'population', 'economics', 'aims', 'scope', 'th', 'anniversary', 'statement'], ['population', 'development', 'review', 'aims', 'abstract', 'supplement', 'links'], ['population', 'bulletin', 'issue', 'current', 'population', 'topic'], ['population', 'studies', 'aims', 'scope'], ['review', 'economics', 'household'], ['business', 'related', 'party', 'transaction', 'transaction', 'takes', 'place', 'two', 'parties', 'hold', 'pre', 'existing', 'connection', 'prior', 'transaction'], ['example', 'dominant', 'shareholder', 'may', 'benefit', 'making', 'one', 'companies', 'trade', 'advantageous', 'prices'], ['related', 'party', 'transactions', 'reason', 'type', 'ii', 'agency', 'relationship', 'necessarily', 'best', 'interest', 'minority', 'share', 'owners', 'commercial', 'law', 'special', 'regulations', 'may', 'apply', 'restricting', 'related', 'party', 'transactions', 'part', 'australian', 'corporations', 'act', 'requires', 'companies', 'seek', 'approval', 'members', 'transaction', 'take', 'place'], ['references'], ['international', 'joint', 'venture', 'ijv', 'occurs', 'two', 'businesses', 'based', 'two', 'countries', 'form', 'partnership'], ['company', 'wants', 'explore', 'international', 'trade', 'without', 'taking', 'full', 'responsibilities', 'cross', 'border', 'business', 'transactions', 'option', 'forming', 'joint', 'venture', 'foreign', 'partner'], ['international', 'investors', 'entering', 'joint', 'venture', 'minimize', 'risk', 'comes', 'outright', 'acquisition', 'business'], ['international', 'business', 'development', 'performing', 'due', 'diligence', 'foreign', 'country', 'partner', 'limits', 'risks', 'involved', 'business', 'transaction', 'ijvs', 'aid', 'companies', 'form', 'strategic', 'alliances', 'allow', 'gain', 'competitive', 'advantage', 'access', 'partner', 'resources', 'including', 'markets', 'technologies', 'capital', 'people'], ['international', 'joint', 'ventures', 'viewed', 'practical', 'vehicle', 'knowledge', 'transfer', 'technology', 'transfer', 'multinational', 'expertise', 'local', 'companies', 'knowledge', 'transfer', 'contribute', 'performance', 'improvement', 'local', 'companies'], ['within', 'ijvs', 'one', 'parties', 'located', 'operations', 'ijv', 'take', 'place', 'also', 'involve', 'local', 'foreign', 'company'], ['basic', 'elements', 'include', 'contractual', 'agreement', 'ijvs', 'established', 'express', 'contracts', 'consist', 'one', 'agreements', 'involving', 'two', 'individuals', 'organizations', 'entered', 'specific', 'business', 'purpose'], ['specific', 'limited', 'purpose', 'duration', 'ijvs', 'formed', 'specific', 'business', 'objective', 'limited', 'life', 'span', 'long', 'term'], ['ijvs', 'frequently', 'established', 'limited', 'duration', 'complementary', 'activities', 'involve', 'limited', 'amount', 'assets', 'complementary', 'assets', 'limited', 'service', 'life', 'complementary', 'production', 'activities', 'limited', 'efficacy'], ['joint', 'property', 'interest', 'ijv', 'participant', 'contributes', 'property', 'cash', 'properties', 'organizational', 'capital', 'pursuit', 'common', 'specific', 'business', 'purpose'], ['thus', 'ijv', 'merely', 'contractual', 'relationship', 'rather', 'contributions', 'made', 'newly', 'formed', 'business', 'enterprise', 'usually', 'corporation', 'limited', 'liability', 'company', 'partnership'], ['participants', 'acquire', 'joint', 'property', 'interest', 'assets', 'subject', 'matter', 'ijv'], ['common', 'financial', 'intangible', 'goals', 'objectives', 'ijv', 'participants', 'share', 'common', 'expectation', 'regarding', 'nature', 'amount', 'expected', 'financial', 'intangible', 'goals', 'objectives', 'ijv'], ['goals', 'objectives', 'ijv', 'tend', 'narrowly', 'focused', 'recognizing', 'assets', 'deployed', 'participant', 'represent', 'portion', 'overall', 'resource', 'base'], ['shared', 'profits', 'losses', 'management', 'control', 'ijv', 'participants', 'share', 'specific', 'identifiable', 'financial', 'intangible', 'profits', 'losses', 'well', 'certain', 'elements', 'management', 'control', 'ijv'], ['reasons', 'forming', 'many', 'motivations', 'lead', 'formation', 'jv', 'joint', 'venture'], ['include', 'risk', 'sharing', 'risk', 'sharing', 'common', 'reason', 'form', 'jv', 'particularly', 'highly', 'capital', 'intensive', 'industries', 'industries', 'high', 'costs', 'product', 'development', 'equal', 'high', 'likelihood', 'failure', 'particular', 'product'], ['economies', 'scale', 'industry', 'high', 'fixed', 'costs', 'jv', 'larger', 'company', 'provide', 'economies', 'scale', 'necessary', 'compete', 'globally', 'effective', 'way', 'two', 'companies', 'pool', 'resources', 'achieve', 'critical', 'mass'], ['market', 'access', 'companies', 'lack', 'basic', 'understanding', 'customers', 'relationship', 'infrastructure', 'distribute', 'products', 'customers', 'forming', 'jv', 'right', 'partner', 'provide', 'instant', 'access', 'established', 'efficient', 'effective', 'distribution', 'channels', 'receptive', 'customer', 'bases'], ['important', 'company', 'creating', 'new', 'distribution', 'channels', 'identifying', 'new', 'customer', 'bases', 'extremely', 'difficult', 'time', 'consuming', 'expensive', 'activities'], ['geographical', 'constraints', 'attractive', 'business', 'opportunity', 'foreign', 'market', 'partnering', 'local', 'company', 'attractive', 'foreign', 'company', 'penetrating', 'foreign', 'market', 'difficult', 'lack', 'experience', 'market', 'local', 'barriers', 'foreign', 'owned', 'foreign', 'controlled', 'companies'], ['funding', 'constraints', 'company', 'confronted', 'high', 'front', 'development', 'costs', 'finding', 'right', 'jv', 'provide', 'necessary', 'financing', 'credibility', 'third', 'parties'], ['acquisition', 'barriers', 'company', 'wants', 'acquire', 'another', 'cannot', 'due', 'cost', 'size', 'geographical', 'restrictions', 'legal', 'barriers', 'teaming', 'company', 'jv', 'attractive', 'option'], ['jv', 'substantially', 'less', 'costly', 'thus', 'less', 'risky', 'complete', 'acquisitions', 'sometimes', 'used', 'first', 'step', 'complete', 'acquisition', 'jv'], ['arrangement', 'allows', 'purchaser', 'flexibility', 'cut', 'losses', 'investment', 'proves', 'less', 'fruitful', 'anticipated', 'acquire', 'remainder', 'company', 'certain', 'circumstances'], ['due', 'diligence', 'entering', 'international', 'joint', 'venture', 'businesses', 'advised', 'business', 'advisers', 'thorough', 'due', 'diligence', 'country', 'business', 'partner'], ['due', 'diligence', 'investigation', 'country', 'business', 'person', 'purpose', 'obtaining', 'useful', 'information', 'potential', 'benefits', 'pitfalls', 'costs'], ['helps', 'investors', 'make', 'better', 'profit', 'mitigate', 'risk'], ['includes', 'thorough', 'research', 'potential', 'partners', 'channels', 'like', 'internet', 'database', 'media', 'search', 'establishing', 'partner', 'duties', 'responsibilities', 'management', 'control', 'agreeing', 'splits', 'returns', 'exit', 'strategies', 'contingency', 'plans', 'etc'], ['international', 'law', 'firms', 'working', 'businesses', 'considering', 'joint', 'venture', 'use', 'due', 'diligence', 'checklist', 'ensure', 'sound', 'business', 'development'], ['benefits', 'many', 'benefits', 'associated', 'international', 'joint', 'ventures', 'provide', 'companies', 'opportunity', 'obtain', 'new', 'capacity', 'expertise', 'allow', 'companies', 'enter', 'related', 'business', 'new', 'geographic', 'markets', 'obtain', 'new', 'technological', 'knowledge'], ['furthermore', 'international', 'joint', 'ventures', 'cases', 'short', 'life', 'span', 'allowing', 'companies', 'make', 'short', 'term', 'commitments', 'rather', 'long', 'term', 'commitments'], ['international', 'joint', 'ventures', 'companies', 'given', 'opportunities', 'increase', 'profit', 'margins', 'accelerate', 'revenue', 'growth', 'produce', 'new', 'products', 'expand', 'new', 'domestic', 'markets', 'gain', 'financial', 'support', 'share', 'scientists', 'professionals', 'unique', 'skills', 'benefit', 'companies'], ['structure', 'international', 'joint', 'ventures', 'developed', 'two', 'companies', 'work', 'together', 'meet', 'specific', 'goal'], ['example', 'company', 'company', 'first', 'begin', 'identifying', 'selecting', 'ijv', 'partner'], ['process', 'involves', 'several', 'steps', 'market', 'research', 'partner', 'search', 'evaluating', 'options', 'negotiations', 'business', 'valuation', 'business', 'planning', 'due', 'diligence'], ['steps', 'taken', 'company'], ['also', 'legal', 'procedures', 'involved', 'ijv', 'agreement', 'ancillary', 'agreements', 'regulatory', 'approvals'], ['process', 'complete', 'ijv', 'company', 'formed', 'final', 'procedure', 'steps', 'taken', 'formation', 'management', 'structuring', 'ijvs', 'pose', 'challenge', 'parties', 'two', 'different', 'cultural', 'backgrounds', 'jurisdictions', 'parties', 'come', 'agreement', 'fundamental', 'issues', 'commercial', 'nature', 'scope', 'mutual', 'objectives', 'joint', 'venture', 'parties', 'must', 'decide', 'geographically', 'venture', 'take', 'place', 'legal', 'structure', 'venture', 'look', 'like'], ['time', 'structure', 'agreed', 'different', 'types', 'corporations', 'partnerships', 'form', 'limited', 'liability', 'company'], ['limited', 'liability', 'limited', 'liability', 'allows', 'limit', 'debts', 'losses', 'assets', 'venture', 'protect', 'assets', 'members', 'liable', 'venture', 'debts', 'limited', 'liability', 'partnership', 'llp', 'partners', 'limited', 'liability', 'held', 'liable', 'extent', 'capital', 'investments'], ['addition', 'limited', 'liability', 'partners', 'law', 'requires', 'every', 'limited', 'partnership', 'least', 'one', 'general', 'partner', 'unlimited', 'liability'], ['general', 'partner', 'held', 'responsible', 'liabilities', 'limited', 'partnership'], ['many', 'ventures', 'resolve', 'problem', 'forming', 'special', 'purpose', 'entity', 'usually', 'limited', 'liability', 'company', 'corporation', 'acts', 'general', 'partner', 'joint', 'venture', 'formed', 'limited', 'liability', 'company', 'llc', 'offers', 'protection', 'partners', 'providing', 'limited', 'liability', 'members'], ['unlike', 'limited', 'liability', 'partnership', 'llp', 'requirement', 'general', 'partner', 'unlimited', 'liability', 'held', 'responsible', 'liabilities', 'limited', 'partnerships', 'limited', 'companies', 'enjoy', 'advantage', 'pass', 'entities', 'tax', 'purposes'], ['limited', 'partnership', 'pay', 'taxes'], ['instead', 'tax', 'liability', 'venture', 'allocated', 'members', 'llp', 'proportion', 'interests', 'venture'], ['management', 'two', 'types', 'international', 'joint', 'ventures', 'dominant', 'parent', 'shared', 'management'], ['within', 'dominant', 'parent', 'ijvs', 'projects', 'managed', 'one', 'parent', 'decides', 'functional', 'managers', 'venture'], ['board', 'directors', 'made', 'executives', 'parent', 'also', 'plays', 'key', 'role', 'managing', 'venture', 'making', 'operating', 'strategic', 'decisions'], ['dominant', 'parent', 'enterprise', 'beneficial', 'international', 'joint', 'venture', 'parent', 'selected', 'reasons', 'outside', 'managerial', 'input', 'hand', 'shared', 'management', 'ventures', 'consist', 'parents', 'managing', 'enterprise'], ['parent', 'organizes', 'functional', 'managers', 'executives', 'within', 'board', 'directors'], ['form', 'management', 'also', 'two', 'types', 'shared', 'management', 'ventures'], ['first', 'type', 'ijv', 'partner', 'puts', 'equity', 'return', 'participating', 'control'], ['second', 'type', 'partners', 'negotiate', 'shared', 'management', 'ventures', 'one', 'partner', 'co', 'equal', 'role', 'ijv'], ['finance', 'two', 'partners', 'get', 'together', 'form', 'international', 'joint', 'venture', 'agreement', 'must', 'decide', 'early', 'regards', 'financial', 'structure', 'entail', 'aid', 'management', 'control'], ['steps', 'include', 'establishing', 'capital', 'required', 'start', 'ijv', 'impact', 'securing', 'strong', 'strategic', 'alliance', 'partner', 'financial', 'reporting'], ['arrangement', 'made', 'tax', 'planned', 'joint', 'venture', 'created', 'aid', 'maximizing', 'tax', 'returns'], ['factors', 'affecting', 'international', 'joint', 'ventures', 'economic', 'factors', 'poor', 'formation', 'planning', 'problems', 'arise', 'joint', 'ventures', 'usually', 'result', 'poor', 'planning', 'parties', 'involved', 'hasty', 'set', 'shop'], ['example', 'marketing', 'strategy', 'may', 'fail', 'product', 'inappropriate', 'joint', 'venture', 'parties', 'involved', 'failed', 'appropriately', 'assess', 'factors', 'involved'], ['parties', 'must', 'pay', 'attention', 'several', 'analyses', 'environment', 'customers', 'hope', 'operate'], ['failure', 'sets', 'bad', 'tone', 'venture', 'creating', 'future', 'problems', 'unexpected', 'poor', 'financial', 'performance', 'one', 'fastest', 'ways', 'joint', 'venture', 'fail', 'financial', 'disputes', 'parties'], ['usually', 'happens', 'financial', 'performance', 'poorer', 'expected', 'either', 'due', 'poor', 'sales', 'cost', 'overruns', 'others'], ['poor', 'financial', 'performance', 'could', 'also', 'result', 'poor', 'planning', 'parties', 'setting', 'joint', 'venture', 'failure', 'approach', 'market', 'sufficient', 'management', 'efficiency', 'unanticipated', 'changes', 'market', 'situation'], ['good', 'solution', 'evaluate', 'financial', 'situations', 'thoroughly', 'every', 'step', 'joint', 'venture', 'management', 'problems', 'another', 'issue', 'affect', 'success', 'joint', 'ventures', 'ineffective', 'blending', 'managers', 'used', 'working', 'together', 'entirely', 'different', 'ways', 'approaching', 'issues', 'affecting', 'organization'], ['many', 'joint', 'ventures', 'come', 'apart', 'due', 'misunderstanding', 'leadership', 'strategies'], ['successful', 'joint', 'venture', 'understanding', 'compromise', 'parties', 'respect', 'integration', 'strengths', 'sides', 'overcome', 'weaker', 'points', 'make', 'alliance', 'stronger', 'inappropriate', 'management', 'structure', 'bid', 'equal', 'rights', 'venture', 'could', 'misfit', 'managers'], ['result', 'major', 'slowdown', 'decision', 'making', 'processes'], ['daily', 'operational', 'decisions', 'best', 'made', 'quickly', 'efficiency', 'business', 'tends', 'slowed', 'committee', 'place', 'make', 'sure', 'parties', 'support', 'every', 'little', 'decision'], ['could', 'distract', 'bigger', 'picture', 'leading', 'major', 'problems', 'long', 'run'], ['economic', 'environment', 'ijv', 'ultimate', 'goal', 'successful', 'jv', 'partnership', 'customers', 'stronger', 'body'], ['ensure', 'jv', 'partnerships', 'profitable', 'possible', 'helps', 'look', 'customer', 'point', 'view'], ['features', 'jv', 'partnership', 'aim', 'acquire', 'effective', 'marketing', 'campaign', 'channeling', 'expertise', 'strengths', 'parties', 'maximize', 'value', 'customers', 'stakeholders', 'downplaying', 'weaknesses', 'presenting', 'united', 'front'], ['cultures', 'ijv', 'joint', 'venture', 'formed', 'attempt', 'blending', 'two', 'cultures', 'hope', 'leveraging', 'strength', 'party'], ['lack', 'understanding', 'cultures', 'individual', 'parties', 'poses', 'problem', 'addressed'], ['common', 'problem', 'multi', 'cultural', 'enterprises', 'culture', 'considered', 'initial', 'formation'], ['usually', 'assumed', 'cultural', 'issues', 'addressed', 'later', 'new', 'unit', 'created'], ['usually', 'compromises', 'reached', 'certain', 'cultural', 'parties', 'kept', 'others', 'others', 'either', 'right', 'discarded', 'modified'], ['benefits', 'disadvantages', 'ijv', 'joint', 'venture', 'becoming', 'popular', 'way', 'companies', 'outsource', 'operations', 'retain', 'piece', 'ownership', 'pie'], ['creation', 'new', 'legal', 'entity', 'launch', 'joint', 'venture', 'comes', 'share', 'benefits', 'disadvantages'], ['benefits', 'international', 'joint', 'ventures', 'joint', 'ventures', 'enable', 'companies', 'share', 'technology', 'complementary', 'intellectual', 'property', 'assets', 'production', 'delivery', 'innovative', 'goods', 'services'], ['smaller', 'organization', 'insufficient', 'finances', 'specialist', 'management', 'skills', 'joint', 'venture', 'prove', 'effective', 'method', 'obtaining', 'necessary', 'resources', 'enter', 'new', 'market'], ['especially', 'true', 'attractive', 'markets', 'local', 'contacts', 'access', 'distribution', 'political', 'requirements', 'may', 'make', 'joint', 'venture', 'preferred', 'even', 'legally', 'required', 'solution'], ['joint', 'ventures', 'used', 'reduce', 'political', 'friction', 'improve', 'local', 'national', 'acceptability', 'company'], ['joint', 'ventures', 'may', 'provide', 'specialist', 'knowledge', 'local', 'markets', 'entry', 'required', 'channels', 'distribution', 'access', 'supplies', 'raw', 'materials', 'government', 'contracts', 'local', 'production', 'facilities'], ['growing', 'number', 'countries', 'joint', 'ventures', 'host', 'governments', 'become', 'increasingly', 'important'], ['may', 'formed', 'directly', 'state', 'owned', 'enterprises', 'directed', 'toward', 'national', 'champions'], ['growth', 'creation', 'temporary', 'consortium', 'companies', 'alliances', 'undertake', 'particular', 'projects', 'considered', 'large', 'individual', 'companies', 'handle', 'alone', 'major', 'defense', 'initiatives', 'civil', 'engineering', 'projects', 'new', 'global', 'technological', 'ventures'], ['exchange', 'controls', 'may', 'prevent', 'company', 'exporting', 'capital', 'thus', 'make', 'funding', 'new', 'overseas', 'subsidiaries', 'difficult'], ['supply', 'know', 'may', 'therefore', 'used', 'enable', 'company', 'obtain', 'equity', 'stake', 'joint', 'venture', 'local', 'partner', 'may', 'access', 'required', 'funds'], ['disadvantages', 'international', 'joint', 'ventures', 'major', 'barrier', 'joint', 'ventures', 'difficult', 'integrate', 'global', 'strategy', 'involves', 'substantial', 'cross', 'border', 'trading'], ['circumstances', 'almost', 'inevitably', 'problems', 'concerning', 'inward', 'outward', 'transfer', 'pricing', 'sourcing', 'exports', 'particular', 'favor', 'wholly', 'owned', 'subsidiaries', 'countries'], ['trend', 'toward', 'integrated', 'system', 'global', 'cash', 'management', 'via', 'central', 'treasury', 'may', 'lead', 'conflict', 'partners', 'corporate', 'headquarters', 'endeavours', 'impose', 'limits', 'even', 'guidelines', 'cash', 'working', 'capital', 'usage', 'foreign', 'exchange', 'management', 'amount', 'means', 'paying', 'remittable', 'profits'], ['another', 'serious', 'problem', 'occurs', 'objectives', 'partners', 'become', 'incompatible'], ['example', 'multinational', 'enterprise', 'may', 'different', 'attitude', 'risk', 'local', 'partner', 'may', 'prepared', 'accept', 'short', 'term', 'losses', 'order', 'build', 'market', 'share', 'take', 'higher', 'levels', 'debt', 'spend', 'advertising'], ['similarly', 'objectives', 'participants', 'may', 'well', 'change', 'time', 'especially', 'wholly', 'owned', 'subsidiary', 'alternatives', 'may', 'occur', 'multinational', 'enterprise', 'access', 'joint', 'venture', 'market'], ['problems', 'occur', 'regard', 'management', 'structures', 'staffing', 'joint', 'ventures'], ['many', 'joint', 'ventures', 'fail', 'conflict', 'tax', 'interests', 'partners'], ['disputes', 'agreements', 'disputes', 'two', 'partners', 'agree', 'international', 'joint', 'venture', 'possibilities', 'disputes', 'arise'], ['particularly', 'ijvs', 'issues', 'partners', 'likely', 'want', 'home', 'country', 'governing', 'law', 'jurisdiction', 'apply', 'disputes', 'may', 'come', 'therefore', 'avoid', 'problem', 'neutral', 'governing', 'law', 'jurisdiction', 'chosen', 'cases'], ['popular', 'dispute', 'resolution', 'technique', 'used', 'ijvs', 'arbitration', 'however', 'many', 'times', 'court', 'process', 'given', 'priority', 'system', 'authority'], ['dispute', 'resolution', 'strategies', 'utilized', 'mediation', 'litigation'], ['agreements', 'entering', 'international', 'joint', 'venture', 'agreement', 'begins', 'selection', 'partners', 'generally', 'process', 'continues', 'memorandum', 'understanding', 'letter', 'intent', 'signed', 'parties'], ['memorandum', 'understanding', 'document', 'describing', 'agreement', 'parties'], ['hand', 'letter', 'intent', 'document', 'outlining', 'agreement', 'parties', 'agreement', 'finalized'], ['signing', 'ijv', 'specific', 'aspects', 'agreement', 'must', 'addressed', 'applicable', 'law', 'holding', 'shares', 'transfer', 'shares', 'board', 'directors', 'dividend', 'policy', 'funding', 'access', 'confidentiality', 'termination'], ['ijv', 'different', 'countries', 'china', 'ijv', 'attractive', 'way', 'get', 'chinese', 'market', 'businesses', 'unfamiliar', 'completed', 'culture', 'less', 'open', 'market'], ['however', 'china', 'becoming', 'global', 'familiar', 'world'], ['ijv', 'falling', 'practice', 'practical', 'difficulties', 'picking', 'proper', 'partner', 'management', 'technology', 'transfer', 'profit', 'sharing'], ['two', 'main', 'types', 'ijv', 'china', 'equity', 'joint', 'ventures', 'cooperative', 'joint', 'ventures'], ['equity', 'joint', 'ventures', 'ejvs', 'equity', 'joint', 'venture', 'partnership', 'overseas', 'chinese', 'individual', 'enterprises', 'financial', 'organizations', 'approved', 'chinese', 'government'], ['companies', 'equity', 'joint', 'venture', 'share', 'mutual', 'rewards', 'risks', 'losses', 'according', 'ratio', 'investment', 'minimum', 'capital', 'must', 'contributed', 'foreign', 'partners', 'minimum', 'investment', 'chinese', 'partners', 'joint', 'venture', 'free', 'hire', 'chinese', 'nationals', 'without', 'interference', 'government', 'employment', 'industries', 'abiding', 'chinese', 'labor', 'law', 'purchase', 'land', 'build', 'buildings', 'privileges', 'prevented', 'representative', 'offices'], ['cooperative', 'joint', 'ventures', 'cjvs', 'cjvs', 'rather', 'unevenly', 'regulated', 'form', 'ijv', 'chinese', 'foreign', 'based', 'companies'], ['usually', 'found', 'venture', 'technology', 'based', 'substantial', 'requirement', 'fixed', 'assets', 'example', 'infrastructure', 'volume', 'manufacturing', 'minimum', 'foreign', 'contribution', 'required', 'initiate', 'cooperative', 'ventures', 'contributions', 'made', 'investors', 'necessarily', 'expressed', 'monetary', 'value'], ['contributions', 'include', 'excluded', 'equity', 'joint', 'venture', 'process', 'contributed', 'labor', 'resources', 'services', 'greater', 'flexibility', 'structuring', 'cooperative', 'venture', 'also', 'permissible', 'including', 'structure', 'organization', 'management', 'assets'], ['turkey', 'international', 'joint', 'ventures', 'played', 'significant', 'role', 'reform', 'liberalization', 'laws', 'governing', 'foreign', 'investors', 'part', 'turkey', 'economic', 'program', 'adopted'], ['turkey', 'lies', 'borders', 'europe', 'asia', 'used', 'way', 'achieve', 'strategic', 'goals', 'enter', 'asian', 'european', 'market', 'important', 'wanting', 'enter', 'eu', 'market', 'since', 'turkey', 'signed', 'european', 'customs', 'union', 'ecu'], ['turkish', 'accounting', 'standards', 'board', 'requires', 'enterprises', 'established', 'turkish', 'commercial', 'code', 'turkey', 'must', 'prepare', 'statutory', 'financial', 'statements', 'compliance', 'turkish', 'accounting', 'standards', 'board', 'makes', 'accounting', 'data', 'transparent', 'reliable', 'parties', 'involved'], ['turkish', 'law', 'joint', 'venture', 'may', 'formed', 'two', 'umbrellas', 'commercial', 'company', 'governed', 'turkish', 'commercial', 'code', 'ordinary', 'company', 'governed', 'turkish', 'code', 'obligations'], ['examples', 'successful', 'ijvs', 'aera', 'energy', 'aera', 'energy', 'covers', 'large', 'area', 'california'], ['state', 'leading', 'oil', 'gas', 'producer', 'accounting', 'california', 'total', 'production', 'aera', 'energy', 'properties', 'extend', 'los', 'angeles', 'basin', 'south', 'coalinga', 'north'], ['daily', 'production', 'barrels', 'oil', 'million', 'cubic', 'feet', 'natural', 'gas', 'boasts', 'proved', 'onshore', 'offshore', 'reserves', 'million', 'barrels', 'oil', 'equivalent'], ['aera', 'energy', 'also', 'interests', 'real', 'estate', 'operations', 'partnership', 'homebuilder', 'toll', 'brothers'], ['exploration', 'production', 'company', 'joint', 'venture', 'affiliates', 'exxon', 'mobil', 'royal', 'dutch', 'shell'], ['omega', 'navigation', 'enterprises', 'inc'], ['omega', 'navigation', 'enterprises', 'inc'], ['international', 'provider', 'marine', 'transportation', 'services', 'focusing', 'seaborne', 'transportation', 'refined', 'petroleum', 'products'], ['one', 'vessels', 'namely', 'omega', 'duke', 'owned', 'controlled', 'joint', 'venture', 'topley', 'corporation', 'wholly', 'owned', 'subsidiary', 'glencore', 'international', 'ag'], ['also', 'formed', 'equal', 'partnership', 'joint', 'venture', 'company', 'topley', 'corporation', 'namely', 'megacore', 'shipping', 'ltd'], ['japan', 'nuclear', 'fuel', 'co', 'ltd'], ['jnf', 'japan', 'nuclear', 'fuel', 'co', 'ltd'], ['jnf', 'predecessor', 'global', 'nuclear', 'fuel', 'japan', 'co', 'ltd'], ['gnf', 'started', 'operation', 'kurihama', 'nuclear', 'fuel', 'manufacturing', 'joint', 'venture', 'among', 'general', 'electric', 'company', 'us', 'toshiba', 'corporation', 'hitachi', 'limited'], ['since', 'began', 'supplying', 'first', 'domestically', 'produced', 'nuclear', 'fuel', 'gnf', 'pioneer', 'nuclear', 'fuel', 'manufacturer', 'delivered', 'fuel', 'bundles', 'various', 'nuclear', 'power', 'plants', 'across', 'country', 'contributed', 'stable', 'supply', 'energy', 'japan'], ['january', 'sales', 'design', 'development', 'operations', 'transferred', 'three', 'joint', 'venture', 'partners', 'jnf', 'jnf', 'made', 'new', 'start', 'ge', 'group', 'company', 'later', 'changing', 'name', 'gnf', 'offering', 'core', 'management', 'services', 'well', 'handling', 'mox', 'fuel', 'design', 'quality', 'control'], ['references'], ['sport', 'psychology', 'interdisciplinary', 'science', 'draws', 'knowledge', 'many', 'related', 'fields', 'including', 'biomechanics', 'physiology', 'kinesiology', 'psychology'], ['involves', 'study', 'psychological', 'factors', 'affect', 'performance', 'participation', 'sport', 'exercise', 'affect', 'psychological', 'physical', 'factors'], ['sport', 'psychologists', 'teach', 'cognitive', 'behavioral', 'strategies', 'athletes', 'order', 'improve', 'experience', 'performance', 'sports'], ['addition', 'instruction', 'training', 'psychological', 'skills', 'performance', 'improvement', 'applied', 'sport', 'psychology', 'may', 'include', 'work', 'athletes', 'coaches', 'parents', 'regarding', 'injury', 'rehabilitation', 'communication', 'team', 'building', 'career', 'transitions'], ['also', 'closely', 'associated', 'sports', 'psychiatry', 'history', 'early', 'history', 'formation', 'sport', 'psychology', 'primarily', 'domain', 'physical', 'educators', 'researchers', 'explain', 'lack', 'consistent', 'history'], ['nonetheless', 'many', 'instructors', 'sought', 'explain', 'various', 'phenomena', 'associated', 'physical', 'activity', 'developed', 'sport', 'psychology', 'laboratories'], ['birth', 'sport', 'psychology', 'europe', 'happened', 'largely', 'germany'], ['first', 'sport', 'psychology', 'laboratory', 'founded', 'dr', 'carl', 'diem', 'berlin', 'early'], ['early', 'years', 'sport', 'psychology', 'also', 'highlighted', 'formation', 'deutsche', 'hochschule', 'leibes', 'bungen', 'college', 'physical', 'education', 'berlin', 'germany', 'robert', 'werner', 'schulte'], ['lab', 'measured', 'physical', 'abilities', 'aptitude', 'sport', 'schulte', 'published', 'body', 'mind', 'sport'], ['russia', 'sport', 'psychology', 'experiments', 'began', 'early', 'institutes', 'physical', 'culture', 'moscow', 'leningrad', 'formal', 'sport', 'psychology', 'departments', 'formed', 'around'], ['however', 'bit', 'later', 'cold', 'war', 'period', 'numerous', 'sport', 'science', 'programs', 'formed', 'due', 'military', 'competitiveness', 'soviet', 'union', 'united', 'states', 'result', 'attempts', 'increase', 'olympic', 'medal', 'numbers', 'americans', 'felt', 'sport', 'performances', 'inadequate', 'disappointing', 'compared', 'ones', 'soviets', 'led', 'invest', 'methods', 'could', 'ameliorate', 'athletes', 'performance', 'made', 'greater', 'interest', 'subject'], ['advancement', 'sport', 'psychology', 'deliberate', 'soviet', 'union', 'eastern', 'countries', 'due', 'creation', 'sports', 'institutes', 'sport', 'psychologists', 'played', 'important', 'role'], ['north', 'america', 'early', 'years', 'sport', 'psychology', 'included', 'isolated', 'studies', 'motor', 'behavior', 'social', 'facilitation', 'habit', 'formation'], [], [], ['scripture', 'conducted', 'range', 'behavioral', 'experiments', 'including', 'measuring', 'reaction', 'time', 'runners', 'thought', 'time', 'school', 'children', 'accuracy', 'orchestra', 'conductor', 'baton'], ['despite', 'scripture', 'previous', 'experiments', 'first', 'recognized', 'sport', 'psychology', 'study', 'carried', 'american', 'psychologist', 'norman', 'triplett'], ['work', 'norman', 'triplett', 'demonstrated', 'bicyclists', 'likely', 'cycle', 'faster', 'pacemaker', 'competitor', 'foundational', 'literature', 'social', 'psychology', 'social', 'facilitation'], ['wrote', 'findings', 'regarded', 'first', 'scientific', 'paper', 'sport', 'psychology', 'titled', 'dynamogenic', 'factors', 'pacemaking', 'competition', 'published', 'american', 'journal', 'psychology'], ['research', 'ornithologists', 'lashley', 'watson', 'learning', 'curve', 'novice', 'archers', 'provided', 'robust', 'template', 'future', 'habit', 'formation', 'research', 'argued', 'humans', 'would', 'higher', 'levels', 'motivation', 'achieve', 'task', 'like', 'archery', 'compared', 'mundane', 'task'], ['researchers', 'albert', 'johanson', 'joseph', 'holmes', 'tested', 'baseball', 'player', 'babe', 'ruth', 'reported', 'sportswriter', 'hugh'], ['fullerton'], ['ruth', 'swing', 'speed', 'breathing', 'right', 'hitting', 'baseball', 'coordination', 'rapidity', 'wrist', 'movement', 'reaction', 'time', 'measured', 'researchers', 'concluding', 'ruth', 'talent', 'could', 'attributed', 'part', 'motor', 'skills', 'reflexes', 'well', 'average', 'person'], ['coleman', 'griffith', 'america', 'first', 'sport', 'psychologist', 'coleman', 'griffith', 'worked', 'american', 'professor', 'educational', 'psychology', 'university', 'illinois', 'first', 'performed', 'comprehensive', 'research', 'applied', 'sport', 'psychology'], ['performed', 'causal', 'studies', 'vision', 'attention', 'basketball', 'soccer', 'players', 'interested', 'reaction', 'times', 'muscular', 'tension', 'relaxation', 'mental', 'awareness'], ['griffith', 'began', 'work', 'studying', 'psychology', 'sport', 'university', 'illinois', 'funded', 'research', 'athletics', 'laboratory'], ['laboratory', 'closing', 'conducted', 'research', 'practiced', 'sport', 'psychology', 'field'], ['laboratory', 'used', 'study', 'sport', 'psychology', 'different', 'factors', 'influence', 'athletic', 'performance', 'physiological', 'psychological', 'requirements', 'sport', 'competitions', 'investigated'], ['transmitted', 'findings', 'coaches', 'helped', 'advance', 'knowledge', 'psychology', 'physiology', 'sports', 'performance'], ['griffith', 'also', 'published', 'two', 'major', 'works', 'time', 'psychology', 'coaching', 'psychology', 'athletics'], ['coleman', 'griffith', 'also', 'first', 'person', 'describe', 'job', 'sport', 'psychologists', 'talk', 'main', 'tasks', 'capable', 'carrying'], ['mentioned', 'work', 'psychology', 'relation', 'athletic', 'competition', 'published'], ['one', 'tasks', 'teach', 'younger', 'unskilled', 'coaches', 'psychological', 'principles', 'used', 'successful', 'experienced', 'coaches'], ['task', 'adapt', 'psychological', 'knowledge', 'sport', 'last', 'task', 'use', 'scientific', 'method', 'laboratory', 'purpose', 'discovering', 'new', 'facts', 'principles', 'aid', 'professionals', 'domain'], ['griffith', 'returned', 'sporting', 'world', 'serve', 'sport', 'psychologist', 'consultant', 'chicago', 'cubs'], ['hired', 'philip', 'wrigley', 'griffith', 'examined', 'range', 'factors', 'ability', 'personality', 'leadership', 'skill', 'learning', 'social', 'psychological', 'factors', 'related', 'performance'], ['griffith', 'made', 'rigorous', 'analyses', 'players', 'also', 'making', 'suggestions', 'improving', 'practice', 'effectiveness'], ['griffith', 'also', 'made', 'several', 'recommendations', 'mr', 'wrigley', 'including', 'psychology', 'clinic', 'managers', 'coaches', 'senior', 'players'], ['wrigley', 'offered', 'full', 'time', 'position', 'sport', 'psychologist', 'griffith', 'declined', 'offer', 'focus', 'son', 'high', 'school', 'education'], ['coleman', 'griffith', 'made', 'numerous', 'contributions', 'field', 'sport', 'psychology', 'notable', 'belief', 'field', 'studies', 'athlete', 'coach', 'interviews', 'could', 'provide', 'thorough', 'understanding', 'psychological', 'principles', 'play', 'competitive', 'situations'], ['griffith', 'devoted', 'rigorous', 'research', 'also', 'published', 'applied', 'academic', 'audiences', 'noting', 'applicability', 'sport', 'psychology', 'research', 'equally', 'important', 'generation', 'knowledge'], ['finally', 'griffith', 'recognized', 'sport', 'psychology', 'promoted', 'performance', 'enhancement', 'personal', 'growth'], ['griffith', 'developed', 'taught', 'first', 'sport', 'psychology', 'university', 'courses', 'psychology', 'athletics', 'university', 'illinois', 'came', 'known', 'father', 'sport', 'psychology', 'united', 'states', 'result', 'pioneering', 'achievements', 'area'], ['however', 'also', 'known', 'prophet', 'without', 'disciples', 'since', 'none', 'students', 'continued', 'sport', 'psychology', 'work', 'started', 'receive', 'attention', 'renewed', 'growth', 'emergence', 'discipline', 'hari', 'charan', 'another', 'researcher', 'positive', 'influence', 'sport', 'psychology'], ['began', 'study', 'different', 'factors', 'sport', 'psychology', 'affect', 'athlete', 'motor', 'skills'], ['also', 'investigated', 'high', 'altitudes', 'effect', 'exercise', 'performance', 'aeroembolism', 'decompression', 'sickness', 'studies', 'kinesthetic', 'perception', 'learning', 'motor', 'skills', 'neuromuscular', 'reaction', 'carried', 'laboratory'], ['wrote', 'paper', 'physical', 'education', 'academic', 'discipline', 'helped', 'advance', 'sport', 'psychology', 'began', 'give', 'scholarly', 'scientific', 'shape'], ['additionally', 'published', 'articles', 'board', 'member', 'various', 'journals', 'received', 'many', 'awards', 'acclaims', 'contributions'], ['given', 'relatively', 'free', 'travel', 'information', 'amongst', 'european', 'practitioners', 'sport', 'psychology', 'flourished', 'first', 'europe', 'first', 'world', 'congress', 'sport', 'psychology', 'met', 'rome', 'italy'], ['meeting', 'attended', 'professionals', 'primarily', 'europe', 'australia', 'americas', 'gave', 'rise', 'international', 'society', 'sport', 'psychology', 'issp'], ['issp', 'become', 'prominent', 'sport', 'psychology', 'organization', 'third', 'world', 'congress', 'sport', 'psychology'], ['additionally', 'european', 'federation', 'sport', 'psychology', 'founded'], ['north', 'america', 'support', 'sport', 'psychology', 'grew', 'physical', 'education'], ['north', 'american', 'society', 'psychology', 'sport', 'physical', 'activity', 'naspspa', 'grew', 'interest', 'group', 'full', 'fledged', 'organization', 'whose', 'mission', 'included', 'promoting', 'research', 'teaching', 'motor', 'behavior', 'psychology', 'sport', 'exercise'], ['canada', 'canadian', 'society', 'psychomotor', 'learning', 'sport', 'psychology', 'scapps', 'founded', 'promote', 'study', 'exchange', 'ideas', 'fields', 'motor', 'behavior', 'sport', 'psychology'], ['rainer', 'martens', 'published', 'article', 'entitled', 'smocks', 'jocks', 'contended', 'difficult', 'apply', 'specific', 'laboratory', 'research', 'sporting', 'situations'], ['instance', 'pressure', 'shooting', 'foul', 'shot', 'front', 'screaming', 'fans', 'duplicated', 'lab'], ['martens', 'contended', 'grave', 'doubts', 'isolated', 'psychological', 'studies', 'manipulate', 'variables', 'attempting', 'uncover', 'effects', 'cumulative', 'form', 'coherent', 'picture', 'human', 'behavior'], ['sense', 'elegant', 'control', 'achieved', 'laboratory', 'research', 'meaning', 'drained', 'experimental', 'situation'], ['external', 'validity', 'laboratory', 'studies', 'best', 'limited', 'predicting', 'behavior', 'laboratories', 'martens', 'urged', 'researchers', 'get', 'laboratory', 'onto', 'field', 'meet', 'athletes', 'coaches', 'turf'], ['martens', 'article', 'spurred', 'increased', 'interest', 'qualitative', 'research', 'methods', 'sport', 'psychology', 'seminal', 'article', 'mental', 'links', 'excellence', 'first', 'journal', 'journal', 'sport', 'psychology', 'came', 'several', 'applied', 'sport', 'psychology', 'practitioners', 'headed', 'john', 'silva', 'believed', 'organization', 'needed', 'focus', 'professional', 'issues', 'sport', 'psychology', 'therefore', 'formed', 'association', 'advancement', 'applied', 'sport', 'psychology', 'aaasp'], ['done', 'response', 'naspspa', 'voting', 'address', 'applied', 'issues', 'keep', 'focus', 'research'], ['aaasp', 'dropped', 'advancement', 'name', 'become', 'association', 'applied', 'sport', 'psychology', 'aasp', 'currently', 'known'], ['following', 'stated', 'goal', 'promoting', 'science', 'practice', 'applied', 'sport', 'psychology', 'aaasp', 'quickly', 'worked', 'develop', 'uniform', 'standards', 'practice', 'highlighted', 'development', 'ethical', 'code', 'members'], ['development', 'aaasp', 'certified', 'consultant', 'cc', 'aaasp', 'program', 'helped', 'bring', 'standardization', 'training', 'required', 'practice', 'applied', 'sport', 'psychology'], ['moreover', 'aasp', 'updated', 'certification', 'program', 'launched', 'certified', 'mental', 'performance', 'consultant', 'cmpc'], ['aasp', 'aims', 'provide', 'leadership', 'development', 'theory', 'research', 'applied', 'practice', 'sport', 'exercise', 'health', 'psychology'], ['also', 'time', 'period', 'members', 'american', 'psychological', 'association', 'apa', 'signed', 'petition', 'create', 'division', 'focused', 'exercise', 'sport', 'psychology'], ['sport', 'psychology', 'started', 'become', 'visible', 'olympic', 'games', 'olympic', 'teams', 'began', 'hire', 'sport', 'psychologists', 'athletes', 'team', 'employed', 'first', 'permanent', 'sport', 'psychologist'], ['summer', 'olympics', 'already', 'sport', 'psychologists', 'working', 'athletes'], ['recently', 'role', 'sport', 'psychologist', 'called', 'meet', 'increasing', 'demand', 'anger', 'management', 'athletes'], ['increasingly', 'sport', 'psychologists', 'needed', 'address', 'topic', 'provide', 'strategies', 'interventions', 'overcoming', 'excessive', 'anger', 'aggression', 'athletes', 'techniques', 'athletes', 'manage', 'emotions'], ['comprehensive', 'anger', 'management', 'program', 'athletes', 'developed', 'dr', 'mitch', 'abrams', 'licensed', 'sport', 'psychologist', 'authored', 'anger', 'management', 'sport', 'debate', 'professionalization', 'sport', 'psychology', 'martens', 'argued', 'applied', 'methods', 'sport', 'psychology', 'research', 'increasing', 'emergence', 'practitioners', 'sport', 'psychology', 'including', 'sport', 'psychology', 'consultants', 'taught', 'sport', 'psychology', 'skills', 'principles', 'athletes', 'coaches', 'clinical', 'counseling', 'psychologists', 'provided', 'counseling', 'therapy', 'athletes', 'brought', 'focus', 'two', 'key', 'questions', 'debate', 'continues', 'present', 'day', 'category', 'discipline', 'sport', 'psychology', 'fall', 'governs', 'accepted', 'practices', 'sport', 'psychology'], ['sport', 'psychology', 'branch', 'kinesiology', 'sport', 'exercise', 'science', 'like', 'exercise', 'physiology', 'athletic', 'training'], ['branch', 'psychology', 'counseling'], ['independent', 'discipline'], ['danish', 'hale', 'contended', 'many', 'clinical', 'psychologists', 'using', 'medical', 'models', 'psychology', 'problematize', 'sport', 'problems', 'signs', 'mental', 'illness', 'instead', 'drawing', 'upon', 'empirical', 'knowledge', 'base', 'generated', 'sport', 'psychology', 'researchers', 'many', 'cases', 'indicated', 'sport', 'problems', 'signs', 'mental', 'illness'], ['danish', 'hale', 'proposed', 'human', 'development', 'model', 'used', 'structure', 'research', 'applied', 'practice'], ['heyman', 'urged', 'tolerance', 'multiple', 'models', 'educative', 'motivational', 'developmental', 'research', 'practice', 'dishman', 'countered', 'field', 'needed', 'develop', 'unique', 'sport', 'psychology', 'models', 'instead', 'borrowing', 'educational', 'clinical', 'psychology', 'practice', 'sport', 'psychology', 'expanded', 'throughout', 'practitioners', 'expressed', 'concern', 'field', 'lacked', 'uniformity', 'needed', 'consistency', 'become', 'good', 'profession', 'issues', 'graduate', 'program', 'accreditation', 'uniform', 'training', 'graduate', 'students', 'sport', 'psychology', 'considered', 'necessary', 'promote', 'field', 'sport', 'psychology', 'educate', 'public', 'sport', 'psychologist', 'ensure', 'open', 'job', 'market', 'practitioners'], ['however', 'hale', 'danish', 'argued', 'accreditation', 'graduate', 'programs', 'necessary', 'guarantee', 'uniformity'], ['instead', 'authors', 'proposed', 'special', 'practicum', 'applied', 'sport', 'psychology', 'included', 'greater', 'contact', 'hours', 'clients', 'closer', 'supervision'], ['present', 'status', 'would', 'misleading', 'conflate', 'status', 'aasp', 'status', 'profession', 'sport', 'psychology'], ['however', 'considering', 'aasp', 'largest', 'membership', 'professional', 'organization', 'devoted', 'entirely', 'sport', 'psychology', 'worthwhile', 'mention', 'contentious', 'nature', 'organization', 'future'], ['furthermore', 'appears', 'rift', 'members', 'aasp', 'would', 'like', 'organization', 'function', 'trade', 'group', 'promotes', 'cc', 'aasp', 'certificate', 'pushes', 'job', 'development', 'many', 'people', 'aasp', 'members', 'aasp', 'would', 'prefer', 'organization', 'remain', 'professional', 'society', 'forum', 'exchange', 'research', 'practice', 'ideas'], ['many', 'aasp', 'members', 'believe', 'organization', 'meet', 'needs', 'effectively'], ['problems', 'illustrated', 'aasp', 'founding', 'president', 'john', 'silva', 'address', 'conference'], ['silva', 'highlighted', 'five', 'points', 'necessary', 'aasp', 'greater', 'field', 'applied', 'sport', 'psychology', 'address', 'near', 'future', 'orderly', 'development', 'advancement', 'practice', 'sport', 'psychology', 'embrace', 'enhance', 'interdisciplinary', 'nature', 'sport', 'psychology', 'advance', 'development', 'graduate', 'education', 'training', 'sport', 'psychology', 'advance', 'job', 'opportunities', 'practice', 'collegiate', 'olympic', 'pro', 'sports', 'member', 'driven', 'service', 'membershipsilva', 'suggested', 'aasp', 'advance', 'legal', 'standing', 'term', 'sport', 'psychology', 'consultant', 'adopt', 'one', 'educative', 'model', 'collegiate', 'post', 'graduate', 'training', 'sport', 'psychology', 'consultants'], ['aasp', 'certified', 'consultant', 'cc', 'aasp', 'certification', 'provides', 'legitimate', 'pathway', 'post', 'graduate', 'training', 'legally', 'bar', 'individual', 'without', 'cc', 'aasp', 'credentials', 'practicing', 'sport', 'psychology'], ['silva', 'contended', 'future', 'sport', 'psychology', 'professionals', 'degrees', 'psychology', 'sport', 'sciences', 'training', 'ultimately', 'conclude', 'obtainment', 'legal', 'title'], ['argued', 'increase', 'likelihood', 'clients', 'receiving', 'competent', 'service', 'practitioners', 'received', 'training', 'sport', 'psychology', 'pieces', 'sport', 'psychology'], ['silva', 'concluded', 'aasp', 'apa', 'work', 'together', 'create', 'legal', 'protection', 'term', 'sport', 'psychology', 'consultant', 'results', 'aasp', 'strategic', 'planning', 'committee', 'report', 'published', 'late', 'continue', 'discussion', 'debate', 'future', 'field'], ['applied', 'applied', 'sport', 'exercise', 'psychology', 'consists', 'instructing', 'athletes', 'coaches', 'teams', 'exercisers', 'parents', 'fitness', 'professionals', 'groups', 'performers', 'psychological', 'aspects', 'sport', 'activity'], ['goal', 'applied', 'practice', 'optimize', 'performance', 'enjoyment', 'use', 'psychological', 'skills', 'use', 'psychometrics', 'psychological', 'assessment', 'pertinent', 'mention', 'practice', 'applied', 'sport', 'psychology', 'legally', 'restricted', 'individuals', 'possess', 'one', 'type', 'certification', 'licensure'], ['subject', 'exactly', 'constitutes', 'applied', 'sport', 'psychology', 'practice', 'debated', 'amongst', 'sport', 'psychology', 'professionals', 'day', 'still', 'lacks', 'formal', 'legal', 'resolution', 'united', 'states'], ['instance', 'question', 'ability', 'professionals', 'possess', 'sport', 'science', 'kinesiology', 'training', 'practice', 'psychology', 'clients', 'others', 'counter', 'clinical', 'counseling', 'psychologists', 'without', 'training', 'sport', 'science', 'professional', 'competency', 'work', 'athletes'], ['however', 'debate', 'overshadow', 'reality', 'many', 'professionals', 'express', 'desire', 'work', 'together', 'promote', 'best', 'practices', 'among', 'practitioners', 'regardless', 'training', 'academic', 'background'], ['different', 'approaches', 'sport', 'psychologist', 'use', 'working', 'clients'], ['example', 'social', 'psychological', 'approach', 'focuses', 'social', 'environment', 'individual', 'personality', 'complex', 'interactions', 'two', 'influence', 'behavior'], ['psycho', 'physiological', 'approach', 'focuses', 'processes', 'brain', 'influence', 'physical', 'activity', 'cognitive', 'behavioral', 'approach', 'analyzes', 'ways', 'individual', 'thoughts', 'determine', 'behavior'], ['generally', 'two', 'different', 'types', 'sport', 'psychologists', 'educational', 'clinical'], ['educational', 'sport', 'psychologists', 'educational', 'sport', 'psychologists', 'emphasize', 'use', 'psychological', 'skills', 'training', 'goal', 'setting', 'imagery', 'energy', 'management', 'self', 'talk', 'working', 'clients', 'educating', 'instructing', 'use', 'skills', 'effectively', 'performance', 'situations'], ['common', 'goal', 'educational', 'sport', 'psychologist', 'performance', 'enhancement', 'teaching', 'skills', 'athletes', 'manage', 'mental', 'factors', 'sports', 'maximize', 'potential'], ['clinical', 'sport', 'psychologist', 'clinical', 'psychologists', 'obtain', 'doctoral', 'degree', 'clinical', 'counseling', 'psychology'], ['meet', 'athletes', 'mental', 'health', 'issues', 'work', 'provide', 'mental', 'health', 'solutions', 'need', 'individually', 'group', 'settings'], ['areas', 'expertise', 'include', 'mainly', 'clinical', 'issues', 'include', 'limited', 'depression', 'eating', 'disorders', 'substance', 'abuse'], ['able', 'prescribe', 'medications', 'forms', 'treatment', 'address', 'clinical', 'issues'], ['non', 'clinical', 'sport', 'psychologist', 'might', 'refer', 'one', 'clients', 'clinical', 'psychologist', 'thought', 'athlete', 'might', 'need', 'additional', 'help', 'regarding', 'mental', 'health'], ['many', 'clinical', 'sport', 'psychologists', 'simply', 'apply', 'clinical', 'expertise', 'athletes', 'limited', 'abilities', 'enhance', 'performance'], ['common', 'areas', 'study', 'listed', 'broad', 'areas', 'research', 'field'], ['complete', 'list', 'topics', 'rather', 'overview', 'types', 'issues', 'concepts', 'sport', 'psychologists', 'study'], ['recently', 'criticism', 'quality', 'assumptions', 'methods', 'sport', 'psychology', 'stress', 'research', 'drawn', 'increasing', 'attention', 'flourishing', 'academic', 'debate', 'evolved', 'regarding', 'quality', 'sport', 'research', 'limitations', 'future', 'directions'], ['personality', 'one', 'common', 'area', 'study', 'within', 'sport', 'psychology', 'relationship', 'personality', 'performance'], ['research', 'focuses', 'specific', 'personality', 'characteristics', 'related', 'performance', 'psychological', 'variables'], ['various', 'personality', 'characteristics', 'found', 'consistent', 'among', 'elite', 'athletes'], ['include', 'limited', 'mental', 'toughness', 'self', 'efficacy', 'arousal', 'motivation', 'commitment', 'competitiveness', 'control'], ['mental', 'toughness', 'psychological', 'edge', 'helps', 'one', 'perform', 'high', 'level', 'consistently'], ['mentally', 'tough', 'athletes', 'exhibit', 'four', 'characteristics', 'strong', 'self', 'belief', 'confidence', 'ability', 'perform', 'well', 'internal', 'motivation', 'successful', 'ability', 'focus', 'one', 'thoughts', 'feelings', 'without', 'distraction', 'composure', 'pressure'], ['self', 'efficacy', 'belief', 'one', 'successfully', 'perform', 'specific', 'task'], ['sport', 'self', 'efficacy', 'conceptualized', 'sport', 'confidence'], ['however', 'efficacy', 'beliefs', 'specific', 'certain', 'task', 'believe', 'successfully', 'make', 'free', 'throws', 'whereas', 'confidence', 'general', 'feeling', 'believe', 'good', 'game', 'today'], ['arousal', 'refers', 'one', 'physiological', 'cognitive', 'activation'], ['many', 'researchers', 'explored', 'relationship', 'arousal', 'performance', 'one', 'unifying', 'theory', 'yet', 'developed'], ['however', 'research', 'suggest', 'perception', 'arousal', 'either', 'good', 'bad', 'related', 'performance'], ['motivation', 'defined', 'broadly', 'perform', 'given', 'task'], ['people', 'play', 'perform', 'internal', 'reasons', 'enjoyment', 'satisfaction', 'said', 'intrinsically', 'motivated', 'people', 'play', 'external', 'reasons', 'money', 'attention', 'others', 'extrinsically', 'motivated'], ['commitment', 'refers', 'dedication', 'continuing', 'sport', 'early', 'development', 'high', 'level', 'sport', 'expertise'], ['competitiveness', 'ability', 'challenge', 'opponents', 'aim', 'success'], ['control', 'ability', 'separate', 'focus', 'different', 'events', 'occurring', 'one', 'life', 'within', 'outside', 'athletics', 'additionally', 'specific', 'psychological', 'skills', 'ingrained', 'personality', 'possessed', 'higher', 'levels', 'elite', 'athletes', 'typical', 'person'], ['include', 'arousal', 'regulation', 'goal', 'setting', 'imagery', 'pre', 'performance', 'routines', 'self', 'talk', 'discussed', 'commonly', 'used', 'techniques', 'according', 'hollander', 'model', 'thought', 'personality', 'made', 'three', 'dimensions', 'role', 'related', 'behavior', 'typical', 'responses', 'psychological', 'core'], ['role', 'related', 'behaviors', 'actions', 'person', 'exhibits', 'certain', 'situation'], ['behaviors', 'change', 'frequently', 'external', 'dynamic'], ['typical', 'responses', 'way', 'person', 'usually', 'acts', 'result', 'event'], ['person', 'psychological', 'core', 'refers', 'morals', 'beliefs', 'values', 'hold'], ['changed', 'various', 'circumstances', 'internal', 'constant'], ['multiple', 'approaches', 'personality', 'shaped'], ['psychodynamic', 'approach', 'theory', 'explores', 'subconscious', 'interacts', 'conscience', 'individual'], ['proposes', 'underlying', 'thoughts', 'feelings', 'emotions', 'influence', 'think', 'act'], ['subconscious', 'closely', 'related', 'experiences', 'resolution', 'conflict', 'child'], ['theory', 'emphasizes', 'understanding', 'individual', 'whole', 'rather', 'trait'], ['theory', 'consider', 'environmental', 'factors', 'influence', 'behavior'], ['trait', 'approach', 'theory', 'focuses', 'traits', 'commonly', 'attributed', 'individual', 'influence', 'way', 'one', 'act', 'normal', 'basis'], ['traits', 'helpful', 'predicting', 'usual', 'behavior', 'however', 'cannot', 'always', 'predispose', 'situational', 'behavior'], ['situational', 'approach', 'theory', 'suggests', 'individual', 'act', 'entirely', 'depends', 'environment'], ['example', 'player', 'acts', 'aggressively', 'playing', 'field', 'might', 'way', 'field'], ['theory', 'neglects', 'individual', 'traits', 'consider', 'differences', 'among', 'people'], ['interactional', 'approach', 'theory', 'combination', 'trait', 'situational', 'approach'], ['suggests', 'traits', 'commonly', 'attributed', 'individual', 'predispose', 'behavior', 'however', 'traits', 'influence', 'behavior', 'unless', 'situation', 'calls'], ['theory', 'commonly', 'used', 'sport', 'psychologists', 'takes', 'consideration', 'components', 'person', 'situation', 'hand'], ['method', 'measuring', 'personality', 'involves', 'assessing', 'traits', 'typical', 'style', 'behavior', 'versus', 'state', 'immediate', 'emotion', 'behavior', 'moment'], ['youth', 'sport', 'youth', 'sport', 'refers', 'organized', 'sports', 'programs', 'children', 'less', 'years', 'old'], ['researchers', 'area', 'focus', 'benefits', 'drawbacks', 'youth', 'sport', 'participation', 'parents', 'impact', 'children', 'experiences', 'sporting', 'activities'], ['day', 'age', 'youth', 'influenced', 'see', 'tv', 'sport', 'idols'], ['reason', 'rare', 'see', 'seven', 'year', 'old', 'play', 'acting', 'game', 'soccer', 'socially', 'influenced', 'seeing', 'tv'], ['life', 'skills', 'refer', 'mental', 'emotional', 'behavioral', 'social', 'skills', 'resources', 'developed', 'sport', 'participation'], ['research', 'area', 'focuses', 'life', 'skills', 'developed', 'transferred', 'sports', 'areas', 'life', 'tennis', 'school', 'program', 'development', 'implementation'], ['burnout', 'sport', 'typically', 'characterized', 'three', 'dimensions', 'emotional', 'exhaustion', 'depersonalization', 'reduced', 'sense', 'accomplishment'], ['athletes', 'experience', 'burnout', 'may', 'different', 'contributing', 'factors', 'frequent', 'reasons', 'include', 'perfectionism', 'boredom', 'injuries', 'excessive', 'pressure', 'overtraining'], ['burnout', 'studied', 'many', 'different', 'athletic', 'populations', 'coaches', 'major', 'problem', 'youth', 'sports', 'contributes', 'withdrawal', 'sport'], ['parenting', 'youth', 'sport', 'necessary', 'critical', 'young', 'athletes'], ['research', 'parenting', 'explores', 'behaviors', 'contribute', 'hinder', 'children', 'participation'], ['example', 'research', 'suggests', 'children', 'want', 'parents', 'provide', 'support', 'become', 'involved', 'give', 'technical', 'advice', 'unless', 'well', 'versed', 'sport'], ['excessive', 'demands', 'parents', 'may', 'also', 'contribute', 'burnout'], ['coach', 'behavior', 'major', 'contributor', 'youth', 'athletes', 'experience', 'sports'], ['research', 'directed', 'coding', 'behavioral', 'styles', 'coaches', 'found', 'children', 'accurate', 'perceiving', 'coaching', 'behaviors', 'coach'], ['lack', 'awareness', 'contributes', 'heavily', 'negative', 'athlete', 'behaviors', 'burnout'], ['coaching', 'sport', 'psychologists', 'primarily', 'work', 'athletes', 'focus', 'research', 'improving', 'athletic', 'performance', 'coaches', 'another', 'population', 'intervention', 'take', 'place'], ['researchers', 'area', 'focus', 'kinds', 'things', 'coaches', 'say', 'improve', 'coaching', 'technique', 'athletes', 'performance'], ['motivational', 'climate', 'refers', 'situational', 'environmental', 'factors', 'influence', 'individuals', 'goals'], ['two', 'major', 'types', 'motivational', 'climates', 'coaches', 'create', 'task', 'oriented', 'ego', 'oriented'], ['winning', 'overall', 'goal', 'sports', 'competitions', 'regardless', 'motivational', 'climate', 'task', 'orientation', 'emphasizes', 'building', 'skill', 'improvement', 'giving', 'complete', 'effort', 'mastering', 'task', 'hand', 'self', 'referenced', 'goals', 'ego', 'orientation', 'emphasizes', 'demonstrating', 'superior', 'ability', 'competition', 'promote', 'effort', 'individual', 'improvement', 'referenced', 'goals'], ['task', 'oriented', 'climate', 'found', 'develop', 'greater', 'intrinsic', 'self', 'determined', 'motivation', 'athletes', 'compared', 'ego', 'oriented', 'climate'], ['additionally', 'environment', 'self', 'improvement', 'primary', 'focus', 'creates', 'greater', 'intrinsic', 'motivation', 'one', 'winning', 'focus'], ['effective', 'coaching', 'practices', 'explore', 'best', 'ways', 'coaches', 'lead', 'teach', 'athletes'], ['examples', 'researchers', 'may', 'study', 'effective', 'methods', 'giving', 'feedback', 'rewarding', 'reinforcing', 'behavior', 'communicating', 'avoiding', 'self', 'fulfilling', 'prophecies', 'athletes'], ['coaches', 'influence', 'motivation', 'athletes', 'mainly', 'interactional', 'behavior', 'athletes'], ['coaches', 'perceived', 'athletes', 'autonomy', 'supporting', 'controlling'], ['autonomy', 'supporting', 'coaches', 'provide', 'structure', 'well', 'involved', 'caring', 'towards', 'athletes'], ['coaches', 'perceived', 'controlling', 'instill', 'less', 'intrinsic', 'motivation', 'athletes'], ['motivation', 'maximized', 'coach', 'perceived', 'autonomy', 'supporting', 'providing', 'high', 'level', 'training', 'instruction'], ['due', 'findings', 'interventions', 'sport', 'psychologist', 'implement', 'focused', 'increasing', 'autonomy', 'supportive', 'behaviors', 'coaches', 'coaching', 'philosophy', 'refers', 'set', 'beliefs', 'intrinsic', 'coach', 'guide', 'behavior', 'experience'], ['philosophy', 'facilitate', 'self', 'awareness', 'prioritize', 'coaching', 'objectives', 'athlete', 'centered'], ['philosophy', 'central', 'individual', 'allow', 'coach', 'react', 'efficiently', 'fast', 'paced', 'decisions', 'sports', 'systematic', 'thoughtful', 'way'], ['coach', 'must', 'self', 'aware', 'values', 'order', 'monitor', 'values', 'align', 'thoughts', 'actions'], ['often', 'getting', 'feedback', 'trusted', 'outside', 'sources', 'helpful', 'developing', 'self', 'awareness'], ['coach', 'must', 'also', 'determine', 'prioritize', 'coaching', 'objectives', 'winning', 'athlete', 'well', 'time', 'outside', 'sport'], ['athlete', 'centered', 'philosophy', 'emphasizes', 'learning', 'improvement', 'winning', 'puts', 'athlete', 'development', 'first'], ['philosophy', 'dynamic', 'societal', 'coaching', 'experiences', 'occur', 'change', 'mental', 'coaching', 'used', 'technic', 'raise', 'performance', 'achievements', 'enhancing', 'mental', 'toughness'], ['predominantly', 'used', 'elite', 'athletes', 'high', 'achievers'], ['global', 'performance', 'index', 'tool', 'developed', 'support', 'approach'], ['holistic', 'philosophy', 'mind', 'body', 'heart', 'spirit', 'assesses', 'quickly', 'mental', 'health', 'athletes', 'measuring', 'performance', 'progresses'], ['communication', 'style', 'important', 'concept', 'sport', 'psychologists', 'develop', 'coaches'], ['communication', 'constant', 'role', 'coaches', 'directed', 'towards', 'athletes', 'parents', 'administrators', 'coaches', 'media', 'supporters'], ['mainly', 'comes', 'forms', 'speaking', 'writing', 'body', 'language', 'listening'], ['verbal', 'communication', 'occurs', 'spoken', 'word', 'however', 'nonverbal', 'communication', 'contributes', 'hugely', 'people', 'perceive', 'coaches', 'communication'], ['non', 'verbal', 'communication', 'comes', 'actions', 'facial', 'expressions', 'body', 'position', 'gestures'], ['coaches', 'must', 'aware', 'words', 'tone', 'behaviors', 'use'], ['research', 'found', 'athletes', 'respond', 'best', 'positive', 'feedback', 'specific', 'technical', 'instruction', 'general', 'encouragement'], ['sport', 'psychologists', 'focus', 'developing', 'coaching', 'communication', 'styles', 'direct', 'complete', 'immediate', 'clear', 'also', 'supportive', 'specific', 'athlete', 'verbally', 'non', 'verbally', 'congruent', 'coaches', 'become', 'open', 'idea', 'good', 'professional', 'athlete', 'coach', 'relationship'], ['relationship', 'basis', 'effective', 'performance', 'setting'], ['team', 'processes', 'sport', 'psychologists', 'may', 'consulting', 'work', 'conduct', 'research', 'entire', 'teams'], ['research', 'focuses', 'team', 'tendencies', 'issues', 'beliefs', 'group', 'level', 'individual', 'level'], ['team', 'cohesion', 'defined', 'group', 'tendency', 'stick', 'together', 'pursuing', 'objectives'], ['team', 'cohesion', 'two', 'components', 'social', 'cohesion', 'well', 'teammates', 'like', 'one', 'another', 'task', 'cohesion', 'well', 'teammates', 'work', 'together', 'achieve', 'goal'], ['collective', 'efficacy', 'team', 'shared', 'belief', 'cannot', 'accomplish', 'given', 'task'], ['words', 'team', 'belief', 'level', 'competency', 'perform', 'task'], ['important', 'note', 'collective', 'efficacy', 'overall', 'shared', 'belief', 'amongst', 'team', 'members', 'merely', 'sum', 'individual', 'self', 'efficacy', 'beliefs'], ['leadership', 'thought', 'behavioral', 'process', 'influences', 'team', 'members', 'towards', 'achieving', 'common', 'goal'], ['leadership', 'sports', 'pertinent', 'always', 'leaders', 'team', 'team', 'captains', 'coaches', 'trainers'], ['research', 'leadership', 'studies', 'characteristics', 'effective', 'leaders', 'leadership', 'development'], ['organizational', 'sport', 'psychology', 'since', 'early', 'growing', 'trend', 'toward', 'research', 'practice', 'better', 'acknowledges', 'importance', 'creating', 'sporting', 'environments', 'enable', 'people', 'thrive'], ['organizational', 'sport', 'psychology', 'subfield', 'sport', 'psychology', 'dedicated', 'better', 'understanding', 'individual', 'behavior', 'social', 'processes', 'sport', 'organizations', 'promote', 'organizational', 'functioning'], ['focus', 'organizational', 'sport', 'psychology', 'develop', 'knowledge', 'supports', 'development', 'optimally', 'functioning', 'sport', 'organizations', 'though', 'enhancement', 'day', 'day', 'experiences', 'operate', 'within', 'sphere', 'influence'], ['knowledge', 'used', 'variety', 'ways', 'interventions', 'individual', 'group', 'organizational', 'level', 'thus', 'organizational', 'sport', 'psychology', 'reflects', 'systems', 'perspective', 'academic', 'study', 'increasingly', 'necessary', 'aspect', 'practitioner', 'competency', 'motivation', 'sport', 'motivation', 'field', 'psychology', 'loosely', 'defined', 'intensity', 'direction', 'effort', 'applied'], ['direction', 'motivation', 'refers', 'one', 'seeks', 'situations', 'avoid', 'things', 'might', 'challenging'], ['intensity', 'refers', 'much', 'effort', 'one', 'puts', 'challenge', 'situation'], ['motivation', 'tied', 'closely', 'personality', 'categorized', 'personality', 'trait'], ['three', 'general', 'theories', 'motivation', 'participant', 'trait', 'theory', 'situational', 'theory', 'interactional', 'theory'], ['theories', 'similar', 'personality'], ['participant', 'trait', 'theory', 'motivation', 'consists', 'personality', 'traits', 'desires', 'goals', 'athlete'], ['example', 'athletes', 'might', 'extremely', 'competitive', 'desire', 'improve', 'win', 'constantly'], ['athletes', 'would', 'motivated', 'competition', 'others'], ['situational', 'theory', 'motivation', 'depends', 'situation', 'environment'], ['example', 'athletes', 'might', 'feel', 'desire', 'work', 'hard', 'motivated', 'others', 'watching'], ['motivation', 'would', 'dependent', 'whether', 'people', 'around'], ['interactional', 'theory', 'theory', 'combines', 'ideas', 'participant', 'trait', 'situational', 'level', 'motivation', 'individual', 'depends', 'traits', 'situation', 'hand'], ['example', 'athlete', 'might', 'intrinsically', 'competitive', 'feels', 'motivated', 'participating', 'match', 'many', 'people', 'depending', 'traits', 'situations', 'easier', 'individuals', 'find', 'motivation', 'others'], ['said', 'able', 'find', 'motivation', 'easily', 'guaranteed', 'success', 'athletes', 'struggle', 'adjust', 'things', 'improve', 'drive'], ['motivation', 'facilitated', 'coaching', 'leaders', 'changing', 'environment', 'finding', 'multiple', 'reasons', 'motives', 'something', 'realistic', 'achievable'], ['high', 'achieving', 'athletes', 'likely', 'motivated', 'achieve', 'success', 'rather', 'motivated', 'avoid', 'failure'], ['arousal', 'anxiety', 'stress', 'although', 'anxiety', 'stress', 'often', 'believed', 'negative', 'thing', 'actually', 'necessary', 'response', 'body', 'survive'], ['natural', 'body', 'exhibit', 'certain', 'levels', 'anxiety', 'stress', 'however', 'becomes', 'problem', 'begins', 'inhibit', 'activity'], ['arousal', 'physiological', 'psychological', 'activation', 'body', 'response', 'event'], ['trait', 'anxiety', 'exists', 'individual', 'experience', 'unusually', 'high', 'response', 'levels', 'wide', 'spread', 'situations', 'threatening'], ['state', 'anxiety', 'momentary', 'feeling', 'nervousness', 'worry', 'accompanies', 'arousal', 'body'], ['state', 'anxiety', 'defined', 'cognitively', 'nervous', 'thoughts', 'worries', 'occur', 'moment'], ['also', 'somatic', 'state', 'anxiety', 'body', 'experiences', 'physiological', 'response', 'arousal'], ['sometimes', 'manifests', 'momentarily', 'fluttering', 'stomach', 'elevated', 'pulse'], ['four', 'major', 'theories', 'arousal', 'anxiety'], ['drive', 'theory', 'approach', 'considers', 'anxiety', 'positive', 'asset'], ['situations', 'anxiety', 'high', 'performance', 'increases', 'proportionally'], ['theory', 'well', 'accepted', 'thought', 'athletes', 'psyched', 'also', 'psyched'], ['simply', 'means', 'anxiety', 'work', 'motivated', 'inhibit', 'others'], ['entirely', 'dependent', 'individual', 'personality', 'broadly', 'applied', 'athletes'], ['inverted', 'theory', 'approach', 'proposes', 'best', 'performance', 'occurs', 'stress', 'moderate', 'high', 'low'], ['idea', 'demonstrated', 'graph', 'physiological', 'arousal', 'plotted', 'performance'], ['curve', 'resembles', 'inverted', 'performance', 'highest', 'value', 'arousal', 'half', 'highest', 'value'], ['zone', 'optimal', 'functioning', 'theory', 'theory', 'looks', 'type', 'athlete', 'level', 'arousal', 'need', 'perform', 'best'], ['suggests', 'athlete', 'requires', 'level', 'stress', 'arousal', 'feel', 'motivated', 'perform', 'well'], ['theory', 'specific', 'difficult', 'quantify'], ['one', 'proposed', 'model', 'optimal', 'functioning', 'proposed', 'yuri', 'hanin'], ['model', 'focuses', 'interaction', 'natural', 'emotional', 'experience', 'repetition', 'athletics'], ['combination', 'concepts', 'creates', 'emotional', 'pattern', 'stable', 'individual'], ['takes', 'account', 'positive', 'negative', 'optimal', 'dysfunctional', 'emotional', 'experiences', 'effect', 'athletic', 'performance'], ['peak', 'performance', 'athlete', 'experiences', 'zone', 'optimal', 'functioning'], ['stage', 'described', 'including', 'dissociation', 'intense', 'concentration', 'point', 'unaware', 'one', 'surroundings', 'lack', 'fatigue', 'pain', 'perceptual', 'time', 'slowing', 'feeling', 'power', 'control'], ['state', 'cannot', 'forced', 'happen', 'although', 'athletes', 'develop', 'control', 'several', 'psychological', 'variables', 'contribute', 'achieving', 'peak', 'performance'], ['sport', 'psychologists', 'try', 'give', 'athletes', 'tools', 'control', 'reaching', 'peak', 'performance', 'level'], ['interventions', 'targets', 'controlling', 'state', 'anxiety', 'arousal', 'level', 'individual', 'task', 'needs', 'maximize', 'performance', 'abilities'], ['strategies', 'used', 'include', 'cognitive', 'reappraisal', 'breathing', 'relaxation', 'hypnosis'], ['reversal', 'theory', 'theory', 'states', 'level', 'arousal', 'entirely', 'depends', 'interpretation', 'situation'], ['athletes', 'view', 'situations', 'challenge', 'rather', 'threat', 'strong', 'level', 'stress', 'able', 'perform', 'better'], ['amount', 'stress', 'essential', 'performance', 'way', 'athlete', 'interprets', 'event'], ['stress', 'stem', 'trait', 'anxiety', 'event', 'importance', 'self', 'esteem', 'uncertainty', 'situation'], ['stress', 'occurs', 'four', 'stages', 'environment', 'presents', 'event', 'challenge', 'physical', 'psychological', 'individual', 'analyzes', 'event', 'perceives', 'threat', 'level', 'stress', 'response', 'occurs', 'behavior', 'outcome', 'reflects', 'stress', 'response'], ['stress', 'responses', 'physical', 'muscle', 'tension', 'somatic', 'state', 'anxiety'], ['responses', 'psychological', 'cognitive', 'state', 'anxiety', 'attention', 'changes'], ['practice', 'specificity', 'based', 'model', 'arousal', 'practice', 'specificity', 'based', 'model', 'arousal', 'movahedi', 'holds', 'best', 'peak', 'performances', 'occur', 'athletes', 'need', 'create', 'arousal', 'level', 'similar', 'one', 'experienced', 'throughout', 'training', 'sessions'], ['peak', 'performance', 'athletes', 'need', 'high', 'low', 'arousal', 'levels'], ['important', 'create', 'level', 'arousal', 'throughout', 'training', 'sessions', 'competition'], ['words', 'high', 'levels', 'arousal', 'beneficial', 'athletes', 'experience', 'heightened', 'levels', 'arousal', 'consecutive', 'training', 'sessions'], ['similarly', 'low', 'levels', 'arousal', 'beneficial', 'athletes', 'experience', 'low', 'levels', 'arousal', 'consecutive', 'training', 'sessions'], ['commonly', 'used', 'techniques', 'common', 'techniques', 'skills', 'sport', 'psychologists', 'teach', 'athletes', 'improving', 'performance'], ['arousal', 'regulation', 'arousal', 'regulation', 'refers', 'entering', 'maintaining', 'optimal', 'level', 'cognitive', 'physiological', 'activation', 'order', 'maximize', 'performance'], ['may', 'include', 'relaxation', 'one', 'becomes', 'anxious', 'methods', 'progressive', 'muscle', 'relaxation', 'breathing', 'exercises', 'meditation', 'use', 'energizing', 'techniques', 'listening', 'music', 'energizing', 'cues', 'one', 'alert', 'enough'], ['use', 'meditation', 'specifically', 'mindfulness', 'growing', 'practice', 'field', 'arousal', 'recognition'], ['mindfulness', 'acceptance', 'commitment', 'mac', 'theory', 'common', 'form', 'mindfulness', 'sport', 'formed'], ['aim', 'mac', 'maximize', 'human', 'potential', 'rich', 'full', 'meaningful', 'life'], ['includes', 'specific', 'protocol', 'involve', 'meditation', 'acceptance', 'practices', 'regular', 'basis', 'well', 'competition'], ['protocol', 'tested', 'various', 'times', 'using', 'ncaa', 'men', 'women', 'basketball', 'players'], ['study', 'done', 'frank'], ['gardner', 'ncaa', 'women', 'basketball', 'player', 'increased', 'personal', 'satisfaction', 'performances', 'performing', 'specific', 'mac', 'protocol', 'several', 'weeks'], ['also', 'effect', 'mental', 'barriers', 'game', 'decreased', 'time', 'period', 'result', 'mac', 'protocol'], ['another', 'study', 'mac', 'protocol', 'performed', 'frank', 'gardner', 'zella', 'moore', 'adolescent', 'competitive', 'diver', 'showed', 'mac', 'protocol', 'tailored', 'specific', 'population', 'potential', 'provide', 'performance', 'enhancement'], ['case', 'vocabulary', 'examples', 'protocol', 'tailored', 'practical', 'year', 'old'], ['performed', 'mac', 'protocol', 'several', 'weeks', 'diver', 'showed', 'percent', 'increase', 'diving', 'scores'], ['finding', 'important', 'previously', 'majority', 'tests', 'performed', 'using', 'mac', 'protocol', 'world', 'class', 'athletes'], ['goal', 'setting', 'goal', 'setting', 'process', 'systematically', 'planning', 'ways', 'achieve', 'specific', 'accomplishments', 'within', 'certain', 'amount', 'time'], ['research', 'suggests', 'goals', 'specific', 'measurable', 'difficult', 'attainable', 'time', 'based', 'written', 'combination', 'short', 'term', 'long', 'term', 'goals'], ['meta', 'analysis', 'goal', 'setting', 'sport', 'suggests', 'compared', 'setting', 'goals', 'best', 'goals', 'setting', 'types', 'goals', 'effective', 'method', 'improving', 'performance'], ['according', 'dr', 'eva'], ['monsma', 'short', 'term', 'goals', 'used', 'help', 'achieve', 'long', 'term', 'goals'], ['dr', 'monsma', 'also', 'states', 'important', 'set', 'goals', 'positive', 'terms', 'focusing', 'behaviors', 'present', 'rather', 'absent', 'long', 'term', 'goal', 'also', 'series', 'short', 'term', 'goals', 'progress', 'difficulty'], ['instance', 'short', 'term', 'goals', 'progress', 'easy', 'achieve', 'challenging'], ['challenging', 'short', 'term', 'goals', 'remove', 'repetitiveness', 'easy', 'goals', 'give', 'one', 'edge', 'striving', 'long', 'term', 'goals'], ['three', 'major', 'types', 'goals', 'within', 'sport', 'psychology', 'outcome', 'goals', 'performance', 'goals', 'process', 'goals'], ['types', 'goals', 'outcome', 'goals', 'describe', 'individual', 'team', 'aim', 'compare', 'competitors'], ['type', 'goal', 'unique', 'nature', 'ingrained', 'social', 'comparison'], ['winning', 'common', 'outcome', 'goal'], ['type', 'goal', 'least', 'effective', 'depends', 'many', 'factors', 'extrinsic', 'individual', 'performance', 'goals', 'subjective', 'goals', 'concerned', 'personal', 'achievement', 'end', 'result'], ['products', 'performance', 'based', 'standard', 'subjective', 'individual', 'usually', 'based', 'numeric', 'measurements'], ['examples', 'include', 'finishing', 'race', 'certain', 'time', 'jumping', 'certain', 'height', 'completing', 'specific', 'amount', 'repetitions', 'process', 'goals', 'focused', 'process', 'performance'], ['include', 'execution', 'behaviors', 'used', 'activity', 'getting', 'final', 'product', 'performance'], ['examples', 'include', 'breathing', 'control', 'maintaining', 'body', 'posture', 'use', 'imagery'], ['imagery', 'imagery', 'motor', 'imagery', 'defined', 'using', 'multiple', 'senses', 'create', 'recreate', 'experiences', 'one', 'mind'], ['additionally', 'vivid', 'images', 'likely', 'interpreted', 'brain', 'identical', 'actual', 'event', 'increases', 'effectiveness', 'mental', 'practice', 'imagery'], ['good', 'imagery', 'therefore', 'attempts', 'create', 'lifelike', 'image', 'possible', 'use', 'multiple', 'senses', 'sight', 'smell', 'kinesthetic', 'proper', 'timing', 'perspective', 'accurate', 'portrayal', 'task'], ['anecdotal', 'evidence', 'athletes', 'research', 'findings', 'suggest', 'imagery', 'effective', 'tool', 'enhance', 'performance', 'psychological', 'states', 'relevant', 'performance', 'confidence'], ['concept', 'commonly', 'used', 'coaches', 'athletes', 'day', 'event'], ['two', 'perspectives', 'one', 'take', 'using', 'imagery', 'first', 'person', 'one', 'pictures', 'skill', 'self', 'third', 'person', 'imagery', 'one', 'pictures', 'watching', 'skill', 'done', 'self', 'another', 'athlete'], ['athletes', 'use', 'whichever', 'perspective', 'comfortable'], ['multiple', 'theories', 'athletes', 'use', 'imagery'], ['psychoneuromuscular', 'theory', 'theory', 'proposes', 'athletes', 'activate', 'muscles', 'associated', 'action', 'picturing', 'action'], ['activating', 'neurons', 'provide', 'input', 'muscles', 'similar', 'actually', 'practicing', 'motion'], ['symbolic', 'learning', 'theory', 'theory', 'proposes', 'athletes', 'recognize', 'patterns', 'activities', 'performance'], ['patterns', 'used', 'create', 'mental', 'map', 'model', 'completes', 'series', 'actions'], ['vividness', 'theory', 'theory', 'suggests', 'athletes', 'use', 'five', 'senses', 'take', 'information', 'completing', 'action', 'using', 'memories', 'stimuli', 'make', 'mental', 'recreation', 'event', 'realistic', 'possible'], ['controllability', 'theory', 'focuses', 'ability', 'athletes', 'manipulate', 'images', 'mind'], ['way', 'able', 'picture', 'correcting', 'mistake', 'something', 'properly'], ['thought', 'make', 'goals', 'seem', 'attainable', 'athletes'], ['type', 'imagery', 'also', 'harmful', 'athletes', 'visualize', 'making', 'mistake', 'repeatedly', 'strategies', 'imagery', 'functional', 'athlete', 'might', 'find', 'one', 'effective', 'others'], ['strategy', 'utilized', 'based', 'individual', 'needs', 'goals', 'athlete'], ['order', 'effective', 'practice', 'imagery', 'needs', 'inculcated', 'regular', 'routines', 'supplement', 'physical', 'training'], ['athletes', 'must', 'learn', 'use', 'imagery', 'quiet', 'non', 'distracting', 'place', 'picturing', 'realistic', 'attainable', 'images'], ['using', 'trigger', 'words', 'facilitate', 'imagery', 'bring', 'athlete', 'closer', 'pictured', 'goal'], ['preperformance', 'routines', 'preperformance', 'routines', 'refer', 'actions', 'behaviors', 'athletes', 'use', 'prepare', 'game', 'performance'], ['includes', 'pregame', 'routines', 'warm', 'routines', 'actions', 'athlete', 'regularly', 'mentally', 'physically', 'execute', 'performance'], ['frequently', 'incorporate', 'commonly', 'used', 'techniques', 'imagery', 'self', 'talk'], ['examples', 'would', 'visualizations', 'done', 'skiers', 'dribbling', 'basketball', 'players', 'foul', 'line', 'preshot', 'routines', 'golfers', 'baseball', 'players', 'use', 'prior', 'shot', 'pitch'], ['routines', 'help', 'develop', 'consistency', 'predictability', 'player'], ['allows', 'muscles', 'mind', 'develop', 'better', 'motor', 'control'], ['self', 'talk', 'self', 'talk', 'refers', 'thoughts', 'words', 'athletes', 'performers', 'say', 'usually', 'minds'], ['self', 'talk', 'phrases', 'cues', 'used', 'direct', 'attention', 'towards', 'particular', 'thing', 'order', 'improve', 'focus', 'used', 'alongside', 'techniques', 'facilitate', 'effectiveness'], ['example', 'softball', 'player', 'may', 'think', 'release', 'point', 'bat', 'direct', 'attention', 'point', 'pitcher', 'releases', 'ball', 'golfer', 'may', 'say', 'smooth', 'stroke', 'putting', 'stay', 'relaxed'], ['research', 'suggests', 'either', 'positive', 'negative', 'self', 'talk', 'may', 'improve', 'performance', 'suggesting', 'effectiveness', 'self', 'talk', 'phrases', 'depends', 'phrase', 'interpreted', 'individual'], ['however', 'use', 'positive', 'self', 'talk', 'considered', 'efficacious', 'consistent', 'associative', 'network', 'theory', 'gordon', 'bower', 'self', 'efficacy', 'tenet', 'within', 'broader', 'social', 'cognitive', 'theory', 'albert', 'bandura'], ['use', 'words', 'sport', 'widely', 'utilized'], ['ability', 'bombard', 'unconscious', 'mind', 'one', 'single', 'positive', 'phrase', 'one', 'effective', 'easy', 'use', 'psychological', 'skills', 'available', 'athlete'], ['biofeedback', 'biofeedback', 'uses', 'external', 'technology', 'measure', 'make', 'individual', 'aware', 'internal', 'physiological', 'processes'], ['evidence', 'physiological', 'measures', 'heart', 'rate', 'brain', 'waves', 'appear', 'different', 'elite', 'athletes', 'typical', 'person'], ['field', 'looked', 'however', 'could', 'beneficial', 'implications', 'athletes', 'able', 'monitor', 'control', 'physiological', 'measures', 'maximize', 'performance'], ['modeling', 'modeling', 'form', 'observational', 'learning', 'athlete', 'observes', 'another', 'individual', 'around', 'level', 'skill', 'learning', 'perform', 'sport', 'related', 'movements', 'receive', 'feedback'], ['shown', 'help', 'modify', 'athletes', 'thoughts', 'emotions', 'behaviors', 'beneficial', 'ways'], ['order', 'form', 'learning', 'work', 'athlete', 'must', 'motivated', 'attentive', 'able', 'recall', 'willing', 'try', 'mimic', 'observation', 'model'], ['sport', 'specific', 'differences', 'personality', 'characteristics', 'beneficial', 'sport', 'psychologists', 'understand', 'athlete', 'personalities', 'systematically', 'vary', 'depending', 'type', 'sport', 'played'], ['research', 'athlete', 'personalities', 'allows', 'professionals', 'put', 'maximum', 'investment', 'select', 'specific', 'sports', 'due', 'background', 'understanding', 'dynamic', 'intervening'], ['personality', 'characteristics', 'differ', 'team', 'versus', 'individual', 'sports', 'well', 'different', 'types', 'sports'], ['big', 'personality', 'traits', 'research', 'big', 'five', 'personality', 'traits', 'openness', 'conscientiousness', 'extraversion', 'agreeableness', 'neuroticism', 'well', 'characteristics', 'differentiated', 'personalities', 'athletes', 'individual', 'sports', 'compared', 'team', 'sports'], ['athletes', 'individual', 'sports', 'scored', 'higher', 'measures', 'conscientiousness', 'autonomy'], ['team', 'sport', 'athletes', 'scored', 'higher', 'measures', 'agreeableness', 'sociotrophy'], ['characteristics', 'explained', 'demands', 'sport', 'type'], ['individual', 'sports', 'require', 'athletes', 'self', 'reliant', 'team', 'sports', 'require', 'group', 'cohesion', 'order', 'successful'], ['athletes', 'participating', 'team', 'individual', 'sports', 'score', 'equally', 'measures', 'neuroticism', 'extraversion', 'openness'], ['traits', 'help', 'provide', 'personality', 'profile', 'sport', 'psychologist', 'seeking', 'work', 'certain', 'types', 'sports'], ['sensation', 'seeking', 'sensation', 'seeking', 'phenomenon', 'individual', 'participates', 'novel', 'complex', 'intense', 'activities', 'higher', 'amounts', 'risks', 'order', 'satisfy', 'personal', 'need', 'arousal'], ['one', 'area', 'personalities', 'different', 'types', 'sports', 'differentiated'], ['high', 'sensation', 'seekers', 'tend', 'participate', 'extreme', 'sports', 'sky', 'diving', 'car', 'racing', 'scuba', 'diving', 'whitewater', 'sports', 'skiing'], ['sports', 'involve', 'intense', 'speed', 'excitement', 'well', 'high', 'risks'], ['individuals', 'moderate', 'level', 'sensation', 'seeking', 'tend', 'participate', 'common', 'sports', 'unpredictable', 'also', 'minimally', 'risky'], ['examples', 'basketball', 'baseball', 'volleyball', 'golf'], ['low', 'sensation', 'seekers', 'participate', 'sports', 'require', 'large', 'amounts', 'training', 'consistency', 'long', 'distance', 'running', 'gymnastics', 'swimming'], ['one', 'area', 'personality', 'type', 'differs', 'different', 'sports'], ['psychopathology', 'different', 'categories', 'sports', 'display', 'different', 'mental', 'health', 'profiles'], ['overall', 'female', 'athletes', 'likely', 'develop', 'psychopathology', 'anxiety', 'depression', 'eating', 'disorders'], ['problem', 'prevalent', 'male', 'athletes', 'drug', 'alcohol', 'use'], ['consistent', 'general', 'public', 'well'], ['anxiety', 'depression', 'sleep', 'problems', 'prevalent', 'highly', 'aesthetic', 'sports', 'ballet', 'gymnastics'], ['least', 'prevalent', 'high', 'risk', 'sports', 'team', 'ball', 'sports'], ['eating', 'disorders', 'prevalent', 'athletes', 'general', 'public'], ['women', 'eating', 'disorders', 'highly', 'prevalent', 'aesthetic', 'racing', 'fine', 'motor', 'sports', 'least', 'prevalent', 'team', 'ball', 'sports'], ['eating', 'disorders', 'prevalent', 'men', 'high', 'combat', 'contact', 'sports'], ['problematic', 'eating', 'behaviors', 'sports', 'place', 'emphasis', 'thinness', 'weight', 'dependence'], ['demonstrates', 'mental', 'health', 'problems', 'highly', 'related', 'demands', 'specific', 'sports', 'place', 'athletes', 'involved'], ['exercise', 'psychology', 'exercise', 'psychology', 'defined', 'study', 'psychological', 'issues', 'theories', 'related', 'exercise'], ['exercise', 'psychology', 'sub', 'discipline', 'within', 'field', 'psychology', 'typically', 'grouped', 'sport', 'psychology'], ['example', 'division', 'apa', 'exercise', 'sport', 'psychology', 'one', 'organizations', 'like', 'aasp', 'encompass', 'exercise', 'sport', 'psychology'], ['link', 'exercise', 'psychology', 'long', 'recognized'], ['william', 'james', 'discussed', 'importance', 'exercise', 'writing', 'needed', 'furnish', 'background', 'sanity', 'serenity', 'make', 'us', 'good', 'humored', 'easy', 'approach', 'researchers', 'noted', 'connection', 'exercise', 'depression', 'concluding', 'moderate', 'amount', 'exercise', 'helpful', 'exercise', 'symptom', 'improvement'], ['additionally', 'meeting', 'exercise', 'requirements', 'also', 'aid', 'alleviating', 'symptoms', 'avoidance', 'disorders', 'anxiety', 'also', 'providing', 'higher', 'quality', 'life', 'patient', 'terms', 'physical', 'health', 'sub', 'discipline', 'amount', 'research', 'exercise', 'psychology', 'increased', 'leading', 'several', 'presentations', 'second', 'gathering', 'international', 'society', 'sport', 'psychology'], ['throughout', 'william', 'morgan', 'wrote', 'several', 'pieces', 'relationship', 'exercise', 'various', 'topics', 'mood', 'anxiety', 'adherence', 'exercise', 'programs'], ['morgan', 'also', 'went', 'found', 'apa', 'division', 'interdisciplinary', 'subject', 'exercise', 'psychology', 'draws', 'several', 'different', 'scientific', 'fields', 'ranging', 'psychology', 'physiology', 'neuroscience'], ['major', 'topics', 'study', 'relationship', 'exercise', 'mental', 'health', 'stress', 'affect', 'self', 'esteem', 'interventions', 'promote', 'physical', 'activity', 'exploring', 'exercise', 'patterns', 'different', 'populations', 'elderly', 'obese', 'theories', 'behavior', 'change', 'problems', 'associated', 'exercise', 'injury', 'eating', 'disorders', 'exercise', 'addiction', 'recent', 'evidence', 'also', 'suggests', 'besides', 'mental', 'health', 'well', 'sport', 'practice', 'improve', 'general', 'cognitive', 'abilities'], ['requiring', 'sufficient', 'cognitive', 'demands', 'physical', 'activity', 'seems', 'optimal', 'way', 'improve', 'cognition', 'possibly', 'efficiently', 'cognitive', 'training', 'physical', 'exercise', 'alone', 'see', 'also', 'athletic', 'training', 'clinical', 'psychology', 'counseling', 'psychology', 'exercise', 'physiology', 'ideokinesis', 'kinesiology', 'performance', 'psychology', 'personal', 'training', 'sociology', 'sport', 'sport', 'communication', 'sports', 'medicine', 'sports', 'science', 'references', 'external', 'links', 'association', 'applied', 'sport', 'psychology', 'aasp', 'division', 'exercise', 'sport', 'psychology', 'apa', 'american', 'psychological', 'association', 'apa', 'north', 'american', 'society', 'psychology', 'sport', 'physical', 'activity', 'naspspa', 'european', 'federation', 'sport', 'psychology', 'fepsac', 'international', 'society', 'sport', 'psychology', 'issp', 'british', 'association', 'sport', 'exercises', 'sciences', 'bases', 'canadian', 'society', 'psychomotor', 'learning', 'sport', 'psychology', 'scapps', 'asian', 'south', 'pacific', 'association', 'sport', 'psychology', 'aspasp'], ['handball', 'also', 'known', 'team', 'handball', 'european', 'handball', 'olympic', 'handball', 'team', 'sport', 'two', 'teams', 'seven', 'players', 'six', 'outcourt', 'players', 'goalkeeper', 'pass', 'ball', 'using', 'hands', 'aim', 'throwing', 'goal', 'team'], ['standard', 'match', 'consists', 'two', 'periods', 'minutes', 'team', 'scores', 'goals', 'wins'], ['modern', 'handball', 'played', 'court', 'metres', 'ft', 'goal', 'middle', 'end'], ['goals', 'surrounded', 'meter', 'ft', 'zone', 'defending', 'goalkeeper', 'allowed', 'goals', 'must', 'scored', 'throwing', 'ball', 'outside', 'zone', 'diving'], ['sport', 'usually', 'played', 'indoors', 'outdoor', 'variants', 'exist', 'forms', 'field', 'handball', 'czech', 'handball', 'common', 'past', 'beach', 'handball'], ['game', 'fast', 'high', 'scoring', 'professional', 'teams', 'typically', 'score', 'goals', 'though', 'lower', 'scores', 'uncommon', 'decades', 'ago'], ['players', 'may', 'score', 'hat', 'tricks'], ['body', 'contact', 'permitted', 'defenders', 'trying', 'stop', 'attackers', 'approaching', 'goal'], ['protective', 'equipment', 'mandated', 'players', 'may', 'wear', 'soft', 'protective', 'bands', 'pads', 'mouth', 'guards', 'game', 'codified', 'end', 'th', 'century', 'denmark'], ['modern', 'set', 'rules', 'published', 'october', 'berlin', 'seen', 'date', 'birth', 'sport', 'several', 'revisions', 'since'], ['first', 'official', 'handball', 'match', 'played', 'year', 'germany'], ['first', 'international', 'games', 'played', 'rules', 'men', 'women'], ['men', 'handball', 'first', 'played', 'summer', 'olympics', 'berlin', 'outdoors', 'next', 'time', 'summer', 'olympics', 'munich', 'indoors', 'olympic', 'sport', 'since'], ['women', 'team', 'handball', 'added', 'summer', 'olympics'], ['international', 'handball', 'federation', 'formed', 'member', 'federations'], ['sport', 'popular', 'europe', 'european', 'countries', 'medals', 'one', 'men', 'world', 'championships', 'since'], ['women', 'world', 'championships', 'two', 'non', 'european', 'countries', 'title', 'south', 'korea', 'brazil'], ['game', 'also', 'enjoys', 'popularity', 'east', 'asia', 'north', 'africa', 'parts', 'south', 'america'], ['origins', 'development', 'games', 'similar', 'handball', 'played', 'ancient', 'greece', 'represented', 'amphoras', 'stone', 'carvings'], ['although', 'detailed', 'textual', 'reference', 'rare', 'numerous', 'descriptions', 'ball', 'games', 'played', 'players', 'throw', 'ball', 'one', 'another', 'sometimes', 'done', 'order', 'avoid', 'interception', 'player', 'opposing', 'team'], ['games', 'played', 'widely', 'served', 'form', 'exercise', 'social', 'event', 'evidence', 'ancient', 'roman', 'women', 'playing', 'version', 'handball', 'called', 'expulsim', 'ludere'], ['records', 'handball', 'like', 'games', 'medieval', 'france', 'among', 'inuit', 'greenland', 'middle', 'ages'], ['th', 'century', 'existed', 'similar', 'games', 'ndbold', 'denmark', 'zen', 'czech', 'republic', 'handbol', 'ukraine', 'torball', 'germany', 'team', 'handball', 'game', 'today', 'codified', 'end', 'th', 'century', 'northern', 'europe', 'primarily', 'denmark', 'germany', 'norway', 'sweden'], ['first', 'written', 'set', 'team', 'handball', 'rules', 'published', 'danish', 'gym', 'teacher', 'lieutenant', 'olympic', 'medalist', 'holger', 'nielsen', 'ordrup', 'grammar', 'school', 'north', 'copenhagen'], ['modern', 'set', 'rules', 'published', 'october', 'max', 'heiser', 'karl', 'schelenz', 'erich', 'konigh', 'berlin', 'germany'], ['october', 'therefore', 'seen', 'date', 'birth', 'sport'], ['first', 'ever', 'official', 'handball', 'match', 'played', 'december', 'berlin'], ['rules', 'improved', 'karl', 'schelenz'], ['first', 'international', 'games', 'played', 'rules', 'germany', 'belgium', 'men', 'germany', 'austria', 'women'], ['congress', 'international', 'amateur', 'athletics', 'federation', 'nominated', 'committee', 'draw', 'international', 'rules', 'field', 'handball'], ['international', 'amateur', 'handball', 'federation', 'formed', 'later', 'international', 'handball', 'federation', 'formed'], ['men', 'field', 'handball', 'played', 'summer', 'olympics', 'berlin'], ['next', 'several', 'decades', 'indoor', 'handball', 'flourished', 'evolved', 'scandinavian', 'countries'], ['sport', 'emerged', 'onto', 'world', 'stage', 'team', 'handball', 'summer', 'olympics', 'munich'], ['women', 'team', 'handball', 'added', 'summer', 'olympics', 'montreal'], ['due', 'popularity', 'region', 'eastern', 'european', 'countries', 'refined', 'event', 'became', 'dominant', 'force', 'sport', 'reintroduced'], ['international', 'handball', 'federation', 'organised', 'men', 'world', 'championship', 'every', 'four', 'sometimes', 'three', 'years', 'world', 'war', 'ii'], ['since', 'world', 'championship', 'iceland', 'competition', 'held', 'every', 'two', 'years'], ['women', 'world', 'championship', 'held', 'since'], ['ihf', 'also', 'organizes', 'women', 'men', 'junior', 'world', 'championships'], ['july', 'ihf', 'listed', 'member', 'federations', 'approximately', 'teams', 'million', 'players'], ['rules', 'rules', 'laid', 'ihf', 'set', 'rules'], ['summary', 'two', 'teams', 'seven', 'players', 'six', 'field', 'players', 'plus', 'one', 'goalkeeper', 'take', 'field', 'attempt', 'score', 'points', 'putting', 'game', 'ball', 'opposing', 'team', 'goal'], ['handling', 'ball', 'players', 'subject', 'following', 'restrictions', 'receiving', 'ball', 'players', 'pass', 'keep', 'possession', 'shoot', 'ball'], ['possessing', 'ball', 'players', 'must', 'dribble', 'similar', 'basketball', 'dribble', 'take', 'three', 'steps', 'three', 'seconds', 'time', 'without', 'dribbling'], ['attacking', 'defending', 'players', 'defending', 'goalkeeper', 'allowed', 'touch', 'floor', 'goal', 'area', 'within', 'six', 'metres', 'goal'], ['shot', 'pass', 'goal', 'area', 'valid', 'completed', 'touching', 'floor'], ['goalkeepers', 'allowed', 'outside', 'goal', 'area', 'allowed', 'cross', 'goal', 'area', 'boundary', 'ball', 'hands'], ['ball', 'may', 'passed', 'back', 'goalkeeper', 'positioned', 'goal', 'area', 'notable', 'scoring', 'opportunities', 'occur', 'attacking', 'players', 'jump', 'goal', 'area'], ['example', 'attacking', 'player', 'may', 'catch', 'pass', 'launching', 'inside', 'goal', 'area', 'shoot', 'pass', 'touching', 'floor'], ['doubling', 'occurs', 'diving', 'attacking', 'player', 'passes', 'another', 'diving', 'teammate'], ['playing', 'court', 'handball', 'played', 'court', 'metres', 'ft', 'ft', 'goal', 'centre', 'end'], ['goals', 'surrounded', 'near', 'semicircular', 'area', 'called', 'zone', 'crease', 'defined', 'line', 'six', 'meters', 'goal'], ['dashed', 'near', 'semicircular', 'line', 'nine', 'metres', 'goal', 'marks', 'free', 'throw', 'line'], ['line', 'court', 'part', 'area', 'encompasses'], ['implies', 'middle', 'line', 'belongs', 'halves', 'time'], ['goals', 'goals', 'two', 'meters', 'high', 'three', 'meters', 'wide'], ['must', 'securely', 'bolted', 'either', 'floor', 'wall', 'behind'], ['goal', 'posts', 'crossbar', 'must', 'made', 'material', 'wood', 'aluminium', 'feature', 'quadratic', 'cross', 'section', 'sides', 'cm'], ['three', 'sides', 'beams', 'visible', 'playing', 'field', 'must', 'painted', 'alternatingly', 'two', 'contrasting', 'colors', 'contrast', 'background'], ['colors', 'goals', 'must'], ['goal', 'must', 'feature', 'net'], ['must', 'fastened', 'way', 'ball', 'thrown', 'goal', 'leave', 'pass', 'goal', 'normal', 'circumstances'], ['necessary', 'second', 'net', 'may', 'clasped', 'back', 'net', 'inside'], ['zone', 'goals', 'surrounded', 'crease'], ['area', 'delineated', 'two', 'quarter', 'circles', 'radius', 'six', 'metres', 'around', 'far', 'corners', 'goal', 'post', 'connecting', 'line', 'parallel', 'goal', 'line'], ['defending', 'goalkeeper', 'allowed', 'inside', 'zone'], ['however', 'court', 'players', 'may', 'catch', 'touch', 'ball', 'air', 'within', 'long', 'player', 'starts', 'jump', 'outside', 'zone', 'releases', 'ball', 'lands', 'landing', 'inside', 'perimeter', 'allowed', 'case', 'long', 'ball', 'released'], ['player', 'without', 'ball', 'contacts', 'ground', 'inside', 'goal', 'perimeter', 'line', 'surrounding', 'perimeter', 'must', 'take', 'direct', 'path'], ['however', 'player', 'cross', 'zone', 'attempt', 'gain', 'advantage', 'better', 'position', 'team', 'cedes', 'ball'], ['similarly', 'violation', 'zone', 'defending', 'player', 'penalized', 'order', 'gain', 'advantage', 'defending'], ['substitution', 'area', 'outside', 'one', 'long', 'edge', 'court', 'sides', 'middle', 'line', 'substitution', 'areas', 'team'], ['team', 'officials', 'substitutes', 'suspended', 'players', 'must', 'wait', 'within', 'area'], ['team', 'area', 'side', 'goal', 'team', 'defending', 'halftime', 'substitution', 'areas', 'swapped'], ['player', 'entering', 'leaving', 'play', 'must', 'cross', 'substitution', 'line', 'part', 'side', 'line', 'extends', 'metres', 'ft', 'middle', 'line', 'team', 'side'], ['duration', 'standard', 'match', 'two', 'minute', 'halves', 'minute', 'major', 'championships', 'olympics', 'halftime', 'intermission'], ['half', 'time', 'teams', 'switch', 'sides', 'court', 'well', 'benches'], ['youths', 'length', 'halves', 'reduced', 'minutes', 'ages', 'minutes', 'ages', 'though', 'national', 'federations', 'countries', 'may', 'differ', 'implementation', 'official', 'guidelines', 'decision', 'must', 'reached', 'particular', 'match', 'tournament', 'ends', 'draw', 'regular', 'time', 'maximum', 'two', 'overtimes', 'consisting', 'two', 'straight', 'minute', 'periods', 'one', 'minute', 'break'], ['decide', 'game', 'either', 'winning', 'team', 'determined', 'penalty', 'shootout', 'best', 'five', 'rounds', 'still', 'tied', 'extra', 'rounds', 'added', 'one', 'team', 'wins'], ['referees', 'may', 'call', 'timeout', 'according', 'sole', 'discretion', 'typical', 'reasons', 'injuries', 'suspensions', 'court', 'cleaning'], ['penalty', 'throws', 'trigger', 'timeout', 'lengthy', 'delays', 'change', 'goalkeeper'], ['since', 'teams', 'call', 'team', 'timeouts', 'per', 'game', 'two', 'per', 'half', 'last', 'one', 'minute'], ['right', 'may', 'invoked', 'team', 'possession', 'ball'], ['team', 'representatives', 'must', 'show', 'green', 'card', 'marked', 'black', 'timekeeper', 'desk'], ['timekeeper', 'immediately', 'interrupts', 'game', 'sounding', 'acoustic', 'signal', 'stop', 'clock'], ['teams', 'allowed', 'one', 'timeout', 'per', 'half'], ['purpose', 'calling', 'timeouts', 'overtime', 'shootouts', 'extensions', 'second', 'half'], ['referees', 'handball', 'match', 'adjudicated', 'two', 'equal', 'referees'], ['national', 'bodies', 'allow', 'games', 'single', 'referee', 'special', 'cases', 'like', 'illness', 'short', 'notice'], ['referees', 'disagree', 'occasion', 'decision', 'made', 'mutual', 'agreement', 'short', 'timeout', 'case', 'punishments', 'severe', 'two', 'comes', 'effect'], ['referees', 'obliged', 'make', 'decisions', 'basis', 'observations', 'facts'], ['judgements', 'final', 'appealed', 'compliance', 'rules'], ['referees', 'position', 'way', 'team', 'players', 'confined'], ['stand', 'diagonally', 'aligned', 'observe', 'one', 'side', 'line'], ['depending', 'positions', 'one', 'called', 'field', 'referee', 'goal', 'referee'], ['positions', 'automatically', 'switch', 'ball', 'turnover'], ['physically', 'exchange', 'positions', 'approximately', 'every', 'minutes', 'long', 'exchange', 'change', 'sides', 'every', 'five', 'minutes', 'short', 'exchange'], ['ihf', 'defines', 'hand', 'signals', 'quick', 'visual', 'communication', 'players', 'officials'], ['signal', 'warning', 'accompanied', 'yellow', 'card'], ['disqualification', 'game', 'indicated', 'red', 'card', 'followed', 'blue', 'card', 'disqualification', 'accompanied', 'report'], ['referees', 'also', 'use', 'whistle', 'blows', 'indicate', 'infractions', 'restart', 'play'], ['referees', 'supported', 'scorekeeper', 'timekeeper', 'attend', 'formal', 'things', 'keeping', 'track', 'goals', 'suspensions', 'starting', 'stopping', 'clock', 'respectively'], ['also', 'keep', 'eye', 'benches', 'notify', 'referees', 'substitution', 'errors'], ['desk', 'located', 'two', 'substitution', 'areas'], ['team', 'players', 'substitutes', 'officials', 'team', 'consists', 'seven', 'players', 'court', 'seven', 'substitute', 'players', 'bench'], ['one', 'player', 'court', 'must', 'designated', 'goalkeeper', 'differing', 'clothing', 'rest', 'field', 'players'], ['substitution', 'players', 'done', 'number', 'time', 'game', 'play'], ['exchange', 'takes', 'place', 'substitution', 'line'], ['prior', 'notification', 'referees', 'necessary'], ['national', 'bodies', 'deutsche', 'handball', 'bund', 'dhb', 'german', 'handball', 'federation', 'allow', 'substitution', 'junior', 'teams', 'ball', 'possession', 'timeouts'], ['restriction', 'intended', 'prevent', 'early', 'specialization', 'players', 'offence', 'defence'], ['field', 'players', 'field', 'players', 'allowed', 'touch', 'ball', 'part', 'bodies', 'including', 'knee'], ['several', 'team', 'sports', 'distinction', 'made', 'catching', 'dribbling'], ['player', 'possession', 'ball', 'may', 'stand', 'stationary', 'three', 'seconds', 'may', 'take', 'three', 'steps'], ['must', 'either', 'shoot', 'pass', 'dribble', 'ball'], ['taking', 'three', 'steps', 'time', 'considered', 'travelling', 'results', 'turnover'], ['player', 'may', 'dribble', 'many', 'times', 'want', 'though', 'since', 'passing', 'faster', 'preferred', 'method', 'attack', 'long', 'dribble', 'hand', 'contacts', 'top', 'ball'], ['therefore', 'carrying', 'completely', 'prohibited', 'results', 'turnover'], ['dribble', 'picked', 'player', 'right', 'another', 'three', 'seconds', 'three', 'steps'], ['ball', 'must', 'passed', 'shot', 'holding', 'dribbling', 'result', 'double', 'dribble', 'turnover', 'free', 'throw', 'team'], ['offensive', 'infractions', 'result', 'turnover', 'include', 'charging', 'setting', 'illegal', 'screen'], ['carrying', 'ball', 'six', 'meter', 'zone', 'results', 'either', 'ball', 'possession', 'goalkeeper', 'attacker', 'turnover', 'defender'], ['goalkeeper', 'goalkeepers', 'allowed', 'move', 'freely', 'within', 'goal', 'perimeter', 'although', 'may', 'cross', 'goal', 'perimeter', 'line', 'carrying', 'dribbling', 'ball'], ['within', 'zone', 'allowed', 'touch', 'ball', 'parts', 'bodies', 'including', 'feet', 'defensive', 'aim', 'actions', 'subject', 'restrictions', 'field', 'players'], ['goalkeepers', 'may', 'participate', 'normal', 'play', 'teammates'], ['may', 'substituted', 'regular', 'field', 'player', 'team', 'elects', 'use', 'scheme', 'order', 'outnumber', 'defending', 'players'], ['earlier', 'field', 'player', 'become', 'designated', 'goalkeeper', 'court', 'wear', 'vest', 'bib', 'identified'], ['shirt', 'equal', 'colour', 'form', 'goalkeeper', 'shirt', 'avoid', 'confusion'], ['rule', 'change', 'meant', 'make', 'game', 'offensive', 'allows', 'player', 'substitute', 'goalkeeper'], ['new', 'rule', 'resembles', 'one', 'used', 'ice', 'hockey'], ['rule', 'first', 'used', 'women', 'world', 'championship', 'december', 'since', 'used', 'men', 'european', 'championship', 'january', 'genders', 'olympic', 'tournament', 'rio'], ['either', 'goalkeeper', 'deflects', 'ball', 'outer', 'goal', 'line', 'team', 'stays', 'possession', 'ball', 'contrast', 'sports', 'like', 'football'], ['goalkeeper', 'resumes', 'play', 'throw', 'within', 'zone', 'goalkeeper', 'throw'], ['passing', 'one', 'goalkeeper', 'results', 'turnover'], ['penalty', 'shot', 'throwing', 'ball', 'head', 'goalkeeper', 'moving', 'risks', 'direct', 'disqualification', 'red', 'card'], ['outside', 'zone', 'goalkeeper', 'treated', 'current', 'field', 'player', 'follow', 'field', 'players', 'rules', 'holding', 'tackling', 'opponent', 'player', 'outside', 'area', 'risks', 'direct', 'disqualification'], ['goalkeeper', 'may', 'return', 'area', 'ball'], ['team', 'officials', 'team', 'allowed', 'maximum', 'four', 'team', 'officials', 'seated', 'benches'], ['official', 'anybody', 'neither', 'player', 'substitute'], ['one', 'official', 'must', 'designated', 'representative', 'usually', 'team', 'manager'], ['since', 'representatives', 'call', 'team', 'timeouts', 'twice', 'per', 'half', 'may', 'address', 'scorekeeper', 'timekeeper', 'referees', 'per', 'half', 'overtime', 'shootouts', 'considered', 'extensions', 'second', 'half'], ['officials', 'typically', 'include', 'physicians', 'managers'], ['neither', 'official', 'allowed', 'enter', 'playing', 'court', 'without', 'permission', 'referees'], ['ball', 'ball', 'spherical', 'must', 'made', 'either', 'leather', 'synthetic', 'material'], ['allowed', 'shiny', 'slippery', 'surface'], ['ball', 'intended', 'operated', 'single', 'hand', 'official', 'sizes', 'vary', 'depending', 'age', 'gender', 'participating', 'teams'], ['awarded', 'throws', 'referees', 'may', 'award', 'special', 'throw', 'team'], ['usually', 'happens', 'certain', 'events', 'scored', 'goals', 'court', 'balls', 'turnovers', 'timeouts'], ['special', 'throws', 'require', 'thrower', 'obtain', 'certain', 'position', 'pose', 'restrictions', 'positions', 'players'], ['sometimes', 'execution', 'must', 'wait', 'whistle', 'blow', 'referee'], ['throw', 'throw', 'takes', 'place', 'center', 'court'], ['thrower', 'must', 'touch', 'middle', 'line', 'one', 'foot', 'offensive', 'players', 'must', 'stay', 'half', 'referee', 'restarts', 'game'], ['defending', 'players', 'must', 'keep', 'distance', 'least', 'three', 'meters', 'thrower', 'ball', 'leaves', 'hand'], ['throw', 'occurs', 'beginning', 'period', 'opposing', 'team', 'scores', 'goal'], ['must', 'cleared', 'referees', 'modern', 'handball', 'introduced', 'fast', 'throw', 'concept', 'play', 'immediately', 'restarted', 'referees', 'soon', 'executing', 'team', 'fulfills', 'requirements'], ['many', 'teams', 'leverage', 'rule', 'score', 'easy', 'goals', 'opposition', 'time', 'form', 'stable', 'defense', 'line', 'throw', 'team', 'touch', 'ball', 'last', 'awarded', 'throw', 'ball', 'fully', 'crosses', 'side', 'line', 'touches', 'ceiling'], ['ball', 'crosses', 'outer', 'goal', 'line', 'throw', 'awarded', 'defending', 'field', 'players', 'touched', 'ball', 'last'], ['execution', 'requires', 'thrower', 'place', 'one', 'foot', 'nearest', 'outer', 'line', 'cause'], ['defending', 'players', 'must', 'keep', 'distance', 'three', 'metres', 'ft'], ['however', 'allowed', 'stand', 'immediately', 'outside', 'goal', 'area', 'even', 'distance', 'less', 'three', 'meters', 'goalkeeper', 'throw', 'ball', 'crosses', 'outer', 'goal', 'line', 'without', 'interference', 'defending', 'team', 'deflected', 'defending', 'team', 'goalkeeper', 'attacking', 'team', 'violates', 'zone', 'described', 'goalkeeper', 'throw', 'awarded', 'defending', 'team'], ['common', 'turnover'], ['goalkeeper', 'resumes', 'play', 'throw', 'anywhere', 'within', 'goal', 'area', 'free', 'throw', 'free', 'throw', 'restarts', 'play', 'interruption', 'referees'], ['takes', 'places', 'spot', 'interruption', 'caused', 'long', 'spot', 'outside', 'free', 'throw', 'line', 'opposing', 'team'], ['latter', 'case', 'throw', 'deferred', 'nearest', 'spot', 'free', 'throw', 'line'], ['free', 'throws', 'equivalent', 'free', 'kicks', 'association', 'football', 'however', 'conceding', 'typically', 'seen', 'poor', 'sportsmanship', 'defending', 'side', 'carry', 'major', 'disadvantages'], ['particular', 'awarded', 'free', 'throw', 'warning', 'passive', 'play', 'reset', 'warning', 'whereas', 'shot', 'goal', 'thrower', 'may', 'take', 'direct', 'attempt', 'goal', 'however', 'rarely', 'feasible', 'defending', 'team', 'organised', 'defense'], ['however', 'free', 'throw', 'awarded', 'half', 'game', 'ends', 'direct', 'throw', 'goal', 'typically', 'attempted', 'occasionally', 'goes'], ['seven', 'meter', 'throw', 'seven', 'meter', 'throw', 'awarded', 'clear', 'chance', 'scoring', 'illegally', 'prevented', 'anywhere', 'court', 'opposing', 'team', 'player', 'official', 'spectator'], ['awarded', 'also', 'referees', 'interrupted', 'legitimate', 'scoring', 'chance', 'reason'], ['thrower', 'steps', 'one', 'foot', 'behind', 'seven', 'metre', 'ft', 'line', 'defending', 'goalkeeper', 'goal'], ['goalkeeper', 'must', 'keep', 'distance', 'three', 'metres', 'ft', 'marked', 'short', 'tick', 'floor'], ['players', 'must', 'remain', 'behind', 'free', 'throw', 'line', 'execution', 'defending', 'field', 'players', 'must', 'keep', 'distance', 'three', 'meters'], ['thrower', 'must', 'await', 'whistle', 'blow', 'referee'], ['seven', 'meter', 'throw', 'equivalent', 'penalty', 'kick', 'association', 'football', 'however', 'far', 'common', 'typically', 'occurs', 'several', 'times', 'single', 'game'], ['penalties', 'penalties', 'given', 'players', 'progressive', 'format', 'fouls', 'require', 'punishment', 'free', 'throw'], ['actions', 'directed', 'mainly', 'opponent', 'ball', 'reaching', 'around', 'holding', 'pushing', 'tripping', 'jumping', 'opponent', 'well', 'contact', 'side', 'behind', 'player', 'impeding', 'opponent', 'counterattack', 'considered', 'illegal', 'subject', 'penalty'], ['infraction', 'prevents', 'clear', 'scoring', 'opportunity', 'result', 'seven', 'meter', 'penalty', 'shot'], ['typically', 'referee', 'give', 'warning', 'yellow', 'card', 'illegal', 'action', 'contact', 'particularly', 'dangerous', 'like', 'striking', 'opponent', 'head', 'neck', 'throat', 'referee', 'forego', 'warning', 'immediate', 'two', 'minute', 'suspension'], ['players', 'warned', 'given', 'yellow', 'card', 'risk', 'red', 'carded', 'draw', 'three', 'yellows'], ['red', 'card', 'results', 'ejection', 'game', 'two', 'minute', 'penalty', 'team'], ['player', 'may', 'receive', 'red', 'card', 'directly', 'particularly', 'rough', 'penalties'], ['instance', 'contact', 'behind', 'fast', 'break', 'treated', 'red', 'card', 'deliberate', 'intent', 'injure', 'opponents'], ['red', 'carded', 'player', 'leave', 'playing', 'area', 'completely'], ['player', 'disqualified', 'may', 'substituted', 'another', 'player', 'two', 'minute', 'penalty', 'served'], ['coach', 'official', 'also', 'penalized', 'progressively'], ['coach', 'official', 'receives', 'two', 'minute', 'suspension', 'pull', 'one', 'players', 'two', 'minutes', 'however', 'player', 'one', 'punished', 'substituted', 'penalty', 'consists', 'team', 'playing', 'one', 'fewer', 'player', 'opposing', 'team'], ['referees', 'award', 'ball', 'opponents', 'whatever', 'reason', 'player', 'currently', 'possession', 'ball', 'lay', 'quickly', 'risk', 'two', 'minute', 'suspension'], ['also', 'gesticulating', 'verbally', 'questioning', 'referee', 'order', 'well', 'arguing', 'officials', 'decisions', 'normally', 'risk', 'yellow', 'card'], ['suspended', 'player', 'protests', 'walk', 'straight', 'field', 'bench', 'referee', 'deems', 'tempo', 'deliberately', 'slow', 'player', 'risks', 'double', 'yellow', 'card'], ['illegal', 'substitution', 'outside', 'dedicated', 'area', 'replacement', 'player', 'enters', 'early', 'prohibited', 'risk', 'yellow', 'card'], ['gameplay', 'formations', 'players', 'typically', 'referred', 'positions', 'playing'], ['positions', 'always', 'denoted', 'view', 'respective', 'goalkeeper', 'defender', 'right', 'opposes', 'attacker', 'left'], ['however', 'following', 'positions', 'may', 'occupied', 'depending', 'formation', 'potential', 'suspensions'], ['offense', 'left', 'right', 'wingman', 'typically', 'fast', 'players', 'excel', 'ball', 'control', 'wide', 'jumps', 'outside', 'goal', 'perimeter', 'order', 'get', 'better', 'shooting', 'angle', 'goal'], ['teams', 'usually', 'try', 'occupy', 'left', 'position', 'right', 'handed', 'player', 'vice', 'versa'], ['left', 'right', 'backcourt'], ['goal', 'attempts', 'players', 'typically', 'made', 'jumping', 'high', 'shooting', 'defenders'], ['thus', 'usually', 'advantageous', 'tall', 'players', 'powerful', 'shot', 'positions'], ['centre', 'backcourt'], ['player', 'experience', 'preferred', 'position', 'acts', 'playmaker', 'handball', 'equivalent', 'basketball', 'point', 'guard'], ['pivot', 'left', 'right', 'applicable'], ['player', 'tends', 'intermingle', 'defence', 'setting', 'picks', 'attempting', 'disrupt', 'defence', 'formation'], ['position', 'requires', 'least', 'jumping', 'skills', 'ball', 'control', 'physical', 'strength', 'advantage', 'sometimes', 'offense', 'uses', 'formations', 'two', 'pivot', 'players'], ['defense', 'many', 'variations', 'defensive', 'formations'], ['usually', 'described', 'formations', 'number', 'players', 'defending', 'goal', 'line', 'number', 'players', 'defending', 'offensive'], ['exceptions', 'defense', 'formation', 'players', 'defend', 'offensive', 'player', 'man', 'coverage', 'instead', 'usual', 'zone', 'coverage'], ['far', 'left', 'far', 'right'], ['opponents', 'wingmen'], ['half', 'left', 'half', 'right'], ['opponents', 'left', 'right', 'backcourts'], ['back', 'center', 'left', 'right'], ['opponent', 'pivot'], ['front', 'center'], ['opponent', 'center', 'backcourt', 'may', 'also', 'set', 'another', 'specific', 'backcourt', 'player'], ['offensive', 'play', 'attacks', 'played', 'field', 'players', 'side', 'defenders'], ['depending', 'speed', 'attack', 'one', 'distinguishes', 'three', 'attack', 'waves', 'decreasing', 'chance', 'success', 'first', 'wave', 'first', 'wave', 'attacks', 'characterised', 'absence', 'defending', 'players', 'around', 'goal', 'perimeter'], ['chance', 'success', 'high', 'throwing', 'player', 'unhindered', 'scoring', 'attempt'], ['attacks', 'typically', 'occur', 'intercepted', 'pass', 'steal', 'defending', 'team', 'switch', 'fast', 'offence'], ['far', 'left', 'far', 'right', 'usually', 'try', 'run', 'attack', 'tightly', 'bound', 'defence'], ['turnover', 'immediately', 'sprint', 'forward', 'receive', 'ball', 'halfway', 'goal'], ['thus', 'positions', 'commonly', 'held', 'quick', 'players'], ['second', 'wave', 'first', 'wave', 'successful', 'defending', 'players', 'gained', 'positions', 'around', 'zone', 'second', 'wave', 'comes', 'play', 'remaining', 'players', 'advance', 'quick', 'passes', 'locally', 'outnumber', 'retreating', 'defenders'], ['one', 'player', 'manages', 'step', 'perimeter', 'catches', 'ball', 'spot', 'becomes', 'unstoppable', 'legal', 'defensive', 'means'], ['position', 'chance', 'success', 'naturally', 'high'], ['second', 'wave', 'attacks', 'became', 'much', 'important', 'fast', 'throw', 'rule', 'third', 'wave', 'time', 'second', 'wave', 'may', 'successful', 'short', 'defenders', 'closed', 'gaps', 'around', 'zone'], ['third', 'wave', 'attackers', 'use', 'standardised', 'attack', 'patterns', 'usually', 'involving', 'crossing', 'passing', 'back', 'court', 'players', 'either', 'try', 'pass', 'ball', 'gap', 'pivot', 'take', 'jumping', 'shot', 'backcourt', 'goal', 'lure', 'defence', 'away', 'wingman', 'third', 'wave', 'evolves', 'normal', 'offensive', 'play', 'defenders', 'reach', 'zone', 'gain', 'accustomed', 'positions'], ['teams', 'substitute', 'specialised', 'offence', 'players'], ['however', 'implies', 'players', 'must', 'play', 'defence', 'opposing', 'team', 'able', 'switch', 'quickly', 'offence'], ['latter', 'another', 'benefit', 'fast', 'playing', 'teams'], ['attacking', 'team', 'make', 'sufficient', 'progress', 'eventually', 'releasing', 'shot', 'goal', 'referees', 'call', 'passive', 'play', 'since', 'referee', 'gives', 'passive', 'warning', 'time', 'actual', 'call', 'holding', 'one', 'hand', 'air', 'signalling', 'attacking', 'team', 'release', 'shot', 'soon', 'turning', 'control', 'team'], ['shot', 'goal', 'infringement', 'leading', 'yellow', 'card', 'two', 'minute', 'penalty', 'mark', 'start', 'new', 'attack', 'causing', 'hand', 'taken', 'shot', 'blocked', 'defense', 'normal', 'free', 'throw'], ['rule', 'would', 'easy', 'attacking', 'team', 'stall', 'game', 'indefinitely', 'difficult', 'intercept', 'pass', 'without', 'time', 'conceding', 'dangerous', 'openings', 'towards', 'goal'], ['defensive', 'play', 'usual', 'formations', 'defense', 'defense', 'players', 'line', 'metre', 'ft', 'metre', 'ft', 'lines', 'form', 'wall', 'one', 'players', 'cruises', 'outside', 'metre', 'ft', 'perimeter', 'usually', 'targeting', 'center', 'forwards', 'line', 'metre', 'ft', 'line', 'less', 'common', 'two', 'defenders', 'front'], ['fast', 'teams', 'also', 'try', 'formation', 'close', 'switching', 'man', 'man', 'style'], ['formations', 'vary', 'greatly', 'country', 'country', 'reflect', 'country', 'style', 'play'], ['sometimes', 'known', 'flat', 'defense', 'formations', 'usually', 'called', 'offensive', 'defense'], ['organization', 'handball', 'teams', 'usually', 'organised', 'clubs'], ['national', 'level', 'clubs', 'associated', 'federations', 'organize', 'matches', 'leagues', 'tournaments'], ['international', 'body', 'international', 'handball', 'federation', 'ihf', 'administrative', 'controlling', 'body', 'international', 'handball'], ['handball', 'olympic', 'sport', 'played', 'summer', 'olympics', 'ihf', 'organizes', 'world', 'championships', 'held', 'odd', 'numbered', 'years', 'separate', 'competitions', 'men', 'women'], ['ihf', 'world', 'men', 'handball', 'championship', 'title', 'holders', 'denmark'], ['ihf', 'world', 'women', 'handball', 'championship', 'title', 'holders', 'netherlands', 'ihf', 'composed', 'five', 'continental', 'federations', 'asian', 'handball', 'federation', 'african', 'handball', 'confederation', 'pan', 'american', 'team', 'handball', 'federation', 'european', 'handball', 'federation', 'oceania', 'handball', 'federation'], ['federations', 'organize', 'continental', 'championships', 'held', 'every', 'second', 'year'], ['handball', 'played', 'pan', 'american', 'games', 'africa', 'games', 'asian', 'games'], ['also', 'played', 'mediterranean', 'games'], ['addition', 'continental', 'competitions', 'national', 'teams', 'federations', 'arrange', 'international', 'tournaments', 'club', 'teams'], ['international', 'competitions', 'pan', 'american', 'championship', 'men', 'women', 'ca', 'handball', 'championship', 'national', 'competitions', 'europe', 'austria', 'handball', 'liga', 'austria', 'bundesliga', 'nner', 'men', 'women', 'handball', 'austria', 'bundesliga', 'frauen', 'women', 'sterreichischer', 'cup', 'men', 'women', 'https', 'web', 'archive', 'org', 'web', 'http', 'oehb', 'sportlive', 'belgium', 'bene', 'league', 'handball', 'shared', 'competition', 'netherlands', 'bosnia', 'herzegovina', 'handball', 'championship', 'bosnia', 'herzegovina', 'croatia', 'croatian', 'first', 'league', 'handball', 'czech', 'republic', 'zubr', 'extraliga', 'denmark', 'dameh', 'ndboldligaen', 'jack', 'jones', 'ligaen', 'england', 'england', 'handball', 'association', 'france', 'ligue', 'nationale', 'de', 'handball', 'germany', 'handball', 'bundesliga', 'greece', 'greek', 'men', 'handball', 'championship', 'hungary', 'nemzeti', 'bajnoks', 'men', 'nemzeti', 'bajnoks', 'women', 'iceland', 'ol', 'deildin', 'israel', 'ligat', 'winner', 'macedonia', 'macedonian', 'handball', 'super', 'league', 'montenegro', 'first', 'league', 'men', 'first', 'league', 'women', 'second', 'league', 'men', 'second', 'league', 'women', 'netherlands', 'bene', 'league', 'handball', 'shared', 'competition', 'belgium', 'eredivisie', 'women', 'norway', 'eliteserien', 'men', 'handball', 'eliteserien', 'women', 'handball', 'poland', 'polish', 'superliga', 'men', 'handball', 'ekstraklasa', 'women', 'handball', 'portugal', 'andebol', 'men', 'divis', 'feminino', 'women', 'romania', 'liga', 'na', 'ional', 'men', 'liga', 'na', 'ional', 'women', 'russia', 'men', 'championship', 'women', 'championship', 'women', 'handball', 'cup', 'men', 'handball', 'cup', 'women', 'handball', 'super', 'cup', 'men', 'handball', 'super', 'cup', 'scotland', 'scottish', 'handball', 'league', 'serbia', 'serbian', 'first', 'league', 'handball', 'slovakia', 'slovensk', 'hadzan', 'rska', 'extraliga', 'slovenia', 'slovenian', 'first', 'league', 'handball', 'handball', 'cup', 'slovenia', 'spain', 'liga', 'asobal', 'divisi', 'de', 'plata', 'de', 'balonmano', 'sweden', 'handbollsligan', 'men', 'svensk', 'handbollselit', 'women', 'angola', 'angola', 'men', 'handball', 'league', 'men', 'angola', 'women', 'handball', 'league', 'women', 'australia', 'australian', 'handball', 'club', 'championship', 'handball', 'league', 'australia', 'australian', 'national', 'handball', 'championship', 'states', 'tahiti', 'french', 'polynesia', 'tahitian', 'handball', 'league', 'turkey', 'turkish', 'handball', 'super', 'league', 'united', 'states', 'usa', 'team', 'handball', 'nationals', 'usa', 'team', 'handball', 'college', 'nationals', 'japan', 'japan', 'handball', 'league', 'argentina', 'confederaci', 'argentina', 'de', 'handball', 'egypt', 'egyptian', 'handball', 'league', 'attendance', 'records', 'current', 'worldwide', 'attendance', 'record', 'seven', 'side', 'handball', 'set', 'september', 'neutral', 'venue', 'german', 'league', 'game', 'hsv', 'hamburg', 'mannheim', 'based', 'rhein', 'neckar', 'lions'], ['matchup', 'drew', 'spectators', 'commerzbank', 'arena', 'frankfurt', 'exceeding', 'previous', 'record', 'set', 'copenhagen', 'parken', 'stadium', 'danish', 'cup', 'final'], ['commemorative', 'coins', 'handball', 'events', 'selected', 'main', 'motif', 'numerous', 'collectors', 'coins'], ['one', 'recent', 'samples', 'greek', 'handball', 'commemorative', 'coin', 'minted', 'commemorate', 'summer', 'olympics'], ['coin', 'modern', 'athlete', 'directs', 'ball', 'hands', 'towards', 'target', 'background', 'ancient', 'athlete', 'throw', 'ball', 'game', 'known', 'cheirosphaira', 'representation', 'taken', 'black', 'figure', 'pottery', 'vase', 'archaic', 'period', 'recent', 'commemorative', 'coin', 'featuring', 'handball', 'british', 'pence', 'coin', 'part', 'series', 'coins', 'commemorating', 'london', 'olympic', 'games'], ['see', 'also', 'references', 'notes', 'editors', 'encyclop', 'dia', 'britannica', 'ed'], ['may'], ['team', 'handball'], ['encyclop', 'dia', 'britannica'], ['encyclop', 'dia', 'britannica', 'inc'], ['external', 'links', 'media', 'related', 'handball', 'wikimedia', 'commons', 'international', 'handball', 'federation', 'ihf', 'team', 'handball', 'news', 'handball', 'news', 'commentary', 'basic', 'rules'], ['following', 'lists', 'occupations', 'grouped', 'category'], ['healthcare', 'medicine', 'list', 'healthcare', 'occupations', 'list', 'mental', 'health', 'occupations', 'list', 'nursing', 'specialties', 'arts', 'entertainment', 'list', 'artistic', 'occupations', 'list', 'dance', 'occupations', 'list', 'entertainer', 'occupations', 'list', 'film', 'television', 'occupations', 'list', 'theatre', 'personnel', 'list', 'writing', 'occupations', 'business', 'list', 'corporate', 'titles', 'industrial', 'manufacturing', 'list', 'industrial', 'occupations', 'list', 'metalworking', 'occupations', 'list', 'railway', 'industry', 'occupations', 'list', 'sewing', 'occupations', 'law', 'enforcement', 'armed', 'forces', 'science', 'technology', 'list', 'computer', 'occupations', 'list', 'scientific', 'occupations', 'list', 'engineering', 'branches', 'service', 'list', 'professional', 'driver', 'types'], ['bild', 'bild', 'zeitung', 'literally', 'picture', 'lt', 'german', 'tabloid', 'newspaper', 'published', 'axel', 'springer', 'se'], ['paper', 'published', 'monday', 'saturday', 'sundays', 'sister', 'paper', 'bild', 'sonntag', 'bild', 'sunday', 'published', 'instead', 'different', 'style', 'editors'], ['bild', 'tabloid', 'style', 'broadsheet', 'size'], ['best', 'selling', 'european', 'newspaper', 'sixteenth', 'largest', 'circulation', 'worldwide'], ['bild', 'described', 'notorious', 'mix', 'gossip', 'inflammatory', 'language', 'sensationalism', 'huge', 'influence', 'german', 'politicians'], ['nearest', 'english', 'language', 'stylistic', 'journalistic', 'equivalent', 'often', 'considered', 'british', 'national', 'newspaper', 'sun', 'second', 'highest', 'selling', 'european', 'tabloid', 'newspaper', 'shares', 'degree', 'rivalry'], ['history', 'bild', 'founded', 'axel', 'springer'], ['mostly', 'consisted', 'pictures', 'hence', 'name', 'bild', 'german', 'picture'], ['bild', 'soon', 'became', 'best', 'selling', 'tabloid', 'wide', 'margin', 'germany', 'europe', 'though', 'essentially', 'german', 'readers'], ['history', 'bild', 'based', 'hamburg'], ['paper', 'moved', 'headquarters', 'berlin', 'march', 'stating', 'essential', 'base', 'operations', 'national', 'newspaper'], ['printed', 'nationwide', 'localized', 'editions'], ['special', 'editions', 'printed', 'favoured', 'german', 'holiday', 'destinations', 'abroad', 'spain', 'italy', 'turkey', 'greece'], ['bild', 'sold', 'five', 'million', 'copies', 'every', 'day'], ['paper', 'circulation', 'slightly', 'four', 'million', 'copies', 'making', 'read', 'newspaper', 'country'], ['period', 'circulation', 'copies'], ['bild', 'read', 'newspaper', 'europe', 'also', 'germany', 'circulation', 'copies', 'although', 'still', 'germany', 'biggest', 'paper', 'circulation', 'bild', 'along', 'many', 'papers', 'decline', 'recent', 'years'], ['end', 'figure', 'dropped', 'million', 'copies'], ['circulation', 'making', 'paper', 'fifth', 'list', 'world', 'biggest', 'selling', 'newspapers', 'bild', 'published', 'tabloid', 'format'], ['paper', 'beginnings', 'springer', 'influenced', 'model', 'british', 'tabloid', 'daily', 'mirror', 'although', 'bild', 'paper', 'size', 'larger', 'reflected', 'mix', 'celebrity', 'gossip', 'crime', 'stories', 'political', 'analysis'], ['however', 'articles', 'often', 'considerably', 'shorter', 'compared', 'british', 'tabloids', 'whole', 'paper', 'thinner', 'well'], ['june', 'bild', 'celebrated', 'th', 'anniversary', 'giving', 'away', 'free', 'newspapers', 'almost', 'germany', 'million', 'households'], ['bild', 'said', 'guinness', 'world', 'records', 'germany', 'certified', 'print', 'run', 'largest', 'circulation', 'free', 'special', 'edition', 'newspaper'], ['average', 'million', 'copies', 'paper', 'printed', 'across', 'germany', 'readers', 'took', 'advantage', 'paid', 'digital', 'offer', 'bild', 'plus'], ['terms', 'subscribers', 'largest', 'europe', 'fifth', 'largest', 'worldwide'], ['bild', 'started', 'weekly', 'politic', 'newspaper', 'named', 'bild', 'politik', 'ceased', 'publications', 'months'], ['editorial', 'leanings', 'outset', 'editorial', 'drift', 'conservative', 'nationalist'], ['gdr', 'referred', 'soviet', 'occupation', 'zone', 'german', 'sowjetische', 'besatzungszone', 'sbz'], ['usage', 'continued', 'well', 'bild', 'began', 'use', 'gdr', 'official', 'name', 'cautiously', 'putting', 'quotation', 'marks'], ['bild', 'along', 'fellow', 'springer', 'tabloid', 'heavily', 'influenced', 'public', 'opinion', 'german', 'student', 'movement', 'left', 'wing', 'terrorism', 'years', 'following', 'blamed', 'climate', 'contributed', 'assassination', 'attempt', 'activist', 'rudi', 'dutschke', 'popular', 'catchphrase', 'left', 'wing', 'circles', 'sympathetic', 'student', 'radicalism', 'bild', 'hat', 'mitgeschossen', 'bild', 'shot', 'fall', 'berlin', 'wall', 'end', 'cold', 'war', 'europe', 'bild', 'editorial', 'stance', 'seems', 'become', 'centrist'], ['despite', 'general', 'support', 'germany', 'conservative', 'parties', 'especially', 'former', 'chancellor', 'helmut', 'kohl', 'rhetoric', 'still', 'populist', 'tone', 'less', 'fierce', 'thirty', 'years', 'ago'], ['traditionally', 'less', 'conservative', 'sunday', 'paper', 'bild', 'sonntag', 'even', 'supported', 'gerhard', 'schr', 'der', 'social', 'democrat', 'bid', 'chancellor'], ['bild', 'started', 'cooperate', 'fast', 'food', 'giant', 'mcdonald', 'sell', 'tabloid', 'fast', 'food', 'restaurants', 'germany'], ['cooperation', 'still', 'goes', 'often', 'enough', 'advertising', 'restaurant', 'chain', 'news', 'articles'], ['young', 'women', 'skimpy', 'clothes', 'appeared', 'bild', 'page', 'one', 'fold', 'seite', 'eins', 'dchen', 'page', 'one', 'girls'], ['march', 'bild', 'announced', 'elimination', 'page', 'one', 'girls', 'instead', 'moving', 'fleshy', 'photos', 'inside', 'pages'], ['motto', 'motto', 'prominently', 'displayed', 'logo', 'unabh', 'ngig', 'berparteilich', 'independent', 'nonpartisan'], ['another', 'slogan', 'used', 'prominently', 'advertising', 'bild', 'dir', 'deine', 'meinung', 'translates', 'form', 'opinion', 'reading', 'bild', 'pun', 'based', 'fact', 'german', 'bild', 'homophone', 'imperative', 'form', 'verb', 'bilden', 'english', 'form', 'build', 'educate', 'noun', 'bild', 'english', 'picture', 'image'], ['print', 'locations', 'bild', 'printed', 'ahrensburg', 'hanover', 'berlin', 'leipzig', 'essen', 'neu', 'isenburg', 'esslingen', 'munich', 'syke'], ['foreign', 'locations', 'exist', 'spain', 'madrid', 'palma', 'de', 'mallorca', 'las', 'palmas'], ['italy', 'milan', 'greece', 'athens', 'antalya', 'turkey'], ['foreign', 'locations', 'cater', 'mostly', 'german', 'tourists', 'expatriates'], ['editors', 'chief', 'rolf', 'von', 'bargen', 'rudolf', 'michael', 'oskar', 'bezold', 'karl', 'heinz', 'hagen', 'peter', 'boenisch', 'nter', 'prinz', 'horst', 'fust', 'werner', 'rudi', 'peter', 'bartels', 'hans', 'hermann', 'tiedje', 'claus', 'larass', 'udo', 'bel', 'kai', 'diekmann', 'tanit', 'koch', 'present', 'julian', 'reichelt', 'controversy', 'der', 'spiegel', 'wrote', 'bild', 'flies', 'nonsense', 'threshold', 'american', 'british', 'tabloids'], ['german', 'desperate', 'daily', 'dose', 'high', 'resolution', 'soft', 'porn'], ['according', 'guardian', 'years', 'bild', 'topless', 'women', 'featuring', 'first', 'page', 'paper', 'published', 'topless', 'pictures', 'argued', 'bild', 'thirst', 'sensationalism', 'results', 'terrorizing', 'prominent', 'celebrities', 'stories', 'frequently', 'based', 'dubious', 'evidence'], ['journalistic', 'standards', 'bild', 'subject', 'frequent', 'criticism'], ['bildblog', 'popular', 'german', 'blog', 'founded', 'dedicated', 'solely', 'documenting', 'errors', 'fabrications', 'bild', 'articles'], ['bildblog', 'received', 'grimme', 'online', 'award', 'work'], ['since', 'bildblog', 'also', 'reported', 'errors', 'fabrications', 'newspapers', 'germany', 'elsewhere'], ['heinrich', 'novel', 'lost', 'honor', 'katharina', 'blum', 'movie', 'based', 'used', 'fictional', 'stand', 'bild', 'make', 'point', 'allegedly', 'unethical', 'journalistic', 'practices'], ['essay', 'edition', 'january', 'der', 'spiegel', 'titled', 'ulrike', 'gnade', 'oder', 'freies', 'geleit', 'sharply', 'critical', 'bild', 'sensationalist', 'coverage', 'baader', 'meinhof', 'gang'], ['essay', 'stated', 'bild', 'cryptofascist', 'anymore', 'fascistoid', 'naked', 'fascism'], ['agitation', 'lies', 'dirt', 'investigative', 'journalist', 'nter', 'wallraff', 'worked', 'four', 'months', 'editor', 'bild', 'tabloid', 'hanover', 'giving', 'pseudonym', 'hans', 'esser'], ['books', 'der', 'aufmacher', 'lead', 'story', 'zeugen', 'der', 'anklage', 'witnesses', 'prosecution', 'portrays', 'experiences', 'editorial', 'staff', 'paper', 'journalism', 'encountered'], ['staff', 'commonly', 'displayed', 'contempt', 'humanity', 'lack', 'respect', 'privacy', 'ordinary', 'people', 'widespread', 'conduct', 'unethical', 'research', 'editing', 'techniques'], ['wallraff', 'investigations', 'also', 'basis', 'film', 'man', 'inside'], ['bild', 'publicly', 'reprimanded', 'twelve', 'times', 'deutscher', 'presserat', 'german', 'press', 'council'], ['amounts', 'third', 'reprimands', 'self', 'regulation', 'council', 'german', 'press', 'declared', 'year'], ['receives', 'reprimands', 'watchdog', 'body', 'newspaper'], ['song', 'lasse', 'redn', 'topped'], ['german', 'charts', 'punk', 'rock', 'band', 'die', 'rzte', 'summarized', 'bild', 'content', 'fear', 'hate', 'tits', 'weather', 'report', 'aus', 'angst', 'hass', 'titten', 'und', 'dem', 'wetterbericht'], ['spiegel', 'magazine', 'often', 'accuses', 'bild', 'pushing', 'germany', 'right', 'questions', 'bild', 'moral', 'standards', 'journalistic', 'quality'], ['judith', 'holofernes', 'lead', 'singer', 'german', 'band', 'wir', 'sind', 'helden', 'wrote', 'scathing', 'open', 'letter', 'bild', 'advertising', 'agency', 'asked', 'star', 'latest', 'campaign'], ['bild', 'harmless', 'guilty', 'pleasure', 'wrote', 'dangerous', 'political', 'instrument', 'high', 'magnification', 'telescope', 'abyss', 'evil', 'creature'], ['sophia', 'becker', 'kristina', 'lunz', 'launched', 'campaign', 'stop', 'bild', 'sexism', 'end', 'use', 'sexualized', 'images', 'women', 'bild'], ['campaign', 'inspired', 'page', 'campaign', 'get', 'sun', 'uk', 'stop', 'publishing', 'images', 'half', 'naked', 'women', 'page'], ['lunz', 'argues', 'bild', 'frequent', 'use', 'images', 'unclothed', 'women', 'makes', 'reporting', 'sexual', 'assault', 'harassment', 'sexist', 'voyeuristic', 'becker', 'says', 'bild', 'contributes', 'normalisation', 'sexism', 'german', 'society'], ['petition', 'signatures', 'january', 'springer', 'newspaper', 'publisher', 'responded', 'issuing', 'statement', 'values'], ['include', 'importance', 'mutual', 'respect', 'maintaining', 'respectful', 'interactions'], ['bild', 'stopped', 'publishing', 'topless', 'productions', 'women', 'march', 'three', 'years', 'sun', 'continuing', 'publish', 'photos', 'provocatively', 'posed', 'models', 'dressed', 'underwear', 'alone'], ['coronavirus', 'pandemic', 'bild', 'editor', 'julian', 'reichelt', 'accused', 'chinese', 'leader', 'xi', 'jinping', 'surveillance', 'human', 'rights', 'crimes', 'editorial', 'titled', 'china', 'owes', 'us', 'april'], ['chinese', 'embassy', 'germany', 'said', 'bild', 'editorial', 'reproached', 'nationalism', 'prejudice', 'hostility', 'china', 'reichelt', 'responded', 'embassy', 'tells', 'living', 'traditional', 'friendship', 'peoples', 'suppose', 'consider', 'great', 'friendship', 'generously', 'send', 'masks', 'around', 'world'], ['friendship', 'would', 'call', 'imperialism', 'hidden', 'behind', 'smile', 'trojan', 'horse'], ['plan', 'strengthen', 'china', 'plague', 'exported'], ['succeed', 'building', 'berlin', 'offices', 'storey', 'paternoster', 'lift', 'whose', 'continued', 'operation', 'vigorously', 'defended', 'editorially', 'newspaper'], ['see', 'also', 'list', 'german', 'newspapers', 'media', 'germany', 'references', 'external', 'links', 'official', 'website', 'german'], ['karl', 'ernst', 'haushofer', 'august', 'march', 'german', 'general', 'professor', 'geographer', 'politician'], ['student', 'rudolf', 'hess', 'haushofer', 'ideas', 'known', 'geopolitik', 'influenced', 'development', 'adolf', 'hitler', 'expansionist', 'strategies', 'although', 'haushofer', 'denied', 'direct', 'influence', 'nazi', 'germany'], ['nuremberg', 'laws', 'haushofer', 'wife', 'children', 'categorized', 'mischlinge'], ['son', 'albrecht', 'issued', 'german', 'blood', 'certificate', 'help', 'hess'], ['life', 'career', 'haushofer', 'belonged', 'family', 'artists', 'scholars'], ['born', 'munich', 'max', 'haushofer', 'well', 'known', 'professor', 'economics', 'politician', 'author', 'academic', 'literary', 'works', 'adele', 'haushofer', 'fraas'], ['graduation', 'munich', 'gymnasium', 'high', 'school', 'haushofer', 'entered', 'st', 'field', 'artillery', 'regiment', 'prinzregent', 'luitpold', 'bavarian', 'army', 'completed', 'kriegsschule', 'artillerieschule', 'war', 'academy', 'kingdom', 'bavaria'], ['married', 'martha', 'mayer', 'doss', 'whose', 'father', 'jewish'], ['two', 'sons', 'albrecht', 'haushofer', 'heinz', 'haushofer'], ['accepted', 'teaching', 'position', 'bavarian', 'war', 'academy'], ['november', 'haushofer', 'ordered', 'tokyo', 'military', 'attache', 'study', 'imperial', 'japanese', 'army', 'military', 'advisor', 'artillery', 'instructor'], ['travelled', 'wife', 'via', 'india', 'south', 'east', 'asia', 'arrived', 'february'], ['received', 'emperor', 'meiji', 'became', 'acquainted', 'many', 'important', 'people', 'politics', 'armed', 'forces'], ['autumn', 'travelled', 'wife', 'month', 'korea', 'manchuria', 'occasion', 'railway', 'construction'], ['june', 'returned', 'germany', 'via', 'russia', 'arrived', 'one', 'month', 'later'], ['however', 'shortly', 'returning', 'bavaria', 'began', 'suffer', 'severe', 'lung', 'disease', 'given', 'leave', 'army', 'three', 'years', 'convalescence', 'haushofer', 'would', 'work', 'doctorate', 'philosophy', 'munich', 'university', 'thesis', 'japan', 'titled', 'dai', 'nihon', 'betrachtungen', 'ber', 'gro', 'japans', 'wehrkraft', 'weltstellung', 'und', 'zukunft', 'reflections', 'greater', 'japan', 'military', 'strength', 'world', 'position', 'future'], ['established', 'one', 'germany', 'foremost', 'experts', 'regarding', 'far', 'east', 'co', 'founded', 'geopolitical', 'monthly', 'zeitschrift', 'geopolitik', 'zfg', 'would', 'co', 'edit', 'suspended', 'towards', 'end', 'world', 'war', 'ii'], ['haushofer', 'continued', 'career', 'professional', 'soldier', 'annexation', 'bavaria', 'germany', 'serving', 'army', 'imperial', 'germany', 'returning', 'teach', 'war', 'history', 'military', 'academy', 'munich'], ['world', 'war', 'served', 'commanding', 'officer', 'commanded', 'brigade', 'western', 'front'], ['retired', 'rank', 'major', 'general', 'however', 'became', 'disillusioned', 'germany', 'loss', 'severe', 'sanctioning'], ['around', 'time', 'forged', 'friendship', 'young', 'rudolf', 'hess', 'would', 'become', 'scientific', 'assistant', 'later', 'deputy', 'leader', 'national', 'socialist', 'german', 'workers', 'party'], ['familiarity', 'formed', 'basis', 'mistaken', 'assumption', 'equally', 'close', 'contact', 'haushofer', 'hitler'], ['haushofer', 'entered', 'academia', 'aim', 'restoring', 'regenerating', 'germany'], ['haushofer', 'believed', 'germans', 'lack', 'geographical', 'knowledge', 'geopolitical', 'awareness', 'major', 'cause', 'germany', 'defeat', 'world', 'war', 'germany', 'found', 'disadvantageous', 'alignment', 'allies', 'enemies'], ['fields', 'political', 'geographical', 'science', 'thus', 'became', 'areas', 'specialty'], ['haushofer', 'became', 'privatdozent', 'political', 'geography', 'ludwig', 'maximilian', 'university', 'munich', 'professor', 'although', 'declined', 'formal', 'position', 'salary', 'would', 'interfered', 'military', 'pension', 'haushofer', 'also', 'broadcast', 'monthly', 'radio', 'lectures', 'international', 'political', 'situation'], ['weltpolitischer', 'monatsbericht', 'made', 'household', 'name', 'contemporary', 'germany', 'came', 'known', 'circles', 'far', 'removed', 'academia'], ['founding', 'member', 'deutsche', 'akademie', 'served', 'president'], ['prolific', 'writer', 'publishing', 'hundreds', 'articles', 'reviews', 'commentaries', 'obituaries', 'books', 'many', 'asian', 'topics', 'arranged', 'many', 'leaders', 'nsdap', 'german', 'military', 'receive', 'copies', 'works', 'louis', 'pauwels', 'book', 'monsieur', 'gurdjieff', 'describes', 'haushofer', 'former', 'student', 'george', 'gurdjieff'], ['others', 'including', 'pauwels', 'said', 'haushofer', 'created', 'vril', 'society', 'secret', 'member', 'thule', 'society'], ['stefan', 'zweig', 'speaks', 'warmly', 'says', 'history', 'judge', 'far', 'knowingly', 'contributed', 'nazi', 'doctrine', 'documentation', 'becomes', 'available'], ['zweig', 'credits', 'concept', 'lebensraum', 'used', 'psychological', 'sense', 'nation', 'relative', 'energies'], ['establishment', 'nazis', 'haushofer', 'remained', 'friendly', 'hess', 'protected', 'haushofer', 'wife', 'racial', 'laws', 'nazis', 'deemed', 'half', 'jew'], ['prewar', 'years', 'haushofer', 'instrumental', 'linking', 'japan', 'axis', 'powers', 'acting', 'accordance', 'theories', 'book', 'geopolitics', 'pacific', 'ocean'], ['july', 'plot', 'assassinate', 'hitler', 'haushofer', 'son', 'albrecht', 'went', 'hiding', 'arrested', 'december', 'put', 'moabit', 'prison', 'berlin'], ['night', 'april', 'prisoners', 'klaus', 'bonhoeffer', 'walked', 'prison', 'ss', 'squad', 'shot'], ['beginning', 'september', 'karl', 'haushofer', 'informally', 'interrogated', 'father', 'edmund'], ['walsh', 'behalf', 'allied', 'forces', 'determine', 'whether', 'stand', 'trial', 'war', 'crimes', 'walsh', 'determined', 'committed'], ['night', 'march', 'karl', 'haushofer', 'wife', 'committed', 'suicide', 'secluded', 'hollow', 'hartschimmelhof', 'estate', 'hl', 'ammersee'], ['drank', 'arsenic', 'wife', 'hanged'], ['geopolitics', 'haushofer', 'developed', 'geopolitik', 'widely', 'varied', 'sources', 'including', 'writings', 'oswald', 'spengler', 'alexander', 'humboldt', 'karl', 'ritter', 'friedrich', 'ratzel', 'rudolf', 'kjell', 'halford'], ['mackinder', 'geopolitik', 'contributed', 'nazi', 'foreign', 'policy', 'chiefly', 'strategy', 'justifications', 'lebensraum'], ['theories', 'contributed', 'five', 'ideas', 'german', 'foreign', 'policy', 'interwar', 'period', 'organic', 'state', 'lebensraum', 'autarky', 'pan', 'regions', 'land', 'power', 'sea', 'power', 'dichotomy', 'geostrategy', 'political', 'science', 'descriptive', 'analytical', 'like', 'political', 'geography', 'adds', 'normative', 'element', 'strategic', 'prescriptions', 'national', 'policy'], ['haushofer', 'ideas', 'stem', 'earlier', 'american', 'british', 'geostrategy', 'german', 'geopolitik', 'adopted', 'essentialist', 'outlook', 'toward', 'national', 'interest', 'oversimplifying', 'issues', 'representing', 'panacea'], ['new', 'essentialist', 'ideology', 'geopolitik', 'found', 'position', 'prey', 'upon', 'post', 'world', 'war', 'insecurity', 'populace', 'haushofer', 'position', 'university', 'munich', 'served', 'platform', 'spread', 'geopolitical', 'ideas', 'magazine', 'articles', 'books'], ['founded', 'institute', 'geopolitics', 'munich', 'proceeded', 'publicize', 'geopolitical', 'ideas'], ['leader', 'german', 'geopolitik', 'school', 'thought', 'haushofer', 'would', 'establish', 'zeitschrift', 'geopolitik', 'monthly', 'devoted', 'geopolitik'], ['ideas', 'would', 'reach', 'wider', 'audience', 'publication', 'volk', 'ohne', 'raum', 'hans', 'grimm', 'popularizing', 'concept', 'lebensraum'], ['haushofer', 'exercised', 'influence', 'academic', 'teachings', 'urging', 'students', 'think', 'terms', 'continents', 'emphasizing', 'motion', 'international', 'politics', 'political', 'activities'], ['hitler', 'speeches', 'would', 'attract', 'masses', 'haushofer', 'works', 'served', 'bring', 'remaining', 'intellectuals', 'fold', 'geopolitik', 'essentially', 'consolidation', 'codification', 'older', 'ideas', 'given', 'scientific', 'gloss', 'lebensraum', 'revised', 'colonial', 'imperialism', 'autarky', 'new', 'expression', 'tariff', 'protectionism', 'strategic', 'control', 'key', 'geographic', 'territories', 'exhibiting', 'thought', 'behind', 'earlier', 'designs', 'suez', 'panama', 'canals', 'view', 'controlling', 'land', 'way', 'choke', 'points', 'control', 'sea', 'pan', 'regions', 'panideen', 'based', 'upon', 'british', 'empire', 'american', 'monroe', 'doctrine', 'pan', 'american', 'union', 'hemispheric', 'defense', 'whereby', 'world', 'divided', 'spheres', 'influence'], ['frontiers', 'view', 'barriers', 'peoples', 'political', 'borders', 'natural', 'placements', 'races', 'ethnicities', 'fluid', 'determined', 'needs', 'ethnic', 'racial', 'groups', 'key', 'reorientation', 'dyad', 'focus', 'land', 'based', 'empire', 'rather', 'naval', 'imperialism'], ['ostensibly', 'based', 'upon', 'geopolitical', 'theory', 'american', 'naval', 'expert', 'alfred', 'thayer', 'mahan', 'british', 'geographer', 'halford'], ['mackinder', 'german', 'geopolitik', 'adds', 'older', 'german', 'ideas'], ['enunciated', 'forcefully', 'friedrich', 'ratzel', 'swedish', 'student', 'rudolf', 'kjell', 'include', 'organic', 'anthropomorphized', 'conception', 'state', 'need', 'self', 'sufficiency', 'top', 'organization', 'society'], ['root', 'uniquely', 'german', 'geopolitik', 'rests', 'writings', 'karl', 'ritter', 'first', 'developed', 'organic', 'conception', 'state', 'would', 'later', 'elaborated', 'upon', 'ratzel', 'accepted', 'hausfhofer'], ['justified', 'lebensraum', 'even', 'cost', 'nations', 'existence', 'conquest', 'biological', 'necessity', 'state', 'growth', 'ratzel', 'writings', 'coincided', 'growth', 'german', 'industrialism', 'franco', 'prussian', 'war', 'subsequent', 'search', 'markets', 'brought', 'competition', 'britain'], ['writings', 'served', 'welcome', 'justification', 'imperial', 'expansion'], ['influenced', 'mahan', 'ratzel', 'wrote', 'aspirations', 'german', 'naval', 'reach', 'agreeing', 'sea', 'power', 'self', 'sustaining', 'profit', 'trade', 'would', 'pay', 'merchant', 'marine', 'unlike', 'land', 'power'], ['haushofer', 'exposed', 'ratzel', 'friends', 'haushofer', 'father', 'teacher', 'economic', 'geography', 'would', 'integrate', 'ratzel', 'ideas', 'division', 'sea', 'land', 'powers', 'theories', 'saying', 'country', 'could', 'overcome', 'conflict', 'haushofer', 'geopolitik', 'expands', 'upon', 'ratzel', 'kjell'], ['latter', 'two', 'conceive', 'geopolitik', 'state', 'organism', 'space', 'put', 'service', 'leader', 'haushofer', 'munich', 'school', 'specifically', 'studies', 'geography', 'relates', 'war', 'designs', 'empire'], ['behavioral', 'rules', 'previous', 'geopoliticians', 'thus', 'turned', 'dynamic', 'normative', 'doctrines', 'action', 'lebensraum', 'world', 'power', 'haushofer', 'defined', 'geopolitik', 'duty', 'safeguard', 'right', 'soil', 'land', 'widest', 'sense', 'land', 'within', 'frontiers', 'reich', 'right', 'extensive', 'volk', 'cultural', 'lands', 'culture', 'seen', 'conducive', 'element', 'dynamic', 'special', 'expansion'], ['provided', 'guide', 'best', 'areas', 'expansion', 'could', 'make', 'expansion', 'safe', 'whereas', 'projected', 'military', 'commercial', 'power', 'could'], ['haushofer', 'even', 'held', 'urbanization', 'symptom', 'nation', 'decline', 'evidencing', 'decreasing', 'soil', 'mastery', 'birthrate', 'effectiveness', 'centralized', 'rule', 'haushofer', 'existence', 'state', 'depended', 'living', 'space', 'pursuit', 'must', 'serve', 'basis', 'policies'], ['germany', 'high', 'population', 'density', 'old', 'colonial', 'powers', 'much', 'lower', 'density', 'virtual', 'mandate', 'german', 'expansion', 'resource', 'rich', 'areas'], ['space', 'seen', 'military', 'protection', 'initial', 'assaults', 'hostile', 'neighbors', 'long', 'range', 'weaponry'], ['buffer', 'zone', 'territories', 'insignificant', 'states', 'one', 'borders', 'would', 'serve', 'protect', 'germany'], ['closely', 'linked', 'need', 'haushofer', 'assertion', 'existence', 'small', 'states', 'evidence', 'political', 'regression', 'disorder', 'international', 'system'], ['small', 'states', 'surrounding', 'germany', 'ought', 'brought', 'vital', 'german', 'order'], ['states', 'seen', 'small', 'maintain', 'practical', 'autonomy', 'even', 'maintained', 'large', 'colonial', 'possessions', 'would', 'better', 'served', 'protection', 'organization', 'within', 'germany'], ['europe', 'saw', 'belgium', 'netherlands', 'portugal', 'denmark', 'switzerland', 'greece', 'mutilated', 'alliance', 'austro', 'hungary', 'supporting', 'assertion', 'haushofer', 'version', 'autarky', 'based', 'quasi', 'malthusian', 'idea', 'earth', 'would', 'become', 'saturated', 'people', 'longer', 'able', 'provide', 'food'], ['would', 'essentially', 'increases', 'productivity', 'haushofer', 'munich', 'school', 'geopolitik', 'would', 'eventually', 'expand', 'conception', 'lebensraum', 'autarky', 'well', 'past', 'borders', 'place', 'sun', 'new', 'european', 'order', 'new', 'afro', 'european', 'order', 'eventually', 'eurasian', 'order'], ['concept', 'became', 'known', 'pan', 'region', 'taken', 'american', 'monroe', 'doctrine', 'idea', 'national', 'continental', 'self', 'sufficiency'], ['forward', 'looking', 'refashioning', 'drive', 'colonies', 'something', 'geopoliticians', 'see', 'economic', 'necessity', 'matter', 'prestige', 'putting', 'pressure', 'older', 'colonial', 'powers'], ['fundamental', 'motivating', 'force', 'would', 'economic', 'cultural', 'spiritual'], ['haushofer', 'called', 'today', 'proponent', 'eurasianism', 'advocating', 'policy', 'german', 'russian', 'hegemony', 'alliance', 'offset', 'anglo', 'american', 'power', 'structure', 'potentially', 'dominating', 'influence', 'europe'], ['beyond', 'economic', 'concept', 'pan', 'regions', 'strategic', 'concept', 'well'], ['haushofer', 'acknowledges', 'strategic', 'concept', 'heartland', 'theory', 'put', 'forward', 'british', 'geopolitician', 'halford', 'mackinder'], ['germany', 'could', 'control', 'eastern', 'europe', 'subsequently', 'russian', 'territory', 'could', 'control', 'strategic', 'area', 'hostile', 'seapower', 'could', 'denied'], ['allying', 'italy', 'japan', 'would', 'augment', 'german', 'strategic', 'control', 'eurasia', 'states', 'becoming', 'naval', 'arms', 'protecting', 'germany', 'insular', 'position'], ['contacts', 'national', 'socialist', 'leadership', 'evidence', 'points', 'disconnect', 'advocates', 'geopolitik', 'hitler', 'although', 'practical', 'tactical', 'goals', 'nearly', 'indistinguishable', 'rudolf', 'hess', 'hitler', 'secretary', 'would', 'assist', 'writing', 'mein', 'kampf', 'close', 'student', 'haushofer'], ['hess', 'hitler', 'imprisoned', 'munich', 'beer', 'hall', 'putsch', 'haushofer', 'spent', 'six', 'hours', 'visiting', 'two', 'bringing', 'along', 'copy', 'friedrich', 'ratzel', 'political', 'geography', 'clausewitz', 'war'], ['world', 'war', 'ii', 'haushofer', 'would', 'deny', 'taught', 'hitler', 'claimed', 'national', 'socialist', 'party', 'perverted', 'hess', 'study', 'geopolitik'], ['hitler', 'biographers', 'disagree', 'somewhat', 'extent', 'haushofer', 'influence', 'hitler', 'ian', 'kershaw', 'writes', 'influence', 'probably', 'greater', 'munich', 'professor', 'later', 'prepared', 'acknowledge', 'joachim'], ['fest', 'says', 'hitler', 'version', 'haushofer', 'ideas', 'distinctly', 'haushofer', 'viewed', 'hitler', 'half', 'educated', 'man', 'never', 'correctly', 'understood', 'geopolitik', 'principles', 'explained', 'hess', 'saw', 'foreign', 'minister', 'joachim', 'von', 'ribbentrop', 'principal', 'distorter', 'geopolitik', 'hitler', 'mind', 'although', 'haushofer', 'accompanied', 'hess', 'numerous', 'propaganda', 'missions', 'participated', 'consultations', 'nazis', 'japanese', 'leaders', 'claimed', 'hitler', 'nazis', 'seized', 'upon', 'half', 'developed', 'ideas', 'catchwords'], ['furthermore', 'nazi', 'party', 'government', 'lacked', 'official', 'organ', 'receptive', 'geopolitik', 'leading', 'selective', 'adoption', 'poor', 'interpretation', 'haushofer', 'theories'], ['ultimately', 'hess', 'konstantin', 'von', 'neurath', 'nazi', 'minister', 'foreign', 'affairs', 'officials', 'haushofer', 'would', 'admit', 'proper', 'understanding', 'geopolitik', 'father', 'edmund'], ['walsh', 'professor', 'geopolitics', 'dean', 'georgetown', 'university', 'interviewed', 'haushofer', 'allied', 'victory', 'preparation', 'nuremberg', 'trials', 'disagreed', 'haushofer', 'assessment', 'geopolitik', 'terribly', 'distorted', 'hitler', 'nazis'], ['cites', 'hitler', 'speeches', 'declaring', 'small', 'states', 'right', 'exist', 'nazi', 'use', 'haushofer', 'maps', 'language', 'arguments'], ['even', 'distorted', 'somewhat', 'walsh', 'felt', 'enough', 'implicate', 'haushofer', 'geopolitik', 'haushofer', 'also', 'denied', 'assisting', 'hitler', 'writing', 'mein', 'kampf', 'saying', 'knew', 'print', 'never', 'read'], ['walsh', 'found', 'even', 'haushofer', 'directly', 'assist', 'hitler', 'discernible', 'new', 'elements', 'appeared', 'mein', 'kampf', 'compared', 'previous', 'speeches', 'made', 'hitler'], ['geopolitical', 'ideas', 'lebensraum', 'space', 'depth', 'defense', 'appeals', 'natural', 'frontiers', 'balancing', 'land', 'seapower', 'geographic', 'analysis', 'military', 'strategy', 'entered', 'hitler', 'thought', 'imprisonment', 'publishing', 'mein', 'kampf'], ['chapter', 'xiv', 'german', 'policy', 'eastern', 'europe', 'particular', 'displays', 'influence', 'materials', 'haushofer', 'brought', 'hitler', 'hess', 'imprisoned', 'haushofer', 'never', 'member', 'nazi', 'party', 'voice', 'disagreements', 'party', 'leading', 'brief', 'imprisonment'], ['haushofer', 'came', 'suspicion', 'contacts', 'left', 'wing', 'socialist', 'figures', 'within', 'nazi', 'movement', 'led', 'gregor', 'strasser', 'advocacy', 'essentially', 'german', 'russian', 'alliance'], ['nazi', 'left', 'wing', 'connections', 'communist', 'party', 'germany', 'leaders', 'especially', 'influenced', 'national', 'bolshevist', 'philosophy', 'german', 'russian', 'revolutionary', 'alliance', 'advocated', 'ernst', 'niekisch', 'julius', 'evola', 'ernst', 'nger', 'hielscher', 'figures', 'conservative', 'revolution', 'profess', 'loyalty', 'hrer', 'make', 'anti', 'semitic', 'remarks', 'occasion'], ['however', 'emphasis', 'always', 'space', 'race', 'believing', 'environmental', 'rather', 'racial', 'determinism'], ['refused', 'associate', 'anti', 'semitism', 'policy', 'especially', 'wife', 'half', 'jewish'], ['haushofer', 'admits', 'much', 'wrote', 'distorted', 'duress', 'wife', 'protected', 'hess', 'influence', 'managed', 'awarded', 'honorary', 'german', 'status', 'son', 'implicated', 'july', 'plot', 'assassinate', 'hitler', 'executed', 'gestapo', 'imprisoned', 'dachau', 'concentration', 'camp', 'eight', 'months', 'son', 'grandson', 'imprisoned', 'two', 'half', 'months', 'idea', 'contact', 'haushofer', 'nazi', 'establishment', 'stressed', 'several', 'authors'], ['authors', 'expanded', 'haushofer', 'contact', 'hitler', 'close', 'collaboration', 'hitler', 'writing', 'mein', 'kampf', 'made', 'one', 'future', 'chancellor', 'many', 'mentors'], ['haushofer', 'may', 'short', 'term', 'student', 'gurdjieff', 'studied', 'zen', 'buddhism', 'initiated', 'hands', 'tibetan', 'lamas', 'although', 'notions', 'debated'], ['influence', 'haushofer', 'nazi', 'ideology', 'dramatized', 'short', 'documentary', 'film', 'plan', 'destruction', 'nominated', 'academy', 'award'], ['works', 'english', 'translation', 'analysis', 'major', 'general', 'karl', 'ernst', 'haushofer', 'geopolitics', 'pacific', 'ocean', 'studies', 'relationship', 'geography', 'history', 'isbn', 'das', 'japanische', 'reich', 'seiner', 'geographischen', 'entwicklung', 'seidel', 'sohn', 'wien', 'geopolitik', 'des', 'pazifischen', 'ozeans'], ['bausteine', 'zur', 'geopolitik'], ['weltpolitik', 'von', 'heute'], ['zeitgeschichte', 'verlag', 'wilhelm', 'undermann', 'napoleon', 'beck', 'coleman', 'kitchener', 'beck', 'coleman', 'foch', 'beck', 'coleman', 'weltmeere', 'und', 'weltm', 'chte', 'berlin', 'zeitgeschichte', 'verlag', 'deutsche', 'kulturpolitik', 'im', 'indopazifischen', 'raum', 'hamburg', 'hoffmann'], ['campe', 'grenzen', 'ihrer', 'geographischen', 'und', 'politischen', 'bedeutung', 'heidelberg', 'berlin', 'magdeburg', 'vowinckel', 'wehr', 'geopolitik', 'geogr'], ['grundlagen'], ['wehrkunde', 'berlin', 'junker'], ['nnhaupt', 'japan', 'baut', 'sein', 'reich', 'berlin', 'zeitgeschichte', 'verlag', 'wilhelm', 'undermann', 'das', 'werden', 'des', 'deutschen', 'volkes', 'von'], ['vielfalt'], ['st', 'mme', 'zur', 'einheit'], ['nation', 'berlin', 'propyl', 'en', 'verl', 'der', 'kontinentalblock', 'mitteleuropa', 'eurasien', 'japan', 'berlin', 'eher', 'das', 'reich', 'gro', 'deutsches', 'werder', 'im', 'abendland', 'berlin', 'habel', 'geopolitische', 'grundlagen', 'verleger', 'berlin', 'wien', 'industrieverl'], ['spaeth', 'linde'], ['de', 'la', 'opolitique', 'paris', 'fayard'], ['see', 'also', 'geojurisprudence', 'intermediate', 'region', 'alfred', 'pringsheim', 'nazi', 'ideologues', 'philosophers', 'sociologists', 'references', 'notes', 'bibliography', 'dorpalen', 'andreas', 'world', 'general', 'haushofer', 'geopolitics', 'action', 'new', 'york', 'farrar', 'rinehart', 'isbn', 'jacobsen', 'hans', 'adolf'], ['karl', 'haushofer', 'leben', 'und', 'werk'], ['vols'], ['schriften', 'des', 'bundesarchivs', 'harald', 'boldt', 'verlag', 'boppard'], ['mattern', 'johannes', 'geopolitik', 'doctrine', 'national', 'self', 'sufficiency', 'empire', 'johns', 'hopkins', 'press', 'baltimore', 'ravenscroft', 'trevor'], ['spear', 'destiny', 'weiser', 'books', 'london', 'walsh', 'edmund'], ['total', 'power', 'footnote', 'history'], ['doubleday', 'company', 'inc', 'garden', 'city', 'new', 'york', 'reading', 'bassoni'], [], ['karl', 'haushofer', 'pioneer', 'national', 'socialist', 'cultural', 'diplomacy', 'fascist', 'italy', 'central', 'european', 'history'], ['coogan', 'kevin', 'dreamer', 'day', 'francis', 'parker', 'yockey', 'postwar', 'fascist', 'international', 'brooklyn', 'ny', 'autonomedia', 'isbn', 'heske', 'henning', 'karl', 'haushofer', 'role', 'german', 'politics', 'nazi', 'politics', 'political', 'geography', 'pp'], [], ['kaplan', 'robert'], ['revenge', 'geography', 'maps', 'tell', 'us', 'coming', 'conflicts', 'battle', 'fate', 'new', 'york', 'random', 'house'], ['isbn', 'murphy', 'david', 'thomas', 'heroic', 'earth', 'geopolitical', 'thought', 'weimar', 'germany', 'kent', 'oh', 'kent', 'state', 'university', 'press', 'rees', 'philip', 'ed', 'biographical', 'dictionary', 'extreme', 'right', 'since', 'isbn', 'spang', 'christian', 'karl', 'haushofer', 'examined', 'geopolitics', 'factor', 'within', 'japanese', 'german', 'rapprochement', 'inter', 'war', 'years'], [], ['spang'], ['wippich', 'eds', 'japanese', 'german', 'relations'], ['war', 'diplomacy', 'public', 'opinion'], ['routledge', 'london', 'new', 'york', 'pp'], [], ['spang', 'christian', 'karl', 'haushofer', 'und', 'japan'], ['die', 'rezeption', 'seiner', 'geopolitischen', 'theorien', 'der', 'deutschen', 'und', 'japanischen', 'politik', 'munich', 'iudicium'], ['isbn'], ['tuathail', 'gearoid', 'et', 'al'], [], ['geopolitics', 'reader'], ['new', 'york', 'routledge'], ['isbn'], ['external', 'links', 'deutsches', 'historisches', 'museum', 'biography', 'karl', 'haushofer', 'german', 'encyclop', 'dia', 'britannica', 'entry', 'columbia', 'encyclopedia', 'sixth', 'edition', 'entry', 'karl', 'haushofer', 'nazi', 'germany', 'wiederfield', 'nicolsa', 'haushofer', 'entry', 'wayback', 'machine', 'archived', 'may', 'geopolitics', 'united', 'states', 'eurasian', 'continental', 'bloc', 'china', 'bertil', 'haggman', 'last', 'days', 'world', 'war', 'ii', 'last', 'secrets', 'axis', 'online', 'documentary', 'history', 'channel', 'karl', 'haushofer', 'role', 'eurasia', 'alliance', 'japan', 'und', 'die', 'japaner', 'eine', 'landes', 'und', 'volkskunde', 'internet', 'archive', 'newspaper', 'clippings', 'karl', 'haushofer', 'th', 'century', 'press', 'archives', 'zbw']]\n"
     ]
    }
   ],
   "source": [
    "print(list_sentences_train)"
   ]
  },
  {
   "cell_type": "code",
   "execution_count": 106,
   "metadata": {},
   "outputs": [
    {
     "ename": "NameError",
     "evalue": "name 'split' is not defined",
     "output_type": "error",
     "traceback": [
      "\u001b[0;31m---------------------------------------------------------------------------\u001b[0m",
      "\u001b[0;31mNameError\u001b[0m                                 Traceback (most recent call last)",
      "\u001b[0;32m<ipython-input-106-74ce18994b96>\u001b[0m in \u001b[0;36m<module>\u001b[0;34m\u001b[0m\n\u001b[0;32m----> 1\u001b[0;31m \u001b[0mprint\u001b[0m\u001b[0;34m(\u001b[0m\u001b[0msplit\u001b[0m\u001b[0;34m(\u001b[0m\u001b[0mlist_sentences_train\u001b[0m\u001b[0;34m)\u001b[0m\u001b[0;34m)\u001b[0m\u001b[0;34m\u001b[0m\u001b[0;34m\u001b[0m\u001b[0m\n\u001b[0m",
      "\u001b[0;31mNameError\u001b[0m: name 'split' is not defined"
     ]
    }
   ],
   "source": []
  },
  {
   "cell_type": "markdown",
   "metadata": {},
   "source": [
    "### ML models"
   ]
  },
  {
   "cell_type": "code",
   "execution_count": 6,
   "metadata": {},
   "outputs": [],
   "source": [
    "def run_logreg(sets) :\n",
    "    x_train, y_train, x_val, y_val, x_test, y_test, text_train, text_val, text_test = sets\n",
    "    print('Build logistic regression model ...')\n",
    "    clf = LogisticRegression(random_state=0)\n",
    "    clf.fit(x_train, y_train)\n",
    "    y_pred = clf.predict(x_train)\n",
    "    acc = accuracy_score(y_train, y_pred)\n",
    "    y_pred = clf.predict(x_val)\n",
    "    val_acc = accuracy_score(y_val, y_pred)\n",
    "    \n",
    "    print('acc :', acc)\n",
    "    print('val acc :', val_acc)\n",
    "    print(classification_report(y_val, y_pred))\n",
    "    print(confusion_matrix(y_val, y_pred))\n",
    "    \n",
    "    return #clf.predict_proba(np.concatenate((x_train, x_val), axis=0))[:, 1], \\\n",
    "           #clf.predict_proba(x_test)[:, 1], \\\n",
    "           #np.concatenate((y_train, y_val), axis=0)"
   ]
  },
  {
   "cell_type": "markdown",
   "metadata": {},
   "source": [
    "#### With tfidf"
   ]
  },
  {
   "cell_type": "code",
   "execution_count": 7,
   "metadata": {},
   "outputs": [
    {
     "name": "stdout",
     "output_type": "stream",
     "text": [
      "Build logistic regression model ...\n",
      "acc : 0.9295279912184413\n",
      "val acc : 0.857703081232493\n",
      "              precision    recall  f1-score   support\n",
      "\n",
      "           0       0.94      0.90      0.92       400\n",
      "           1       0.88      0.92      0.90       400\n",
      "           2       0.88      0.79      0.83       185\n",
      "           3       0.82      0.86      0.84       400\n",
      "           4       0.79      0.79      0.79       400\n",
      "\n",
      "    accuracy                           0.86      1785\n",
      "   macro avg       0.86      0.85      0.85      1785\n",
      "weighted avg       0.86      0.86      0.86      1785\n",
      "\n",
      "[[359   4   0  19  18]\n",
      " [  3 369   1   9  18]\n",
      " [  1   2 146  20  16]\n",
      " [  7   4  12 343  34]\n",
      " [ 13  40   7  26 314]]\n"
     ]
    },
    {
     "name": "stderr",
     "output_type": "stream",
     "text": [
      "/Users/andrealequin/anaconda/envs/envtf/lib/python3.7/site-packages/sklearn/linear_model/_logistic.py:940: ConvergenceWarning: lbfgs failed to converge (status=1):\n",
      "STOP: TOTAL NO. of ITERATIONS REACHED LIMIT.\n",
      "\n",
      "Increase the number of iterations (max_iter) or scale the data as shown in:\n",
      "    https://scikit-learn.org/stable/modules/preprocessing.html\n",
      "Please also refer to the documentation for alternative solver options:\n",
      "    https://scikit-learn.org/stable/modules/linear_model.html#logistic-regression\n",
      "  extra_warning_msg=_LOGISTIC_SOLVER_CONVERGENCE_MSG)\n"
     ]
    }
   ],
   "source": [
    "run_logreg(sets)"
   ]
  },
  {
   "cell_type": "markdown",
   "metadata": {},
   "source": [
    "#### Simple count"
   ]
  },
  {
   "cell_type": "code",
   "execution_count": 75,
   "metadata": {},
   "outputs": [
    {
     "name": "stdout",
     "output_type": "stream",
     "text": [
      "Build logistic regression model ...\n",
      "acc : 0.9670691547749726\n",
      "val acc : 0.8140056022408964\n",
      "              precision    recall  f1-score   support\n",
      "\n",
      "           0       0.91      0.90      0.90       400\n",
      "           1       0.84      0.87      0.86       400\n",
      "           2       0.70      0.75      0.72       185\n",
      "           3       0.79      0.81      0.80       400\n",
      "           4       0.76      0.70      0.73       400\n",
      "\n",
      "    accuracy                           0.81      1785\n",
      "   macro avg       0.80      0.81      0.80      1785\n",
      "weighted avg       0.81      0.81      0.81      1785\n",
      "\n",
      "[[361   5   3  16  15]\n",
      " [  3 348   7  11  31]\n",
      " [  0   8 138  19  20]\n",
      " [ 15   8  32 324  21]\n",
      " [ 19  44  16  39 282]]\n"
     ]
    },
    {
     "name": "stderr",
     "output_type": "stream",
     "text": [
      "/Users/andrealequin/anaconda/envs/envtf/lib/python3.7/site-packages/sklearn/linear_model/_logistic.py:940: ConvergenceWarning: lbfgs failed to converge (status=1):\n",
      "STOP: TOTAL NO. of ITERATIONS REACHED LIMIT.\n",
      "\n",
      "Increase the number of iterations (max_iter) or scale the data as shown in:\n",
      "    https://scikit-learn.org/stable/modules/preprocessing.html\n",
      "Please also refer to the documentation for alternative solver options:\n",
      "    https://scikit-learn.org/stable/modules/linear_model.html#logistic-regression\n",
      "  extra_warning_msg=_LOGISTIC_SOLVER_CONVERGENCE_MSG)\n"
     ]
    }
   ],
   "source": [
    "run_logreg(sets2)"
   ]
  },
  {
   "cell_type": "code",
   "execution_count": 42,
   "metadata": {},
   "outputs": [],
   "source": [
    "def run_svm(sets): \n",
    "    x_train, y_train, x_val, y_val, x_test, y_test, text_train, text_val, text_test = sets\n",
    "    print('Build SVM model ...')\n",
    "    #[x_train, y_train, x_val, y_val, x_test, y_test] = pickle.load(open('/Users/andrealequin/Desktop/Stage_NLP/Simple_extraction/dumps/'+str(num_set)+'.dat', \"rb\"))\n",
    "    svm = LinearSVC(C=0.0001)\n",
    "    svm = CalibratedClassifierCV(svm)\n",
    "    svm.fit(x_train, y_train)\n",
    "    y_pred = svm.predict(x_train)\n",
    "    acc = accuracy_score(y_train, y_pred)\n",
    "    y_pred = svm.predict(x_val)\n",
    "    val_acc = accuracy_score(y_val, y_pred)\n",
    "\n",
    "    print('acc :', acc)\n",
    "    print('val acc :', val_acc)\n",
    "    print(y_pred)\n",
    "    print(classification_report(y_val, y_pred))\n",
    "    print(confusion_matrix(y_val, y_pred))\n",
    "    return #svm.predict_proba(np.concatenate((x_train, x_val), axis=0))[:, 1], \\\n",
    "           #svm.predict_proba(x_test)[:, 1], \\\n",
    "           #np.concatenate((y_train, y_val), axis=0)"
   ]
  },
  {
   "cell_type": "code",
   "execution_count": 44,
   "metadata": {},
   "outputs": [
    {
     "name": "stdout",
     "output_type": "stream",
     "text": [
      "Build SVM model ...\n",
      "acc : 0.8384193194291987\n",
      "val acc : 0.8212885154061624\n",
      "[4 4 4 ... 3 3 3]\n",
      "              precision    recall  f1-score   support\n",
      "\n",
      "           0       0.94      0.83      0.88       400\n",
      "           1       0.84      0.91      0.87       400\n",
      "           2       0.82      0.77      0.79       185\n",
      "           3       0.81      0.80      0.80       400\n",
      "           4       0.71      0.77      0.74       400\n",
      "\n",
      "    accuracy                           0.82      1785\n",
      "   macro avg       0.83      0.82      0.82      1785\n",
      "weighted avg       0.83      0.82      0.82      1785\n",
      "\n",
      "[[334   5   1  28  32]\n",
      " [  3 362   2   9  24]\n",
      " [  1   3 142  20  19]\n",
      " [  4   8  19 321  48]\n",
      " [ 13  51   9  20 307]]\n"
     ]
    }
   ],
   "source": [
    "run_svm(sets)"
   ]
  },
  {
   "cell_type": "code",
   "execution_count": 10,
   "metadata": {},
   "outputs": [],
   "source": [
    "def run_RandomForest(sets):\n",
    "    x_train, y_train, x_val, y_val, x_test, y_test, text_train, text_val, text_test = sets\n",
    "    print('Build Random Forest model ...')\n",
    "    #[x_train, y_train, x_val, y_val, x_test, y_test] = pickle.load(open('/Users/andrealequin/Desktop/Stage_NLP/Simple_extraction/dumps/'+str(num_set)+'.dat', \"rb\"))\n",
    "    clf = RandomForestClassifier(max_depth=3, random_state=0)\n",
    "    clf.fit(x_train, y_train)\n",
    "    y_pred = clf.predict(x_train)\n",
    "    acc = accuracy_score(y_train, y_pred)\n",
    "    y_pred = clf.predict(x_val)\n",
    "    val_acc = accuracy_score(y_val, y_pred)\n",
    "    \n",
    "    print('acc :', acc)\n",
    "    print('val acc :', val_acc)\n",
    "    print(classification_report(y_val, y_pred))\n",
    "    print(confusion_matrix(y_val, y_pred))\n",
    "    \n",
    "    return #clf.predict_proba(np.concatenate((x_train, x_val), axis=0))[:, 1], \\\n",
    "           #clf.predict_proba(x_test)[:, 1], \\\n",
    "           #np.concatenate((y_train, y_val), axis=0) "
   ]
  },
  {
   "cell_type": "code",
   "execution_count": 11,
   "metadata": {},
   "outputs": [
    {
     "name": "stdout",
     "output_type": "stream",
     "text": [
      "Build Random Forest model ...\n",
      "acc : 0.7054884742041713\n",
      "val acc : 0.6868347338935574\n",
      "              precision    recall  f1-score   support\n",
      "\n",
      "           0       0.87      0.86      0.87       400\n",
      "           1       0.75      0.89      0.82       400\n",
      "           2       1.00      0.01      0.01       185\n",
      "           3       0.55      0.80      0.65       400\n",
      "           4       0.61      0.51      0.56       400\n",
      "\n",
      "    accuracy                           0.69      1785\n",
      "   macro avg       0.76      0.61      0.58      1785\n",
      "weighted avg       0.73      0.69      0.65      1785\n",
      "\n",
      "[[345  10   0  29  16]\n",
      " [  3 355   0  30  12]\n",
      " [  4   5   1 116  59]\n",
      " [ 21  14   0 320  45]\n",
      " [ 24  87   0  84 205]]\n"
     ]
    }
   ],
   "source": [
    "run_RandomForest(sets)"
   ]
  },
  {
   "cell_type": "markdown",
   "metadata": {},
   "source": [
    "## RNN"
   ]
  },
  {
   "cell_type": "markdown",
   "metadata": {},
   "source": [
    "#### Text to sequences Train/Val/Test"
   ]
  },
  {
   "cell_type": "code",
   "execution_count": 68,
   "metadata": {},
   "outputs": [],
   "source": [
    "MAX_NB_WORDS = 50000\n",
    "MAX_SEQUENCE_LENGTH = 250\n",
    "EMBEDDING_DIM = 100"
   ]
  },
  {
   "cell_type": "code",
   "execution_count": 13,
   "metadata": {},
   "outputs": [
    {
     "name": "stdout",
     "output_type": "stream",
     "text": [
      "Found 254729 unique tokens.\n"
     ]
    }
   ],
   "source": [
    "tokenizer = Tokenizer(num_words=MAX_NB_WORDS, filters='!\"#$%&()*+,-./:;<=>?@[\\]^_`{|}~', lower= True)\n",
    "#tokenizer.fit_on_texts(text_train+text_val+text_test)\n",
    "tokenizer.fit_on_texts(text_train)\n",
    "word_index = tokenizer.word_index\n",
    "print('Found %s unique tokens.' % len(word_index))"
   ]
  },
  {
   "cell_type": "code",
   "execution_count": 14,
   "metadata": {},
   "outputs": [],
   "source": [
    "X_train = tokenizer.texts_to_sequences(text_train)\n",
    "X_train = pad_sequences(X_train, maxlen=MAX_SEQUENCE_LENGTH)\n",
    "X_val = tokenizer.texts_to_sequences(text_val)\n",
    "X_val = pad_sequences(X_val, maxlen=MAX_SEQUENCE_LENGTH)\n",
    "X_test = tokenizer.texts_to_sequences(text_test)\n",
    "X_test = pad_sequences(X_test, maxlen=MAX_SEQUENCE_LENGTH)"
   ]
  },
  {
   "cell_type": "code",
   "execution_count": 15,
   "metadata": {},
   "outputs": [],
   "source": [
    "Y_train = pd.get_dummies(y_train).values\n",
    "Y_val = pd.get_dummies(y_val).values\n",
    "Y_test = pd.get_dummies(y_test).values"
   ]
  },
  {
   "cell_type": "code",
   "execution_count": 16,
   "metadata": {},
   "outputs": [
    {
     "name": "stdout",
     "output_type": "stream",
     "text": [
      "(9110, 250) (9110, 5)\n",
      "(1785, 250) (1785, 5)\n",
      "(1785, 250) (1785, 5)\n"
     ]
    }
   ],
   "source": [
    "print(X_train.shape,Y_train.shape)\n",
    "print(X_val.shape,Y_val.shape)\n",
    "print(X_test.shape,Y_test.shape)"
   ]
  },
  {
   "cell_type": "code",
   "execution_count": 17,
   "metadata": {},
   "outputs": [
    {
     "name": "stdout",
     "output_type": "stream",
     "text": [
      "[[0 1 0 0 0]\n",
      " [0 0 0 0 1]\n",
      " [0 0 0 0 1]\n",
      " [0 0 1 0 0]\n",
      " [0 0 0 1 0]\n",
      " [0 0 0 1 0]\n",
      " [0 0 0 0 1]\n",
      " [1 0 0 0 0]\n",
      " [0 0 0 1 0]\n",
      " [1 0 0 0 0]]\n",
      "[[  266    35 19509 ...  1952 16812   627]\n",
      " [ 1407   198  3337 ...  3976    20  1474]\n",
      " [ 5768 11678  2751 ...  4485  2822   272]\n",
      " ...\n",
      " [ 4764 47264   304 ...  4689   592   183]\n",
      " [    0     0     0 ...   281  2659   376]\n",
      " [  582  1525 17734 ...   235   668   244]]\n"
     ]
    }
   ],
   "source": [
    "print(Y_train[:10])\n",
    "print(X_train[:10])"
   ]
  },
  {
   "cell_type": "markdown",
   "metadata": {},
   "source": [
    "### Keras embeddings"
   ]
  },
  {
   "cell_type": "markdown",
   "metadata": {},
   "source": [
    "### Model 1"
   ]
  },
  {
   "cell_type": "code",
   "execution_count": 19,
   "metadata": {},
   "outputs": [
    {
     "name": "stdout",
     "output_type": "stream",
     "text": [
      "Model: \"sequential_2\"\n",
      "_________________________________________________________________\n",
      "Layer (type)                 Output Shape              Param #   \n",
      "=================================================================\n",
      "embedding_1 (Embedding)      (None, 250, 100)          5000000   \n",
      "_________________________________________________________________\n",
      "lstm_1 (LSTM)                (None, 50)                30200     \n",
      "_________________________________________________________________\n",
      "dense_1 (Dense)              (None, 5)                 255       \n",
      "_________________________________________________________________\n",
      "activation_1 (Activation)    (None, 5)                 0         \n",
      "=================================================================\n",
      "Total params: 5,030,455\n",
      "Trainable params: 5,030,455\n",
      "Non-trainable params: 0\n",
      "_________________________________________________________________\n",
      "None\n"
     ]
    }
   ],
   "source": [
    "model = Sequential()\n",
    "model.name=\"Model 1\"\n",
    "model.add(Embedding(MAX_NB_WORDS, EMBEDDING_DIM, input_length=X_train.shape[1]))\n",
    "#model.add(Bidirectional(LSTM(10, return_sequences=True), input_shape=(5, 10)))\n",
    "model.add(LSTM(50))\n",
    "model.add(Dense(5))\n",
    "model.add(Activation('softmax'))\n",
    "model.compile(loss='categorical_crossentropy', optimizer='adam', metrics=['accuracy'])\n",
    "print(model.summary())"
   ]
  },
  {
   "cell_type": "markdown",
   "metadata": {},
   "source": [
    "### Model 2"
   ]
  },
  {
   "cell_type": "code",
   "execution_count": 23,
   "metadata": {},
   "outputs": [
    {
     "name": "stdout",
     "output_type": "stream",
     "text": [
      "Model: \"Model 2\"\n",
      "_________________________________________________________________\n",
      "Layer (type)                 Output Shape              Param #   \n",
      "=================================================================\n",
      "embedding_3 (Embedding)      (None, 250, 100)          5000000   \n",
      "_________________________________________________________________\n",
      "spatial_dropout1d_2 (Spatial (None, 250, 100)          0         \n",
      "_________________________________________________________________\n",
      "lstm_3 (LSTM)                (None, 100)               80400     \n",
      "_________________________________________________________________\n",
      "dense_3 (Dense)              (None, 5)                 505       \n",
      "=================================================================\n",
      "Total params: 5,080,905\n",
      "Trainable params: 5,080,905\n",
      "Non-trainable params: 0\n",
      "_________________________________________________________________\n",
      "None\n"
     ]
    }
   ],
   "source": [
    "model = Sequential()\n",
    "model.name=\"Model 2\"\n",
    "model.add(Embedding(MAX_NB_WORDS, EMBEDDING_DIM, input_length=X_train.shape[1]))\n",
    "model.add(SpatialDropout1D(0.2))\n",
    "model.add(LSTM(100, dropout=0.2, recurrent_dropout=0.2))\n",
    "model.add(Dense(5, activation='softmax'))\n",
    "model.compile(loss='categorical_crossentropy', optimizer='adam', metrics=['accuracy'])\n",
    "print(model.summary())"
   ]
  },
  {
   "cell_type": "markdown",
   "metadata": {},
   "source": [
    "### Model 3"
   ]
  },
  {
   "cell_type": "code",
   "execution_count": 38,
   "metadata": {},
   "outputs": [
    {
     "name": "stdout",
     "output_type": "stream",
     "text": [
      "Model: \"Model 3\"\n",
      "_________________________________________________________________\n",
      "Layer (type)                 Output Shape              Param #   \n",
      "=================================================================\n",
      "embedding_12 (Embedding)     (None, 250, 100)          5000000   \n",
      "_________________________________________________________________\n",
      "bidirectional_3 (Bidirection (None, 250, 20)           8880      \n",
      "_________________________________________________________________\n",
      "bidirectional_4 (Bidirection (None, 20)                2480      \n",
      "_________________________________________________________________\n",
      "dense_16 (Dense)             (None, 5)                 105       \n",
      "_________________________________________________________________\n",
      "activation_6 (Activation)    (None, 5)                 0         \n",
      "=================================================================\n",
      "Total params: 5,011,465\n",
      "Trainable params: 5,011,465\n",
      "Non-trainable params: 0\n",
      "_________________________________________________________________\n",
      "None\n"
     ]
    }
   ],
   "source": [
    "model = Sequential()\n",
    "model.name=\"Model 3\"\n",
    "model.add(Embedding(MAX_NB_WORDS, EMBEDDING_DIM, input_length=X_train.shape[1]))\n",
    "model.add(Bidirectional(LSTM(10, return_sequences=True), input_shape=(5, 10)))\n",
    "model.add(Bidirectional(LSTM(10)))\n",
    "model.add(Dense(5))\n",
    "model.add(Activation('softmax'))\n",
    "model.compile(loss='categorical_crossentropy', optimizer='adam', metrics=['accuracy'])\n",
    "print(model.summary())"
   ]
  },
  {
   "cell_type": "markdown",
   "metadata": {},
   "source": [
    "### Model 4"
   ]
  },
  {
   "cell_type": "code",
   "execution_count": 72,
   "metadata": {},
   "outputs": [
    {
     "name": "stdout",
     "output_type": "stream",
     "text": [
      "Model: \"Model 4\"\n",
      "_________________________________________________________________\n",
      "Layer (type)                 Output Shape              Param #   \n",
      "=================================================================\n",
      "embedding_20 (Embedding)     (None, 250, 100)          5000000   \n",
      "_________________________________________________________________\n",
      "dense_31 (Dense)             (None, 250, 64)           6464      \n",
      "_________________________________________________________________\n",
      "flatten_8 (Flatten)          (None, 16000)             0         \n",
      "_________________________________________________________________\n",
      "dense_32 (Dense)             (None, 5)                 80005     \n",
      "_________________________________________________________________\n",
      "activation_8 (Activation)    (None, 5)                 0         \n",
      "=================================================================\n",
      "Total params: 5,086,469\n",
      "Trainable params: 5,086,469\n",
      "Non-trainable params: 0\n",
      "_________________________________________________________________\n",
      "None\n"
     ]
    }
   ],
   "source": [
    "model = Sequential()\n",
    "model.name=\"Model 4\"\n",
    "model.add(Embedding(MAX_NB_WORDS, EMBEDDING_DIM, input_length=X_train.shape[1]))\n",
    "model.add(Dense(64, activation='relu'))\n",
    "model.add(Flatten())\n",
    "#model.add(Dense(64))\n",
    "model.add(Dense(5))\n",
    "model.add(Activation('softmax'))\n",
    "model.compile(loss='categorical_crossentropy', optimizer='adam', metrics=['accuracy'])\n",
    "print(model.summary())"
   ]
  },
  {
   "cell_type": "code",
   "execution_count": null,
   "metadata": {
    "collapsed": true
   },
   "outputs": [],
   "source": [
    "#mettre un predict\n",
    "#verifier meme taille que les batch + positif entre 01"
   ]
  },
  {
   "cell_type": "markdown",
   "metadata": {},
   "source": [
    "### Model 5"
   ]
  },
  {
   "cell_type": "code",
   "execution_count": 64,
   "metadata": {},
   "outputs": [
    {
     "name": "stdout",
     "output_type": "stream",
     "text": [
      "Model: \"Model 5\"\n",
      "_________________________________________________________________\n",
      "Layer (type)                 Output Shape              Param #   \n",
      "=================================================================\n",
      "embedding_18 (Embedding)     (None, 250, 50)           2500000   \n",
      "_________________________________________________________________\n",
      "conv1d_6 (Conv1D)            (None, 250, 55)           2805      \n",
      "_________________________________________________________________\n",
      "max_pooling1d_6 (MaxPooling1 (None, 125, 55)           0         \n",
      "_________________________________________________________________\n",
      "flatten_6 (Flatten)          (None, 6875)              0         \n",
      "_________________________________________________________________\n",
      "dense_27 (Dense)             (None, 250)               1719000   \n",
      "_________________________________________________________________\n",
      "dense_28 (Dense)             (None, 5)                 1255      \n",
      "=================================================================\n",
      "Total params: 4,223,060\n",
      "Trainable params: 4,223,060\n",
      "Non-trainable params: 0\n",
      "_________________________________________________________________\n",
      "None\n"
     ]
    }
   ],
   "source": [
    "model = Sequential()\n",
    "model.name=\"Model 5\"\n",
    "model.add(Embedding(MAX_NB_WORDS, EMBEDDING_DIM, input_length=X_train.shape[1]))\n",
    "model.add(Convolution1D(filters=55, kernel_size=1, padding='same', activation='relu'))\n",
    "model.add(MaxPooling1D(pool_size=2))\n",
    "model.add(Flatten())\n",
    "model.add(Dense(250, activation='relu'))\n",
    "model.add(Dense(5, activation='sigmoid'))\n",
    "#opt = tf.keras.optimizers.SGD(learning_rate=0.1)\n",
    "opt = 'adam'\n",
    "model.compile(loss='categorical_crossentropy', optimizer=opt, metrics=['accuracy'])\n",
    "print(model.summary())"
   ]
  },
  {
   "cell_type": "markdown",
   "metadata": {},
   "source": [
    "### Word2vec embeddings"
   ]
  },
  {
   "cell_type": "code",
   "execution_count": 82,
   "metadata": {},
   "outputs": [],
   "source": [
    "from gensim.models import Word2Vec"
   ]
  },
  {
   "cell_type": "markdown",
   "metadata": {},
   "source": [
    "#### Training Word2vec on the train corpus"
   ]
  },
  {
   "cell_type": "code",
   "execution_count": 87,
   "metadata": {},
   "outputs": [
    {
     "data": {
      "text/plain": [
       "9110"
      ]
     },
     "execution_count": 87,
     "metadata": {},
     "output_type": "execute_result"
    }
   ],
   "source": [
    "len(text_train)"
   ]
  },
  {
   "cell_type": "code",
   "execution_count": null,
   "metadata": {},
   "outputs": [
    {
     "name": "stdout",
     "output_type": "stream",
     "text": [
      "Building Word2Vec Model ...\n"
     ]
    },
    {
     "name": "stderr",
     "output_type": "stream",
     "text": [
      "/Users/andrealequin/anaconda/envs/envtf/lib/python3.7/site-packages/gensim/models/base_any2vec.py:743: UserWarning: C extension not loaded, training will be slow. Install a C compiler and reinstall gensim for fast training.\n",
      "  \"C extension not loaded, training will be slow. \"\n"
     ]
    }
   ],
   "source": [
    "t0 = time.time()\n",
    "print('Building Word2Vec Model ...')\n",
    "model = Word2Vec(list_sentences_train, min_count=5,workers=50)\n",
    "t1 = time.time()\n",
    "print('Time for building Word2Vec model : ', '%.1f' % (t1-t0),'s')\n",
    "print(model)\n",
    "words = list(model.wv.vocab)\n",
    "#print(words)\n",
    "print(model['computer'])\n",
    "model.save('model.bin')\n",
    "#new_model = Word2Vec.load('model.bin')\n",
    "#print(new_model)"
   ]
  },
  {
   "cell_type": "markdown",
   "metadata": {},
   "source": [
    "#### Using Google Word2vec embedding"
   ]
  },
  {
   "cell_type": "code",
   "execution_count": null,
   "metadata": {},
   "outputs": [],
   "source": [
    "from gensim.models import KeyedVectors\n",
    "filename = 'GoogleNews-vectors-negative300.bin'\n",
    "model = KeyedVectors.load_word2vec_format(filename, binary=True)"
   ]
  },
  {
   "cell_type": "code",
   "execution_count": null,
   "metadata": {},
   "outputs": [],
   "source": [
    "result = model.most_similar(positive=['woman', 'king'], negative=['man'], topn=1)\n",
    "print(result)"
   ]
  },
  {
   "cell_type": "markdown",
   "metadata": {},
   "source": [
    "#### Using Stanford Glove embedding"
   ]
  },
  {
   "cell_type": "code",
   "execution_count": null,
   "metadata": {},
   "outputs": [],
   "source": []
  },
  {
   "cell_type": "code",
   "execution_count": null,
   "metadata": {},
   "outputs": [],
   "source": []
  },
  {
   "cell_type": "markdown",
   "metadata": {},
   "source": [
    "### Training"
   ]
  },
  {
   "cell_type": "code",
   "execution_count": 73,
   "metadata": {},
   "outputs": [
    {
     "name": "stdout",
     "output_type": "stream",
     "text": [
      "Model 4\n",
      "Train on 9110 samples, validate on 1785 samples\n",
      "Epoch 1/8\n",
      "9110/9110 [==============================] - 6s 661us/step - loss: 1.4519 - accuracy: 0.3969 - val_loss: 1.0698 - val_accuracy: 0.6022\n",
      "Epoch 2/8\n",
      "9110/9110 [==============================] - 6s 614us/step - loss: 0.7015 - accuracy: 0.7610 - val_loss: 0.6726 - val_accuracy: 0.7922\n",
      "Epoch 3/8\n",
      "9110/9110 [==============================] - 5s 598us/step - loss: 0.2892 - accuracy: 0.9154 - val_loss: 0.6103 - val_accuracy: 0.8112\n",
      "Epoch 4/8\n",
      "9110/9110 [==============================] - 6s 609us/step - loss: 0.1472 - accuracy: 0.9544 - val_loss: 0.6613 - val_accuracy: 0.8129\n",
      "Epoch 5/8\n",
      "9110/9110 [==============================] - 6s 609us/step - loss: 0.0999 - accuracy: 0.9654 - val_loss: 0.7345 - val_accuracy: 0.8067\n",
      "Epoch 6/8\n",
      "9110/9110 [==============================] - 6s 615us/step - loss: 0.0939 - accuracy: 0.9671 - val_loss: 0.7324 - val_accuracy: 0.8157\n",
      "Epoch 7/8\n",
      "9110/9110 [==============================] - 6s 628us/step - loss: 0.0848 - accuracy: 0.9681 - val_loss: 0.7511 - val_accuracy: 0.8073\n",
      "Epoch 8/8\n",
      "9110/9110 [==============================] - 7s 813us/step - loss: 0.0860 - accuracy: 0.9658 - val_loss: 0.7536 - val_accuracy: 0.8106\n"
     ]
    }
   ],
   "source": [
    "epochs = 8\n",
    "batch_size = 256\n",
    "print(model.name)\n",
    "history = model.fit(X_train, Y_train, epochs=epochs, batch_size=batch_size,validation_data=(X_val, Y_val))#,callbacks=[EarlyStopping(monitor='val_loss', patience=20, min_delta=0.0001)])"
   ]
  },
  {
   "cell_type": "code",
   "execution_count": 33,
   "metadata": {},
   "outputs": [
    {
     "name": "stdout",
     "output_type": "stream",
     "text": [
      "[[0 0 0 1 0]\n",
      " [0 0 0 0 1]\n",
      " [1 0 0 0 0]\n",
      " [1 0 0 0 0]\n",
      " [0 0 0 1 0]\n",
      " [0 0 0 0 1]\n",
      " [0 0 1 0 0]\n",
      " [0 1 0 0 0]\n",
      " [0 1 0 0 0]\n",
      " [0 1 0 0 0]]\n",
      "[[1.3528421e-03 1.6186993e-03 2.9330724e-03 9.8596579e-01 8.1295492e-03]\n",
      " [6.4366329e-03 7.4076112e-03 3.0724794e-02 6.0917634e-01 3.4625465e-01]\n",
      " [9.9642700e-01 7.4894115e-04 1.7196660e-04 2.3224107e-03 3.2957166e-04]\n",
      " [9.9900609e-01 1.2309388e-04 1.5877011e-04 5.8633450e-04 1.2579457e-04]\n",
      " [3.6167121e-04 5.9294113e-04 7.2164985e-05 9.9885881e-01 1.1438524e-04]\n",
      " [3.4427838e-03 7.4790544e-03 1.1190693e-01 1.3553496e-02 8.6361778e-01]\n",
      " [1.1727656e-03 3.0610533e-04 9.9129301e-01 5.3895530e-03 1.8385195e-03]\n",
      " [2.3449161e-03 9.6384054e-01 2.2051315e-04 2.7292161e-03 3.0864786e-02]\n",
      " [1.0065999e-03 9.8953307e-01 7.6744836e-05 7.9820881e-04 8.5853152e-03]\n",
      " [9.7230133e-03 2.3949926e-03 9.4043946e-01 1.8279720e-02 2.9162794e-02]]\n"
     ]
    }
   ],
   "source": [
    "print(Y_test[:10])\n",
    "predi = model.predict(X_test[:10])\n",
    "print(predi)"
   ]
  },
  {
   "cell_type": "code",
   "execution_count": 50,
   "metadata": {},
   "outputs": [
    {
     "name": "stdout",
     "output_type": "stream",
     "text": [
      "[4 4 1 ... 3 3 3]\n",
      "[4 4 4 ... 3 3 3]\n",
      "[[338   8   1  39  14]\n",
      " [  8 346   2   7  37]\n",
      " [  3   7 108  42  25]\n",
      " [ 17   6  26 312  39]\n",
      " [ 13  48  21  52 266]]\n"
     ]
    }
   ],
   "source": [
    "#Confusion matrix\n",
    "Y_pred = model.predict(X_test)\n",
    "y_pred_test = np.argmax(Y_pred, axis=1)\n",
    "print(y_pred)\n",
    "Y_test_int = np.argmax(Y_test, axis=1)\n",
    "print(Y_test_int)\n",
    "print(confusion_matrix(Y_test_int, y_pred_test))"
   ]
  },
  {
   "cell_type": "code",
   "execution_count": 58,
   "metadata": {},
   "outputs": [
    {
     "name": "stdout",
     "output_type": "stream",
     "text": [
      "911/911 [==============================] - 2s 2ms/step\n",
      "Test set\n",
      "  Loss: 2.092\n",
      "  Accuracy: 0.215\n"
     ]
    }
   ],
   "source": [
    "accr = model.evaluate(X_test,Y_test)\n",
    "print('Test set\\n  Loss: {:0.3f}\\n  Accuracy: {:0.3f}'.format(accr[0],accr[1]))"
   ]
  },
  {
   "cell_type": "code",
   "execution_count": null,
   "metadata": {},
   "outputs": [],
   "source": [
    "plt.title('Loss')\n",
    "plt.plot(history.history['loss'], label='train')\n",
    "plt.plot(history.history['val_loss'], label='val')\n",
    "plt.legend()\n",
    "plt.show();"
   ]
  },
  {
   "cell_type": "code",
   "execution_count": 36,
   "metadata": {
    "scrolled": true
   },
   "outputs": [
    {
     "data": {
      "image/png": "[encoded data removed]",
      "text/plain": [
       "<Figure size 432x288 with 1 Axes>"
      ]
     },
     "metadata": {
      "needs_background": "light"
     },
     "output_type": "display_data"
    }
   ],
   "source": [
    "plt.title('Accuracy')\n",
    "plt.plot(history.history['accuracy'], label='train')\n",
    "plt.plot(history.history['val_accuracy'], label='val')\n",
    "plt.legend()\n",
    "plt.show();"
   ]
  }
 ],
 "metadata": {
  "kernelspec": {
   "display_name": "Python 3",
   "language": "python",
   "name": "python3"
  },
  "language_info": {
   "codemirror_mode": {
    "name": "ipython",
    "version": 3
   },
   "file_extension": ".py",
   "mimetype": "text/x-python",
   "name": "python",
   "nbconvert_exporter": "python",
   "pygments_lexer": "ipython3",
   "version": "3.7.5"
  }
 },
 "nbformat": 4,
 "nbformat_minor": 2
}
